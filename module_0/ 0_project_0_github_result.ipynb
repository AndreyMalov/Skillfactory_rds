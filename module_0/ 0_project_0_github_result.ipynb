{
 "cells": [
  {
   "cell_type": "code",
   "execution_count": 22,
   "metadata": {},
   "outputs": [
    {
     "name": "stdout",
     "output_type": "stream",
     "text": [
      "Ваш алгоритм угадывает число в среднем за 5 попыток\n"
     ]
    },
    {
     "data": {
      "text/plain": [
       "5"
      ]
     },
     "execution_count": 22,
     "metadata": {},
     "output_type": "execute_result"
    }
   ],
   "source": [
    "import numpy as np\n",
    "def game_core_v4(number):       \n",
    "    '''The function takes a hidden number and returns the number of attempts' '''    \n",
    "    guess_range = 100                         # The range of the hidden number is initialized and set\n",
    "    step_index = 2                            # An auxiliary index is initialized for calculating the iteration step\n",
    "    count = 1                               \n",
    "    predict = guess_range / step_index        \n",
    "    step = predict                          \n",
    "\n",
    "    while number != predict:\n",
    "        count += 1\n",
    "        '''The next iteration step is calculated. If, according to calculations, it is less than 1, (i.e. 0), then we assign 1'''\n",
    "        step_index = (step_index*2)\n",
    "        step = round(guess_range / step_index) if step >= 1 else 1\n",
    "\n",
    "        if number > predict:      \n",
    "                predict += step   \n",
    "        elif number < predict: \n",
    "                predict -= step   \n",
    "    return(count)                 \n",
    "\n",
    "\n",
    "def score_game(game_core):\n",
    "    '''The function starts the game 1000 times to see how quickly the game guesses the number'''\n",
    "    count_ls = []\n",
    "    np.random.seed(1)  # Commit RANDOM SEED, so your experiment is reproducible.\n",
    "    random_array = np.random.randint(1,101, size=(1000))\n",
    "    for number in random_array:\n",
    "        count_ls.append(game_core(number))\n",
    "    score = int(np.mean(count_ls))\n",
    "    print(f\"Ваш алгоритм угадывает число в среднем за {score} попыток\")   \n",
    "    return(score)\n",
    "\n",
    "# Run\n",
    "score_game(game_core_v4)"
   ]
  },
  {
   "cell_type": "code",
   "execution_count": null,
   "metadata": {},
   "outputs": [],
   "source": []
  },
  {
   "cell_type": "code",
   "execution_count": null,
   "metadata": {},
   "outputs": [],
   "source": []
  }
 ],
 "metadata": {
  "kernelspec": {
   "display_name": "Python 3",
   "language": "python",
   "name": "python3"
  },
  "language_info": {
   "codemirror_mode": {
    "name": "ipython",
    "version": 3
   },
   "file_extension": ".py",
   "mimetype": "text/x-python",
   "name": "python",
   "nbconvert_exporter": "python",
   "pygments_lexer": "ipython3",
   "version": "3.8.3"
  }
 },
 "nbformat": 4,
 "nbformat_minor": 4
}
