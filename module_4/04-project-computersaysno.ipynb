{
 "cells": [
  {
   "cell_type": "markdown",
   "metadata": {},
   "source": [
    "# 04 project\n",
    "\n",
    "# Computer Says No\n"
   ]
  },
  {
   "cell_type": "markdown",
   "metadata": {},
   "source": [
    "### Импорт библиотек"
   ]
  },
  {
   "cell_type": "code",
   "execution_count": 1100,
   "metadata": {
    "ExecuteTime": {
     "end_time": "2020-12-26T08:33:26.685116Z",
     "start_time": "2020-12-26T08:33:24.584533Z"
    }
   },
   "outputs": [
    {
     "name": "stdout",
     "output_type": "stream",
     "text": [
      "/kaggle/input/sf-dst-scoring/sample_submission.csv\n",
      "/kaggle/input/sf-dst-scoring/train.csv\n",
      "/kaggle/input/sf-dst-scoring/test.csv\n"
     ]
    }
   ],
   "source": [
    "import warnings\n",
    "from pandas import Series\n",
    "import pandas as pd\n",
    "import numpy as np\n",
    "import collections\n",
    "\n",
    "import matplotlib.pyplot as plt\n",
    "import seaborn as sns\n",
    "\n",
    "from sklearn.feature_selection import f_classif, mutual_info_classif\n",
    "from sklearn.preprocessing import LabelEncoder, OneHotEncoder, StandardScaler\n",
    "from sklearn.preprocessing import PolynomialFeatures\n",
    "\n",
    "from sklearn.model_selection import train_test_split\n",
    "from sklearn.linear_model import LogisticRegression\n",
    "\n",
    "from sklearn.model_selection import GridSearchCV\n",
    "\n",
    "from sklearn.metrics import confusion_matrix\n",
    "from sklearn.metrics import auc, roc_auc_score, roc_curve\n",
    "from sklearn.metrics import recall_score, precision_score, f1_score, log_loss\n",
    "from sklearn.metrics import accuracy_score\n",
    "\n",
    "\n",
    "import matplotlib\n",
    "plt.style.use('ggplot')\n",
    "%matplotlib inline\n",
    "matplotlib.rcParams['figure.figsize'] = (12, 8)\n",
    "\n",
    "pd.set_option('display.max_rows', 50)  # показывать больше строк\n",
    "pd.set_option('display.max_columns', 50)  # показывать больше колонок\n",
    "\n",
    "import os\n",
    "for dirname, _, filenames in os.walk('/kaggle/input'):\n",
    "    for filename in filenames:\n",
    "        print(os.path.join(dirname, filename))\n",
    "\n",
    "warnings.filterwarnings(\"ignore\")  # Убирает некритические сообщения"
   ]
  },
  {
   "cell_type": "markdown",
   "metadata": {},
   "source": [
    "## Предобработка"
   ]
  },
  {
   "cell_type": "code",
   "execution_count": 1101,
   "metadata": {},
   "outputs": [],
   "source": [
    "# Печать основных метрик (асс f1)\n",
    "def print_logisitc_metrics(y_true, y_pred):\n",
    "    acc = accuracy_score(y_true, y_pred)\n",
    "    f1 = f1_score(y_true, y_pred)\n",
    "    print(f'acc = {acc:.2f} F1-score = {f1:.2f}')\n",
    "    \n",
    "# Определение межквартильных расстояний для оценки выбросов\n",
    "\n",
    "def outliers_iqr(ys):\n",
    "    quartile_1, quartile_3 = np.percentile(ys, [25, 75])\n",
    "    iqr = quartile_3 - quartile_1\n",
    "    lower_bound = quartile_1 - (iqr * 1.5)\n",
    "    upper_bound = quartile_3 + (iqr * 1.5)\n",
    "    return lower_bound, upper_bound\n",
    "\n",
    "# Отрисовать ROC кривую\n",
    "def calc_and_plot_roc(y_true, y_pred_proba):\n",
    "    # Посчитать значения ROC кривой и значение площади под кривой AUC\n",
    "    fpr, tpr, thresholds = roc_curve(y_true, y_pred_proba)\n",
    "    roc_auc = roc_auc_score(y_true, y_pred_proba)\n",
    "    \n",
    "    plt.figure(figsize=(8, 8))\n",
    "    plt.plot([0, 1], label='Baseline', linestyle='--')\n",
    "    plt.plot(fpr, tpr, label='Regression')\n",
    "    plt.title('Logistic Regression (ROC AUC = %0.5f)' % roc_auc)\n",
    "    \n",
    "    # Подписи осей, легенда.\n",
    "    plt.xlabel('False positive rate (FPR)', fontsize=15)\n",
    "    plt.ylabel('True positive rate (TPR)', fontsize=15)\n",
    "    plt.legend(loc='lower right')"
   ]
  },
  {
   "cell_type": "markdown",
   "metadata": {},
   "source": [
    "## Анализ датасета"
   ]
  },
  {
   "cell_type": "code",
   "execution_count": 1102,
   "metadata": {
    "ExecuteTime": {
     "end_time": "2020-12-26T08:33:27.144813Z",
     "start_time": "2020-12-26T08:33:26.688131Z"
    }
   },
   "outputs": [],
   "source": [
    "train = pd.read_csv('/kaggle/input/sf-dst-scoring/train.csv')\n",
    "test = pd.read_csv('/kaggle/input/sf-dst-scoring/test.csv')\n",
    "sample_submission = pd.read_csv('/kaggle/input/sf-dst-scoring/sample_submission.csv')"
   ]
  },
  {
   "cell_type": "code",
   "execution_count": 1103,
   "metadata": {},
   "outputs": [],
   "source": [
    "# Показывать больше колонок\n",
    "pd.set_option('display.max_columns', None)"
   ]
  },
  {
   "cell_type": "code",
   "execution_count": 1104,
   "metadata": {},
   "outputs": [
    {
     "data": {
      "text/html": [
       "<div>\n",
       "<style scoped>\n",
       "    .dataframe tbody tr th:only-of-type {\n",
       "        vertical-align: middle;\n",
       "    }\n",
       "\n",
       "    .dataframe tbody tr th {\n",
       "        vertical-align: top;\n",
       "    }\n",
       "\n",
       "    .dataframe thead th {\n",
       "        text-align: right;\n",
       "    }\n",
       "</style>\n",
       "<table border=\"1\" class=\"dataframe\">\n",
       "  <thead>\n",
       "    <tr style=\"text-align: right;\">\n",
       "      <th></th>\n",
       "      <th>client_id</th>\n",
       "      <th>app_date</th>\n",
       "      <th>education</th>\n",
       "      <th>sex</th>\n",
       "      <th>age</th>\n",
       "      <th>car</th>\n",
       "      <th>car_type</th>\n",
       "      <th>decline_app_cnt</th>\n",
       "      <th>good_work</th>\n",
       "      <th>score_bki</th>\n",
       "      <th>bki_request_cnt</th>\n",
       "      <th>region_rating</th>\n",
       "      <th>home_address</th>\n",
       "      <th>work_address</th>\n",
       "      <th>income</th>\n",
       "      <th>sna</th>\n",
       "      <th>first_time</th>\n",
       "      <th>foreign_passport</th>\n",
       "      <th>default</th>\n",
       "    </tr>\n",
       "  </thead>\n",
       "  <tbody>\n",
       "    <tr>\n",
       "      <th>0</th>\n",
       "      <td>25905</td>\n",
       "      <td>01FEB2014</td>\n",
       "      <td>SCH</td>\n",
       "      <td>M</td>\n",
       "      <td>62</td>\n",
       "      <td>Y</td>\n",
       "      <td>Y</td>\n",
       "      <td>0</td>\n",
       "      <td>0</td>\n",
       "      <td>-2.008753</td>\n",
       "      <td>1</td>\n",
       "      <td>50</td>\n",
       "      <td>1</td>\n",
       "      <td>2</td>\n",
       "      <td>18000</td>\n",
       "      <td>4</td>\n",
       "      <td>1</td>\n",
       "      <td>N</td>\n",
       "      <td>0</td>\n",
       "    </tr>\n",
       "    <tr>\n",
       "      <th>1</th>\n",
       "      <td>63161</td>\n",
       "      <td>12MAR2014</td>\n",
       "      <td>SCH</td>\n",
       "      <td>F</td>\n",
       "      <td>59</td>\n",
       "      <td>N</td>\n",
       "      <td>N</td>\n",
       "      <td>0</td>\n",
       "      <td>0</td>\n",
       "      <td>-1.532276</td>\n",
       "      <td>3</td>\n",
       "      <td>50</td>\n",
       "      <td>2</td>\n",
       "      <td>3</td>\n",
       "      <td>19000</td>\n",
       "      <td>4</td>\n",
       "      <td>1</td>\n",
       "      <td>N</td>\n",
       "      <td>0</td>\n",
       "    </tr>\n",
       "  </tbody>\n",
       "</table>\n",
       "</div>"
      ],
      "text/plain": [
       "   client_id   app_date education sex  age car car_type  decline_app_cnt  \\\n",
       "0      25905  01FEB2014       SCH   M   62   Y        Y                0   \n",
       "1      63161  12MAR2014       SCH   F   59   N        N                0   \n",
       "\n",
       "   good_work  score_bki  bki_request_cnt  region_rating  home_address  \\\n",
       "0          0  -2.008753                1             50             1   \n",
       "1          0  -1.532276                3             50             2   \n",
       "\n",
       "   work_address  income  sna  first_time foreign_passport  default  \n",
       "0             2   18000    4           1                N        0  \n",
       "1             3   19000    4           1                N        0  "
      ]
     },
     "execution_count": 1104,
     "metadata": {},
     "output_type": "execute_result"
    }
   ],
   "source": [
    "train.head(2)"
   ]
  },
  {
   "cell_type": "code",
   "execution_count": 1105,
   "metadata": {},
   "outputs": [
    {
     "name": "stdout",
     "output_type": "stream",
     "text": [
      "тест: (73799, 19) трэйн: (36349, 18) пример сабмишна: (24354, 2)\n"
     ]
    }
   ],
   "source": [
    "print('тест:', train.shape, 'трэйн:', test.shape, 'пример сабмишна:', sample_submission.shape)"
   ]
  },
  {
   "cell_type": "markdown",
   "metadata": {},
   "source": [
    "Получается, размерность финального сабмишна должна быть (36349, 2) - для контроля."
   ]
  },
  {
   "cell_type": "code",
   "execution_count": 1106,
   "metadata": {
    "ExecuteTime": {
     "end_time": "2020-12-26T08:33:29.802797Z",
     "start_time": "2020-12-26T08:33:27.24156Z"
    }
   },
   "outputs": [],
   "source": [
    "# Не знаю, нужно или нет, - для воспроизводимости, по примеру прошлого проекта\n",
    "RANDOM_SEED = 42\n",
    "!pip freeze > requirements.txt"
   ]
  },
  {
   "cell_type": "code",
   "execution_count": 1107,
   "metadata": {
    "ExecuteTime": {
     "end_time": "2020-12-26T08:33:29.818756Z",
     "start_time": "2020-12-26T08:33:29.805789Z"
    }
   },
   "outputs": [
    {
     "data": {
      "text/plain": [
       "Index(['client_id', 'app_date', 'education', 'sex', 'age', 'car', 'car_type',\n",
       "       'decline_app_cnt', 'good_work', 'score_bki', 'bki_request_cnt',\n",
       "       'region_rating', 'home_address', 'work_address', 'income', 'sna',\n",
       "       'first_time', 'foreign_passport', 'default'],\n",
       "      dtype='object')"
      ]
     },
     "execution_count": 1107,
     "metadata": {},
     "output_type": "execute_result"
    }
   ],
   "source": [
    "train.columns"
   ]
  },
  {
   "cell_type": "code",
   "execution_count": 1108,
   "metadata": {
    "ExecuteTime": {
     "end_time": "2020-12-26T08:33:29.850685Z",
     "start_time": "2020-12-26T08:33:29.821747Z"
    }
   },
   "outputs": [
    {
     "data": {
      "text/plain": [
       "Index(['client_id', 'app_date', 'education', 'sex', 'age', 'car', 'car_type',\n",
       "       'decline_app_cnt', 'good_work', 'score_bki', 'bki_request_cnt',\n",
       "       'region_rating', 'home_address', 'work_address', 'income', 'sna',\n",
       "       'first_time', 'foreign_passport'],\n",
       "      dtype='object')"
      ]
     },
     "execution_count": 1108,
     "metadata": {},
     "output_type": "execute_result"
    }
   ],
   "source": [
    "test.columns"
   ]
  },
  {
   "cell_type": "markdown",
   "metadata": {},
   "source": [
    "## Очистка данных"
   ]
  },
  {
   "cell_type": "markdown",
   "metadata": {},
   "source": [
    "> ### Пропуски"
   ]
  },
  {
   "cell_type": "code",
   "execution_count": 1109,
   "metadata": {
    "ExecuteTime": {
     "end_time": "2020-12-26T08:33:29.929459Z",
     "start_time": "2020-12-26T08:33:29.858649Z"
    }
   },
   "outputs": [
    {
     "data": {
      "text/plain": [
       "(client_id             0\n",
       " app_date              0\n",
       " education           307\n",
       " sex                   0\n",
       " age                   0\n",
       " car                   0\n",
       " car_type              0\n",
       " decline_app_cnt       0\n",
       " good_work             0\n",
       " score_bki             0\n",
       " bki_request_cnt       0\n",
       " region_rating         0\n",
       " home_address          0\n",
       " work_address          0\n",
       " income                0\n",
       " sna                   0\n",
       " first_time            0\n",
       " foreign_passport      0\n",
       " default               0\n",
       " dtype: int64,\n",
       " client_id             0\n",
       " app_date              0\n",
       " education           171\n",
       " sex                   0\n",
       " age                   0\n",
       " car                   0\n",
       " car_type              0\n",
       " decline_app_cnt       0\n",
       " good_work             0\n",
       " score_bki             0\n",
       " bki_request_cnt       0\n",
       " region_rating         0\n",
       " home_address          0\n",
       " work_address          0\n",
       " income                0\n",
       " sna                   0\n",
       " first_time            0\n",
       " foreign_passport      0\n",
       " dtype: int64)"
      ]
     },
     "execution_count": 1109,
     "metadata": {},
     "output_type": "execute_result"
    }
   ],
   "source": [
    "train.isnull().sum(), test.isnull().sum()"
   ]
  },
  {
   "cell_type": "markdown",
   "metadata": {},
   "source": [
    "Немного пропусков есть только в столбце education.\n",
    "Построим гистограммы для education"
   ]
  },
  {
   "cell_type": "code",
   "execution_count": 1110,
   "metadata": {
    "ExecuteTime": {
     "end_time": "2020-12-26T08:33:34.202932Z",
     "start_time": "2020-12-26T08:33:33.796018Z"
    }
   },
   "outputs": [
    {
     "data": {
      "text/plain": [
       "<matplotlib.axes._subplots.AxesSubplot at 0x7f66b4b80710>"
      ]
     },
     "execution_count": 1110,
     "metadata": {},
     "output_type": "execute_result"
    },
    {
     "data": {
      "image/png": "[encoded data removed]",
      "text/plain": [
       "<Figure size 864x576 with 1 Axes>"
      ]
     },
     "metadata": {
      "needs_background": "light"
     },
     "output_type": "display_data"
    }
   ],
   "source": [
    "train['education'].hist()"
   ]
  },
  {
   "cell_type": "code",
   "execution_count": 1111,
   "metadata": {
    "ExecuteTime": {
     "end_time": "2020-12-26T08:33:34.566969Z",
     "start_time": "2020-12-26T08:33:34.205924Z"
    },
    "scrolled": true
   },
   "outputs": [
    {
     "data": {
      "text/plain": [
       "<matplotlib.axes._subplots.AxesSubplot at 0x7f66adc9d650>"
      ]
     },
     "execution_count": 1111,
     "metadata": {},
     "output_type": "execute_result"
    },
    {
     "data": {
      "image/png": "[encoded data removed]",
      "text/plain": [
       "<Figure size 864x576 with 1 Axes>"
      ]
     },
     "metadata": {
      "needs_background": "light"
     },
     "output_type": "display_data"
    }
   ],
   "source": [
    "train['education'].hist()"
   ]
  },
  {
   "cell_type": "markdown",
   "metadata": {},
   "source": [
    "Видно, что в обоих частях датасета, больше всего людей относятся к  категории SCH.\n",
    "Заполним пропуски наиболее часто встречающимся значением."
   ]
  },
  {
   "cell_type": "code",
   "execution_count": 1112,
   "metadata": {
    "ExecuteTime": {
     "end_time": "2020-12-26T08:33:34.614829Z",
     "start_time": "2020-12-26T08:33:34.569949Z"
    }
   },
   "outputs": [],
   "source": [
    "train.education.fillna('SCH', inplace = True)\n",
    "test.education.fillna('SCH', inplace = True)"
   ]
  },
  {
   "cell_type": "code",
   "execution_count": 1113,
   "metadata": {
    "ExecuteTime": {
     "end_time": "2020-12-26T08:33:34.694617Z",
     "start_time": "2020-12-26T08:33:34.617823Z"
    }
   },
   "outputs": [
    {
     "data": {
      "text/plain": [
       "(0, 0)"
      ]
     },
     "execution_count": 1113,
     "metadata": {},
     "output_type": "execute_result"
    }
   ],
   "source": [
    "# проверим заполнение\n",
    "train.education.isnull().sum(), test.education.isnull().sum()"
   ]
  },
  {
   "cell_type": "markdown",
   "metadata": {},
   "source": [
    "## Анализ признаков"
   ]
  },
  {
   "cell_type": "code",
   "execution_count": 1114,
   "metadata": {},
   "outputs": [
    {
     "name": "stdout",
     "output_type": "stream",
     "text": [
      "<class 'pandas.core.frame.DataFrame'>\n",
      "RangeIndex: 73799 entries, 0 to 73798\n",
      "Data columns (total 19 columns):\n",
      " #   Column            Non-Null Count  Dtype  \n",
      "---  ------            --------------  -----  \n",
      " 0   client_id         73799 non-null  int64  \n",
      " 1   app_date          73799 non-null  object \n",
      " 2   education         73799 non-null  object \n",
      " 3   sex               73799 non-null  object \n",
      " 4   age               73799 non-null  int64  \n",
      " 5   car               73799 non-null  object \n",
      " 6   car_type          73799 non-null  object \n",
      " 7   decline_app_cnt   73799 non-null  int64  \n",
      " 8   good_work         73799 non-null  int64  \n",
      " 9   score_bki         73799 non-null  float64\n",
      " 10  bki_request_cnt   73799 non-null  int64  \n",
      " 11  region_rating     73799 non-null  int64  \n",
      " 12  home_address      73799 non-null  int64  \n",
      " 13  work_address      73799 non-null  int64  \n",
      " 14  income            73799 non-null  int64  \n",
      " 15  sna               73799 non-null  int64  \n",
      " 16  first_time        73799 non-null  int64  \n",
      " 17  foreign_passport  73799 non-null  object \n",
      " 18  default           73799 non-null  int64  \n",
      "dtypes: float64(1), int64(12), object(6)\n",
      "memory usage: 10.7+ MB\n"
     ]
    }
   ],
   "source": [
    "train.info()"
   ]
  },
  {
   "cell_type": "markdown",
   "metadata": {},
   "source": [
    "Описания полей датасета\n",
    "\n",
    "- client_id - идентификатор клиента\n",
    "- education - уровень образования\n",
    "- sex - пол заемщика\n",
    "- age - возраст заемщика\n",
    "- car - флаг наличия автомобиля\n",
    "- car_type - флаг автомобиля иномарки\n",
    "- decline_app_cnt - количество отказанных прошлых заявок\n",
    "- good_work - флаг наличия “хорошей” работы\n",
    "- bki_request_cnt - количество запросов в БКИ\n",
    "- home_address - категоризатор домашнего адреса\n",
    "- work_address - категоризатор рабочего адреса\n",
    "- income - доход заемщика\n",
    "- foreign_passport - наличие загранпаспорта\n",
    "- sna - связь заемщика с клиентами банка\n",
    "- first_time - давность наличия информации о заемщике\n",
    "- score_bki - скоринговый балл по данным из БКИ\n",
    "- region_rating - рейтинг региона\n",
    "- app_date - дата подачи заявки\n",
    "- default - флаг дефолта по кредиту"
   ]
  },
  {
   "cell_type": "code",
   "execution_count": 1115,
   "metadata": {},
   "outputs": [
    {
     "name": "stdout",
     "output_type": "stream",
     "text": [
      "0   2014-02-01\n",
      "1   2014-03-12\n",
      "2   2014-02-01\n",
      "3   2014-01-23\n",
      "4   2014-04-18\n",
      "Name: app_date, dtype: datetime64[ns]\n",
      "0   2014-03-22\n",
      "1   2014-01-24\n",
      "2   2014-03-23\n",
      "3   2014-02-03\n",
      "4   2014-02-04\n",
      "Name: app_date, dtype: datetime64[ns]\n"
     ]
    }
   ],
   "source": [
    "# Сконветируем даты\n",
    "train.app_date = pd.to_datetime(train.app_date)\n",
    "test.app_date = pd.to_datetime(test.app_date)\n",
    "print(train.app_date.head(5))\n",
    "print(test.app_date.head(5))\n",
    "\n",
    "# Создадим признаки на основе даты\n",
    "current_date = pd.to_datetime('25MAR2021')\n",
    "train['days'] = (current_date - train.app_date).dt.days\n",
    "test['days'] = (current_date - test.app_date).dt.days\n",
    "\n",
    "train['month'] = train['app_date'].dt.month\n",
    "test['month'] = test['app_date'].dt.month\n",
    "\n",
    "\n",
    "train['weekend'] = train['app_date'].dt.weekday\n",
    "test['weekend'] = test['app_date'].dt.weekday\n",
    "\n",
    "train['weekend'] = train['weekend'].apply(lambda x: 1 if x >= 5 else 0)\n",
    "test['weekend'] = test['weekend'].apply(lambda x: 1 if x >= 5 else 0)\n"
   ]
  },
  {
   "cell_type": "code",
   "execution_count": 1116,
   "metadata": {},
   "outputs": [
    {
     "data": {
      "text/plain": [
       "3    31255\n",
       "4    18737\n",
       "1    12239\n",
       "2    11568\n",
       "Name: first_time, dtype: int64"
      ]
     },
     "execution_count": 1116,
     "metadata": {},
     "output_type": "execute_result"
    }
   ],
   "source": [
    "train.first_time.value_counts()"
   ]
  },
  {
   "cell_type": "markdown",
   "metadata": {},
   "source": [
    "### Разделим признаки на три группы: бинарные, категориальные, численные"
   ]
  },
  {
   "cell_type": "code",
   "execution_count": 1117,
   "metadata": {
    "ExecuteTime": {
     "end_time": "2020-12-26T08:33:34.929992Z",
     "start_time": "2020-12-26T08:33:34.90306Z"
    }
   },
   "outputs": [],
   "source": [
    "# Бинарные\n",
    "bin_cols = ['sex', 'car', 'car_type', 'good_work', 'foreign_passport']\n",
    "\n",
    "# Категориальные\n",
    "cat_cols = ['education', 'home_address', 'work_address', 'sna', 'first_time', 'region_rating', 'month']\n",
    "\n",
    "# Численные\n",
    "num_cols = ['age', 'decline_app_cnt', 'score_bki', 'bki_request_cnt', 'income', 'weekend', 'month', 'days'] #days 'bki_reg'"
   ]
  },
  {
   "cell_type": "markdown",
   "metadata": {},
   "source": [
    "Посмотрим на целевую переменную. Распределение заёмщиков явно неравномерное, недефолтных клиентов заметно больше."
   ]
  },
  {
   "cell_type": "code",
   "execution_count": 1118,
   "metadata": {
    "ExecuteTime": {
     "end_time": "2020-12-26T08:33:35.134455Z",
     "start_time": "2020-12-26T08:33:34.936971Z"
    }
   },
   "outputs": [
    {
     "data": {
      "text/plain": [
       "<matplotlib.axes._subplots.AxesSubplot at 0x7f66adcbb1d0>"
      ]
     },
     "execution_count": 1118,
     "metadata": {},
     "output_type": "execute_result"
    },
    {
     "data": {
      "image/png": "[encoded data removed]",
      "text/plain": [
       "<Figure size 864x576 with 1 Axes>"
      ]
     },
     "metadata": {
      "needs_background": "light"
     },
     "output_type": "display_data"
    }
   ],
   "source": [
    "sns.countplot(train['default'])"
   ]
  },
  {
   "cell_type": "code",
   "execution_count": 1119,
   "metadata": {
    "ExecuteTime": {
     "end_time": "2020-12-26T08:33:35.166359Z",
     "start_time": "2020-12-26T08:33:35.138435Z"
    }
   },
   "outputs": [
    {
     "data": {
      "text/plain": [
       "0    64427\n",
       "1     9372\n",
       "Name: default, dtype: int64"
      ]
     },
     "execution_count": 1119,
     "metadata": {},
     "output_type": "execute_result"
    }
   ],
   "source": [
    "train['default'].value_counts()\n",
    "# Очевидно что выборка распределена неравномерно"
   ]
  },
  {
   "cell_type": "code",
   "execution_count": 1120,
   "metadata": {
    "ExecuteTime": {
     "end_time": "2020-12-26T08:33:35.816803Z",
     "start_time": "2020-12-26T08:33:35.170345Z"
    }
   },
   "outputs": [],
   "source": [
    "# Применяем oversampling для устранения дисбаланса\n",
    "train_0 = train.query('default == 0')\n",
    "train_1 = train.query('default == 1')\n",
    "koeff = int(len(train_0)/len(train_1))\n",
    "for i in range(koeff):\n",
    "    train = train.append(train_1).reset_index(drop=True)  # объединяем"
   ]
  },
  {
   "cell_type": "code",
   "execution_count": 1121,
   "metadata": {
    "ExecuteTime": {
     "end_time": "2020-12-26T08:33:35.832767Z",
     "start_time": "2020-12-26T08:33:35.818802Z"
    }
   },
   "outputs": [
    {
     "data": {
      "text/plain": [
       "1    65604\n",
       "0    64427\n",
       "Name: default, dtype: int64"
      ]
     },
     "execution_count": 1121,
     "metadata": {},
     "output_type": "execute_result"
    }
   ],
   "source": [
    "train['default'].value_counts()"
   ]
  },
  {
   "cell_type": "markdown",
   "metadata": {},
   "source": [
    "## Числовые признаки"
   ]
  },
  {
   "cell_type": "markdown",
   "metadata": {},
   "source": [
    "посмотрим boxplot числовых признаков"
   ]
  },
  {
   "cell_type": "code",
   "execution_count": 1122,
   "metadata": {
    "ExecuteTime": {
     "end_time": "2020-12-26T08:33:36.228708Z",
     "start_time": "2020-12-26T08:33:35.843737Z"
    }
   },
   "outputs": [
    {
     "data": {
      "text/plain": [
       "<matplotlib.axes._subplots.AxesSubplot at 0x7f66b5092990>"
      ]
     },
     "execution_count": 1122,
     "metadata": {},
     "output_type": "execute_result"
    },
    {
     "data": {
      "image/png": "[encoded data removed]",
      "text/plain": [
       "<Figure size 864x576 with 1 Axes>"
      ]
     },
     "metadata": {
      "needs_background": "light"
     },
     "output_type": "display_data"
    }
   ],
   "source": [
    "sns.boxplot(x=train.default, y=train.age)\n",
    "# выбросов нет"
   ]
  },
  {
   "cell_type": "code",
   "execution_count": 1123,
   "metadata": {
    "ExecuteTime": {
     "end_time": "2020-12-26T08:33:37.213078Z",
     "start_time": "2020-12-26T08:33:36.756297Z"
    }
   },
   "outputs": [
    {
     "data": {
      "text/plain": [
       "<matplotlib.axes._subplots.AxesSubplot at 0x7f66b5183110>"
      ]
     },
     "execution_count": 1123,
     "metadata": {},
     "output_type": "execute_result"
    },
    {
     "data": {
      "image/png": "[encoded data removed]",
      "text/plain": [
       "<Figure size 864x576 with 1 Axes>"
      ]
     },
     "metadata": {
      "needs_background": "light"
     },
     "output_type": "display_data"
    }
   ],
   "source": [
    "sns.boxplot(x=train.default, y=train.decline_app_cnt)"
   ]
  },
  {
   "cell_type": "markdown",
   "metadata": {},
   "source": [
    "У дефолтных клиентов количество отклоненных заявок выше, чем у недефолтных."
   ]
  },
  {
   "cell_type": "code",
   "execution_count": 1124,
   "metadata": {
    "ExecuteTime": {
     "end_time": "2020-12-26T08:33:37.606024Z",
     "start_time": "2020-12-26T08:33:37.21906Z"
    }
   },
   "outputs": [
    {
     "data": {
      "text/plain": [
       "<matplotlib.axes._subplots.AxesSubplot at 0x7f66b5791350>"
      ]
     },
     "execution_count": 1124,
     "metadata": {},
     "output_type": "execute_result"
    },
    {
     "data": {
      "image/png": "[encoded data removed]",
      "text/plain": [
       "<Figure size 864x576 with 1 Axes>"
      ]
     },
     "metadata": {
      "needs_background": "light"
     },
     "output_type": "display_data"
    }
   ],
   "source": [
    "sns.boxplot(x=train.default, y=train.score_bki)"
   ]
  },
  {
   "cell_type": "code",
   "execution_count": 1125,
   "metadata": {
    "ExecuteTime": {
     "end_time": "2020-12-26T08:33:38.047848Z",
     "start_time": "2020-12-26T08:33:37.616004Z"
    },
    "scrolled": true
   },
   "outputs": [
    {
     "data": {
      "text/plain": [
       "<matplotlib.axes._subplots.AxesSubplot at 0x7f66b5109250>"
      ]
     },
     "execution_count": 1125,
     "metadata": {},
     "output_type": "execute_result"
    },
    {
     "data": {
      "image/png": "[encoded data removed]",
      "text/plain": [
       "<Figure size 864x576 with 1 Axes>"
      ]
     },
     "metadata": {
      "needs_background": "light"
     },
     "output_type": "display_data"
    }
   ],
   "source": [
    "sns.boxplot(x=train.default, y=train.bki_request_cnt)"
   ]
  },
  {
   "cell_type": "markdown",
   "metadata": {},
   "source": [
    "Средний показатель числа запросов в БКИ у дефолтных клиентов выше. "
   ]
  },
  {
   "cell_type": "code",
   "execution_count": 1126,
   "metadata": {
    "ExecuteTime": {
     "end_time": "2020-12-26T08:33:38.443789Z",
     "start_time": "2020-12-26T08:33:38.052829Z"
    }
   },
   "outputs": [
    {
     "data": {
      "text/plain": [
       "<matplotlib.axes._subplots.AxesSubplot at 0x7f66a7fe3c10>"
      ]
     },
     "execution_count": 1126,
     "metadata": {},
     "output_type": "execute_result"
    },
    {
     "data": {
      "image/png": "[encoded data removed]",
      "text/plain": [
       "<Figure size 864x576 with 1 Axes>"
      ]
     },
     "metadata": {
      "needs_background": "light"
     },
     "output_type": "display_data"
    }
   ],
   "source": [
    "sns.boxplot(x=train.default, y=train.income)"
   ]
  },
  {
   "cell_type": "markdown",
   "metadata": {},
   "source": [
    "Кредиты чаще выдают тем, у кого уровень дохода выше. Выбросы есть."
   ]
  },
  {
   "cell_type": "markdown",
   "metadata": {},
   "source": [
    "## Убираем выбросы"
   ]
  },
  {
   "cell_type": "code",
   "execution_count": 1127,
   "metadata": {
    "ExecuteTime": {
     "end_time": "2020-12-26T08:33:38.555491Z",
     "start_time": "2020-12-26T08:33:38.479688Z"
    }
   },
   "outputs": [],
   "source": [
    "# убираем выбросы в численных столбцах\n",
    "num_cols_1 = ['bki_request_cnt', 'score_bki']\n",
    "for colname in num_cols_1:\n",
    "    d = outliers_iqr(train[colname])\n",
    "    train = train.loc[train[colname].between(d[0], d[1])]"
   ]
  },
  {
   "cell_type": "code",
   "execution_count": 1128,
   "metadata": {
    "ExecuteTime": {
     "end_time": "2020-12-26T08:33:40.852215Z",
     "start_time": "2020-12-26T08:33:38.656216Z"
    }
   },
   "outputs": [
    {
     "data": {
      "image/png": "[encoded data removed]",
      "text/plain": [
       "<Figure size 1800x864 with 8 Axes>"
      ]
     },
     "metadata": {
      "needs_background": "light"
     },
     "output_type": "display_data"
    }
   ],
   "source": [
    "# Построим графики распределения численных переменных\n",
    "fig, axes = plt.subplots(2, 4, figsize=(25, 12))\n",
    "for col, i in zip(num_cols, range(8)):\n",
    "    sns.distplot(train[col], kde=False, ax=axes.flat[i])"
   ]
  },
  {
   "cell_type": "code",
   "execution_count": 1129,
   "metadata": {
    "ExecuteTime": {
     "end_time": "2020-12-26T08:33:40.899091Z",
     "start_time": "2020-12-26T08:33:40.855209Z"
    }
   },
   "outputs": [],
   "source": [
    "# Прологарифмируем переменные со смещенным распределением\n",
    "\n",
    "num_cols_log = ['age', 'decline_app_cnt', 'bki_request_cnt', 'income']\n",
    "\n",
    "\n",
    "for i in num_cols_log:\n",
    "    train[i] = np.log(train[i] + 1)"
   ]
  },
  {
   "cell_type": "code",
   "execution_count": 1130,
   "metadata": {
    "ExecuteTime": {
     "end_time": "2020-12-26T08:33:43.046377Z",
     "start_time": "2020-12-26T08:33:43.017425Z"
    }
   },
   "outputs": [],
   "source": [
    "for i in num_cols_log:\n",
    "    test[i] = np.log(test[i] + 1)"
   ]
  },
  {
   "cell_type": "markdown",
   "metadata": {},
   "source": [
    "### Преобразование бинарных и категориальных переменных\n",
    "Преобразуем бинарные переменные при помощи класса LabelEncoder"
   ]
  },
  {
   "cell_type": "code",
   "execution_count": 1131,
   "metadata": {},
   "outputs": [],
   "source": [
    "label_encoder = LabelEncoder()\n",
    "\n",
    "# mapped_education = pd.Series(label_encoder.fit_transform(train['sex']))\n",
    "# print(dict(enumerate(label_encoder.classes_)))"
   ]
  },
  {
   "cell_type": "code",
   "execution_count": 1132,
   "metadata": {
    "ExecuteTime": {
     "end_time": "2020-12-26T08:33:45.759094Z",
     "start_time": "2020-12-26T08:33:45.31927Z"
    }
   },
   "outputs": [
    {
     "data": {
      "text/html": [
       "<div>\n",
       "<style scoped>\n",
       "    .dataframe tbody tr th:only-of-type {\n",
       "        vertical-align: middle;\n",
       "    }\n",
       "\n",
       "    .dataframe tbody tr th {\n",
       "        vertical-align: top;\n",
       "    }\n",
       "\n",
       "    .dataframe thead th {\n",
       "        text-align: right;\n",
       "    }\n",
       "</style>\n",
       "<table border=\"1\" class=\"dataframe\">\n",
       "  <thead>\n",
       "    <tr style=\"text-align: right;\">\n",
       "      <th></th>\n",
       "      <th>client_id</th>\n",
       "      <th>app_date</th>\n",
       "      <th>education</th>\n",
       "      <th>sex</th>\n",
       "      <th>age</th>\n",
       "      <th>car</th>\n",
       "      <th>car_type</th>\n",
       "      <th>decline_app_cnt</th>\n",
       "      <th>good_work</th>\n",
       "      <th>score_bki</th>\n",
       "      <th>bki_request_cnt</th>\n",
       "      <th>region_rating</th>\n",
       "      <th>home_address</th>\n",
       "      <th>work_address</th>\n",
       "      <th>income</th>\n",
       "      <th>sna</th>\n",
       "      <th>first_time</th>\n",
       "      <th>foreign_passport</th>\n",
       "      <th>default</th>\n",
       "      <th>days</th>\n",
       "      <th>month</th>\n",
       "      <th>weekend</th>\n",
       "    </tr>\n",
       "  </thead>\n",
       "  <tbody>\n",
       "    <tr>\n",
       "      <th>0</th>\n",
       "      <td>25905</td>\n",
       "      <td>2014-02-01</td>\n",
       "      <td>SCH</td>\n",
       "      <td>1</td>\n",
       "      <td>4.143135</td>\n",
       "      <td>1</td>\n",
       "      <td>1</td>\n",
       "      <td>0.000000</td>\n",
       "      <td>0</td>\n",
       "      <td>-2.008753</td>\n",
       "      <td>0.693147</td>\n",
       "      <td>50</td>\n",
       "      <td>1</td>\n",
       "      <td>2</td>\n",
       "      <td>9.798183</td>\n",
       "      <td>4</td>\n",
       "      <td>1</td>\n",
       "      <td>0</td>\n",
       "      <td>0</td>\n",
       "      <td>2609</td>\n",
       "      <td>2</td>\n",
       "      <td>1</td>\n",
       "    </tr>\n",
       "    <tr>\n",
       "      <th>1</th>\n",
       "      <td>63161</td>\n",
       "      <td>2014-03-12</td>\n",
       "      <td>SCH</td>\n",
       "      <td>0</td>\n",
       "      <td>4.094345</td>\n",
       "      <td>0</td>\n",
       "      <td>0</td>\n",
       "      <td>0.000000</td>\n",
       "      <td>0</td>\n",
       "      <td>-1.532276</td>\n",
       "      <td>1.386294</td>\n",
       "      <td>50</td>\n",
       "      <td>2</td>\n",
       "      <td>3</td>\n",
       "      <td>9.852247</td>\n",
       "      <td>4</td>\n",
       "      <td>1</td>\n",
       "      <td>0</td>\n",
       "      <td>0</td>\n",
       "      <td>2570</td>\n",
       "      <td>3</td>\n",
       "      <td>0</td>\n",
       "    </tr>\n",
       "    <tr>\n",
       "      <th>2</th>\n",
       "      <td>25887</td>\n",
       "      <td>2014-02-01</td>\n",
       "      <td>SCH</td>\n",
       "      <td>1</td>\n",
       "      <td>3.258097</td>\n",
       "      <td>1</td>\n",
       "      <td>0</td>\n",
       "      <td>1.098612</td>\n",
       "      <td>0</td>\n",
       "      <td>-1.408142</td>\n",
       "      <td>0.693147</td>\n",
       "      <td>80</td>\n",
       "      <td>1</td>\n",
       "      <td>2</td>\n",
       "      <td>10.308986</td>\n",
       "      <td>1</td>\n",
       "      <td>4</td>\n",
       "      <td>1</td>\n",
       "      <td>0</td>\n",
       "      <td>2609</td>\n",
       "      <td>2</td>\n",
       "      <td>1</td>\n",
       "    </tr>\n",
       "    <tr>\n",
       "      <th>3</th>\n",
       "      <td>16222</td>\n",
       "      <td>2014-01-23</td>\n",
       "      <td>SCH</td>\n",
       "      <td>0</td>\n",
       "      <td>3.988984</td>\n",
       "      <td>0</td>\n",
       "      <td>0</td>\n",
       "      <td>0.000000</td>\n",
       "      <td>0</td>\n",
       "      <td>-2.057471</td>\n",
       "      <td>1.098612</td>\n",
       "      <td>50</td>\n",
       "      <td>2</td>\n",
       "      <td>3</td>\n",
       "      <td>9.210440</td>\n",
       "      <td>1</td>\n",
       "      <td>3</td>\n",
       "      <td>0</td>\n",
       "      <td>0</td>\n",
       "      <td>2618</td>\n",
       "      <td>1</td>\n",
       "      <td>0</td>\n",
       "    </tr>\n",
       "    <tr>\n",
       "      <th>4</th>\n",
       "      <td>101655</td>\n",
       "      <td>2014-04-18</td>\n",
       "      <td>GRD</td>\n",
       "      <td>1</td>\n",
       "      <td>3.891820</td>\n",
       "      <td>0</td>\n",
       "      <td>0</td>\n",
       "      <td>0.000000</td>\n",
       "      <td>1</td>\n",
       "      <td>-1.244723</td>\n",
       "      <td>0.693147</td>\n",
       "      <td>60</td>\n",
       "      <td>2</td>\n",
       "      <td>3</td>\n",
       "      <td>10.308986</td>\n",
       "      <td>1</td>\n",
       "      <td>4</td>\n",
       "      <td>1</td>\n",
       "      <td>0</td>\n",
       "      <td>2533</td>\n",
       "      <td>4</td>\n",
       "      <td>0</td>\n",
       "    </tr>\n",
       "  </tbody>\n",
       "</table>\n",
       "</div>"
      ],
      "text/plain": [
       "   client_id   app_date education  sex       age  car  car_type  \\\n",
       "0      25905 2014-02-01       SCH    1  4.143135    1         1   \n",
       "1      63161 2014-03-12       SCH    0  4.094345    0         0   \n",
       "2      25887 2014-02-01       SCH    1  3.258097    1         0   \n",
       "3      16222 2014-01-23       SCH    0  3.988984    0         0   \n",
       "4     101655 2014-04-18       GRD    1  3.891820    0         0   \n",
       "\n",
       "   decline_app_cnt  good_work  score_bki  bki_request_cnt  region_rating  \\\n",
       "0         0.000000          0  -2.008753         0.693147             50   \n",
       "1         0.000000          0  -1.532276         1.386294             50   \n",
       "2         1.098612          0  -1.408142         0.693147             80   \n",
       "3         0.000000          0  -2.057471         1.098612             50   \n",
       "4         0.000000          1  -1.244723         0.693147             60   \n",
       "\n",
       "   home_address  work_address     income  sna  first_time  foreign_passport  \\\n",
       "0             1             2   9.798183    4           1                 0   \n",
       "1             2             3   9.852247    4           1                 0   \n",
       "2             1             2  10.308986    1           4                 1   \n",
       "3             2             3   9.210440    1           3                 0   \n",
       "4             2             3  10.308986    1           4                 1   \n",
       "\n",
       "   default  days  month  weekend  \n",
       "0        0  2609      2        1  \n",
       "1        0  2570      3        0  \n",
       "2        0  2609      2        1  \n",
       "3        0  2618      1        0  \n",
       "4        0  2533      4        0  "
      ]
     },
     "metadata": {},
     "output_type": "display_data"
    },
    {
     "data": {
      "text/html": [
       "<div>\n",
       "<style scoped>\n",
       "    .dataframe tbody tr th:only-of-type {\n",
       "        vertical-align: middle;\n",
       "    }\n",
       "\n",
       "    .dataframe tbody tr th {\n",
       "        vertical-align: top;\n",
       "    }\n",
       "\n",
       "    .dataframe thead th {\n",
       "        text-align: right;\n",
       "    }\n",
       "</style>\n",
       "<table border=\"1\" class=\"dataframe\">\n",
       "  <thead>\n",
       "    <tr style=\"text-align: right;\">\n",
       "      <th></th>\n",
       "      <th>client_id</th>\n",
       "      <th>app_date</th>\n",
       "      <th>education</th>\n",
       "      <th>sex</th>\n",
       "      <th>age</th>\n",
       "      <th>car</th>\n",
       "      <th>car_type</th>\n",
       "      <th>decline_app_cnt</th>\n",
       "      <th>good_work</th>\n",
       "      <th>score_bki</th>\n",
       "      <th>bki_request_cnt</th>\n",
       "      <th>region_rating</th>\n",
       "      <th>home_address</th>\n",
       "      <th>work_address</th>\n",
       "      <th>income</th>\n",
       "      <th>sna</th>\n",
       "      <th>first_time</th>\n",
       "      <th>foreign_passport</th>\n",
       "      <th>days</th>\n",
       "      <th>month</th>\n",
       "      <th>weekend</th>\n",
       "    </tr>\n",
       "  </thead>\n",
       "  <tbody>\n",
       "    <tr>\n",
       "      <th>0</th>\n",
       "      <td>74835</td>\n",
       "      <td>2014-03-22</td>\n",
       "      <td>GRD</td>\n",
       "      <td>1</td>\n",
       "      <td>3.401197</td>\n",
       "      <td>1</td>\n",
       "      <td>1</td>\n",
       "      <td>0.000000</td>\n",
       "      <td>0</td>\n",
       "      <td>-2.271884</td>\n",
       "      <td>1.386294</td>\n",
       "      <td>50</td>\n",
       "      <td>1</td>\n",
       "      <td>2</td>\n",
       "      <td>10.819798</td>\n",
       "      <td>1</td>\n",
       "      <td>4</td>\n",
       "      <td>0</td>\n",
       "      <td>2560</td>\n",
       "      <td>3</td>\n",
       "      <td>1</td>\n",
       "    </tr>\n",
       "    <tr>\n",
       "      <th>1</th>\n",
       "      <td>17527</td>\n",
       "      <td>2014-01-24</td>\n",
       "      <td>SCH</td>\n",
       "      <td>0</td>\n",
       "      <td>3.688879</td>\n",
       "      <td>0</td>\n",
       "      <td>0</td>\n",
       "      <td>1.791759</td>\n",
       "      <td>0</td>\n",
       "      <td>-1.504999</td>\n",
       "      <td>1.098612</td>\n",
       "      <td>50</td>\n",
       "      <td>1</td>\n",
       "      <td>2</td>\n",
       "      <td>8.517393</td>\n",
       "      <td>4</td>\n",
       "      <td>3</td>\n",
       "      <td>0</td>\n",
       "      <td>2617</td>\n",
       "      <td>1</td>\n",
       "      <td>0</td>\n",
       "    </tr>\n",
       "    <tr>\n",
       "      <th>2</th>\n",
       "      <td>75683</td>\n",
       "      <td>2014-03-23</td>\n",
       "      <td>UGR</td>\n",
       "      <td>1</td>\n",
       "      <td>3.931826</td>\n",
       "      <td>1</td>\n",
       "      <td>1</td>\n",
       "      <td>0.000000</td>\n",
       "      <td>0</td>\n",
       "      <td>-1.691339</td>\n",
       "      <td>0.693147</td>\n",
       "      <td>50</td>\n",
       "      <td>1</td>\n",
       "      <td>2</td>\n",
       "      <td>10.308986</td>\n",
       "      <td>1</td>\n",
       "      <td>3</td>\n",
       "      <td>1</td>\n",
       "      <td>2559</td>\n",
       "      <td>3</td>\n",
       "      <td>1</td>\n",
       "    </tr>\n",
       "    <tr>\n",
       "      <th>3</th>\n",
       "      <td>26883</td>\n",
       "      <td>2014-02-03</td>\n",
       "      <td>SCH</td>\n",
       "      <td>1</td>\n",
       "      <td>4.043051</td>\n",
       "      <td>0</td>\n",
       "      <td>0</td>\n",
       "      <td>0.000000</td>\n",
       "      <td>0</td>\n",
       "      <td>-2.374182</td>\n",
       "      <td>0.693147</td>\n",
       "      <td>40</td>\n",
       "      <td>1</td>\n",
       "      <td>2</td>\n",
       "      <td>9.741027</td>\n",
       "      <td>1</td>\n",
       "      <td>3</td>\n",
       "      <td>0</td>\n",
       "      <td>2607</td>\n",
       "      <td>2</td>\n",
       "      <td>0</td>\n",
       "    </tr>\n",
       "    <tr>\n",
       "      <th>4</th>\n",
       "      <td>28862</td>\n",
       "      <td>2014-02-04</td>\n",
       "      <td>GRD</td>\n",
       "      <td>0</td>\n",
       "      <td>3.663562</td>\n",
       "      <td>0</td>\n",
       "      <td>0</td>\n",
       "      <td>0.000000</td>\n",
       "      <td>0</td>\n",
       "      <td>-2.487502</td>\n",
       "      <td>0.000000</td>\n",
       "      <td>80</td>\n",
       "      <td>2</td>\n",
       "      <td>3</td>\n",
       "      <td>11.695255</td>\n",
       "      <td>1</td>\n",
       "      <td>3</td>\n",
       "      <td>0</td>\n",
       "      <td>2606</td>\n",
       "      <td>2</td>\n",
       "      <td>0</td>\n",
       "    </tr>\n",
       "  </tbody>\n",
       "</table>\n",
       "</div>"
      ],
      "text/plain": [
       "   client_id   app_date education  sex       age  car  car_type  \\\n",
       "0      74835 2014-03-22       GRD    1  3.401197    1         1   \n",
       "1      17527 2014-01-24       SCH    0  3.688879    0         0   \n",
       "2      75683 2014-03-23       UGR    1  3.931826    1         1   \n",
       "3      26883 2014-02-03       SCH    1  4.043051    0         0   \n",
       "4      28862 2014-02-04       GRD    0  3.663562    0         0   \n",
       "\n",
       "   decline_app_cnt  good_work  score_bki  bki_request_cnt  region_rating  \\\n",
       "0         0.000000          0  -2.271884         1.386294             50   \n",
       "1         1.791759          0  -1.504999         1.098612             50   \n",
       "2         0.000000          0  -1.691339         0.693147             50   \n",
       "3         0.000000          0  -2.374182         0.693147             40   \n",
       "4         0.000000          0  -2.487502         0.000000             80   \n",
       "\n",
       "   home_address  work_address     income  sna  first_time  foreign_passport  \\\n",
       "0             1             2  10.819798    1           4                 0   \n",
       "1             1             2   8.517393    4           3                 0   \n",
       "2             1             2  10.308986    1           3                 1   \n",
       "3             1             2   9.741027    1           3                 0   \n",
       "4             2             3  11.695255    1           3                 0   \n",
       "\n",
       "   days  month  weekend  \n",
       "0  2560      3        1  \n",
       "1  2617      1        0  \n",
       "2  2559      3        1  \n",
       "3  2607      2        0  \n",
       "4  2606      2        0  "
      ]
     },
     "metadata": {},
     "output_type": "display_data"
    }
   ],
   "source": [
    "for column in bin_cols:\n",
    "    train[column] = label_encoder.fit_transform(train[column])\n",
    "    test[column] = label_encoder.fit_transform(test[column])\n",
    "\n",
    "\n",
    "# проверим\n",
    "display(train.head())\n",
    "display(test.head())"
   ]
  },
  {
   "cell_type": "code",
   "execution_count": 1133,
   "metadata": {},
   "outputs": [
    {
     "data": {
      "text/plain": [
       "1    71515\n",
       "4    25354\n",
       "2    19233\n",
       "3     7634\n",
       "Name: sna, dtype: int64"
      ]
     },
     "execution_count": 1133,
     "metadata": {},
     "output_type": "execute_result"
    }
   ],
   "source": [
    "train.sna.value_counts()"
   ]
  },
  {
   "cell_type": "code",
   "execution_count": 1134,
   "metadata": {},
   "outputs": [
    {
     "data": {
      "text/plain": [
       "\"\\ntrain['req_rel'] = train['bki_request_cnt']**train['score_rel']\\ntest['req_rel'] = test['bki_request_cnt']**test['score_rel']\\nnum_cols.append('req_rel')\""
      ]
     },
     "execution_count": 1134,
     "metadata": {},
     "output_type": "execute_result"
    }
   ],
   "source": [
    "# Генерируем новые признаки (в том числе искусственные) - проверяем как они влияют на модель\n",
    "\n",
    "# Сколько отклонили заявок с момента первого обращения\n",
    "train['history_neg'] = train['first_time']/(train['decline_app_cnt']+1)\n",
    "test['history_neg'] = test['first_time']/(test['decline_app_cnt']+1)\n",
    "num_cols.append('history_neg')\n",
    "\n",
    "# Отношение периода с первого обращения к возрасту\n",
    "train['history_norm'] = train['first_time']/(train['age']+1)\n",
    "test['history_norm'] = test['first_time']/(test['age']+1)\n",
    "#num_cols.append('history_norm')\n",
    "\n",
    "# \n",
    "train['envir_2'] = train['income']*train['region_rating']/(train['sna'])\n",
    "test['envir_2'] = test['income']*test['region_rating']/(test['sna'])\n",
    "#num_cols.append('envir_2')\n",
    "\n",
    "# \n",
    "train['bki_age_reg'] = (train['score_bki']/(train['age']+1))**train['region_rating']\n",
    "test['bki_age_reg'] = (test['score_bki']/(test['age']+1))**test['region_rating']\n",
    "num_cols.append('bki_age_reg')\n",
    "\n",
    "#\n",
    "train['score_rel'] = (train['score_bki']*train['age'])**train['sna']\n",
    "test['score_rel'] = (test['score_bki']*test['age'])**test['sna']\n",
    "num_cols.append('score_rel')\n",
    "\n",
    "#\n",
    "train['score_pas'] = (train['score_bki']*train['age'])**train['foreign_passport']\n",
    "test['score_pas'] = (test['score_bki']*test['age'])**test['foreign_passport']\n",
    "num_cols.append('score_pas')\n",
    "\n",
    "'''\n",
    "train['req_rel'] = train['bki_request_cnt']**train['score_rel']\n",
    "test['req_rel'] = test['bki_request_cnt']**test['score_rel']\n",
    "num_cols.append('req_rel')'''"
   ]
  },
  {
   "cell_type": "code",
   "execution_count": 1135,
   "metadata": {
    "ExecuteTime": {
     "end_time": "2020-12-26T08:33:46.278714Z",
     "start_time": "2020-12-26T08:33:45.830908Z"
    }
   },
   "outputs": [
    {
     "data": {
      "text/html": [
       "<style  type=\"text/css\" >\n",
       "#T_c6d0ac9c_927c_11eb_9292_0242ac130202row0_col0,#T_c6d0ac9c_927c_11eb_9292_0242ac130202row1_col1,#T_c6d0ac9c_927c_11eb_9292_0242ac130202row2_col2,#T_c6d0ac9c_927c_11eb_9292_0242ac130202row3_col3,#T_c6d0ac9c_927c_11eb_9292_0242ac130202row4_col4,#T_c6d0ac9c_927c_11eb_9292_0242ac130202row5_col5,#T_c6d0ac9c_927c_11eb_9292_0242ac130202row6_col6,#T_c6d0ac9c_927c_11eb_9292_0242ac130202row7_col7,#T_c6d0ac9c_927c_11eb_9292_0242ac130202row8_col8,#T_c6d0ac9c_927c_11eb_9292_0242ac130202row9_col9,#T_c6d0ac9c_927c_11eb_9292_0242ac130202row10_col10,#T_c6d0ac9c_927c_11eb_9292_0242ac130202row11_col11{\n",
       "            background-color:  #b40426;\n",
       "            color:  #f1f1f1;\n",
       "        }#T_c6d0ac9c_927c_11eb_9292_0242ac130202row0_col1{\n",
       "            background-color:  #85a8fc;\n",
       "            color:  #000000;\n",
       "        }#T_c6d0ac9c_927c_11eb_9292_0242ac130202row0_col2,#T_c6d0ac9c_927c_11eb_9292_0242ac130202row5_col0,#T_c6d0ac9c_927c_11eb_9292_0242ac130202row7_col0{\n",
       "            background-color:  #5d7ce6;\n",
       "            color:  #000000;\n",
       "        }#T_c6d0ac9c_927c_11eb_9292_0242ac130202row0_col3,#T_c6d0ac9c_927c_11eb_9292_0242ac130202row8_col2{\n",
       "            background-color:  #506bda;\n",
       "            color:  #000000;\n",
       "        }#T_c6d0ac9c_927c_11eb_9292_0242ac130202row0_col4{\n",
       "            background-color:  #5e7de7;\n",
       "            color:  #000000;\n",
       "        }#T_c6d0ac9c_927c_11eb_9292_0242ac130202row0_col5,#T_c6d0ac9c_927c_11eb_9292_0242ac130202row1_col0,#T_c6d0ac9c_927c_11eb_9292_0242ac130202row1_col8,#T_c6d0ac9c_927c_11eb_9292_0242ac130202row2_col9,#T_c6d0ac9c_927c_11eb_9292_0242ac130202row2_col10,#T_c6d0ac9c_927c_11eb_9292_0242ac130202row4_col11,#T_c6d0ac9c_927c_11eb_9292_0242ac130202row6_col7,#T_c6d0ac9c_927c_11eb_9292_0242ac130202row7_col6,#T_c6d0ac9c_927c_11eb_9292_0242ac130202row8_col1,#T_c6d0ac9c_927c_11eb_9292_0242ac130202row8_col3,#T_c6d0ac9c_927c_11eb_9292_0242ac130202row10_col2,#T_c6d0ac9c_927c_11eb_9292_0242ac130202row11_col4{\n",
       "            background-color:  #3b4cc0;\n",
       "            color:  #f1f1f1;\n",
       "        }#T_c6d0ac9c_927c_11eb_9292_0242ac130202row0_col6,#T_c6d0ac9c_927c_11eb_9292_0242ac130202row1_col7,#T_c6d0ac9c_927c_11eb_9292_0242ac130202row5_col7,#T_c6d0ac9c_927c_11eb_9292_0242ac130202row8_col6{\n",
       "            background-color:  #dddcdc;\n",
       "            color:  #000000;\n",
       "        }#T_c6d0ac9c_927c_11eb_9292_0242ac130202row0_col7,#T_c6d0ac9c_927c_11eb_9292_0242ac130202row8_col7{\n",
       "            background-color:  #d7dce3;\n",
       "            color:  #000000;\n",
       "        }#T_c6d0ac9c_927c_11eb_9292_0242ac130202row0_col8{\n",
       "            background-color:  #c9d7f0;\n",
       "            color:  #000000;\n",
       "        }#T_c6d0ac9c_927c_11eb_9292_0242ac130202row0_col9,#T_c6d0ac9c_927c_11eb_9292_0242ac130202row1_col9,#T_c6d0ac9c_927c_11eb_9292_0242ac130202row2_col5,#T_c6d0ac9c_927c_11eb_9292_0242ac130202row5_col9,#T_c6d0ac9c_927c_11eb_9292_0242ac130202row10_col5{\n",
       "            background-color:  #4358cb;\n",
       "            color:  #f1f1f1;\n",
       "        }#T_c6d0ac9c_927c_11eb_9292_0242ac130202row0_col10,#T_c6d0ac9c_927c_11eb_9292_0242ac130202row10_col1{\n",
       "            background-color:  #9fbfff;\n",
       "            color:  #000000;\n",
       "        }#T_c6d0ac9c_927c_11eb_9292_0242ac130202row0_col11,#T_c6d0ac9c_927c_11eb_9292_0242ac130202row7_col11{\n",
       "            background-color:  #7a9df8;\n",
       "            color:  #000000;\n",
       "        }#T_c6d0ac9c_927c_11eb_9292_0242ac130202row1_col2,#T_c6d0ac9c_927c_11eb_9292_0242ac130202row11_col1{\n",
       "            background-color:  #b6cefa;\n",
       "            color:  #000000;\n",
       "        }#T_c6d0ac9c_927c_11eb_9292_0242ac130202row1_col3{\n",
       "            background-color:  #5a78e4;\n",
       "            color:  #000000;\n",
       "        }#T_c6d0ac9c_927c_11eb_9292_0242ac130202row1_col4,#T_c6d0ac9c_927c_11eb_9292_0242ac130202row10_col8{\n",
       "            background-color:  #7597f6;\n",
       "            color:  #000000;\n",
       "        }#T_c6d0ac9c_927c_11eb_9292_0242ac130202row1_col5,#T_c6d0ac9c_927c_11eb_9292_0242ac130202row2_col0,#T_c6d0ac9c_927c_11eb_9292_0242ac130202row7_col9{\n",
       "            background-color:  #455cce;\n",
       "            color:  #f1f1f1;\n",
       "        }#T_c6d0ac9c_927c_11eb_9292_0242ac130202row1_col6,#T_c6d0ac9c_927c_11eb_9292_0242ac130202row10_col7{\n",
       "            background-color:  #d8dce2;\n",
       "            color:  #000000;\n",
       "        }#T_c6d0ac9c_927c_11eb_9292_0242ac130202row1_col10{\n",
       "            background-color:  #6f92f3;\n",
       "            color:  #000000;\n",
       "        }#T_c6d0ac9c_927c_11eb_9292_0242ac130202row1_col11,#T_c6d0ac9c_927c_11eb_9292_0242ac130202row3_col4,#T_c6d0ac9c_927c_11eb_9292_0242ac130202row7_col2{\n",
       "            background-color:  #8badfd;\n",
       "            color:  #000000;\n",
       "        }#T_c6d0ac9c_927c_11eb_9292_0242ac130202row2_col1{\n",
       "            background-color:  #d6dce4;\n",
       "            color:  #000000;\n",
       "        }#T_c6d0ac9c_927c_11eb_9292_0242ac130202row2_col3{\n",
       "            background-color:  #6485ec;\n",
       "            color:  #000000;\n",
       "        }#T_c6d0ac9c_927c_11eb_9292_0242ac130202row2_col4,#T_c6d0ac9c_927c_11eb_9292_0242ac130202row4_col2,#T_c6d0ac9c_927c_11eb_9292_0242ac130202row5_col4{\n",
       "            background-color:  #7699f6;\n",
       "            color:  #000000;\n",
       "        }#T_c6d0ac9c_927c_11eb_9292_0242ac130202row2_col6{\n",
       "            background-color:  #d3dbe7;\n",
       "            color:  #000000;\n",
       "        }#T_c6d0ac9c_927c_11eb_9292_0242ac130202row2_col7{\n",
       "            background-color:  #e1dad6;\n",
       "            color:  #000000;\n",
       "        }#T_c6d0ac9c_927c_11eb_9292_0242ac130202row2_col8{\n",
       "            background-color:  #84a7fc;\n",
       "            color:  #000000;\n",
       "        }#T_c6d0ac9c_927c_11eb_9292_0242ac130202row2_col11{\n",
       "            background-color:  #9dbdff;\n",
       "            color:  #000000;\n",
       "        }#T_c6d0ac9c_927c_11eb_9292_0242ac130202row3_col0{\n",
       "            background-color:  #7093f3;\n",
       "            color:  #000000;\n",
       "        }#T_c6d0ac9c_927c_11eb_9292_0242ac130202row3_col1{\n",
       "            background-color:  #bad0f8;\n",
       "            color:  #000000;\n",
       "        }#T_c6d0ac9c_927c_11eb_9292_0242ac130202row3_col2{\n",
       "            background-color:  #9abbff;\n",
       "            color:  #000000;\n",
       "        }#T_c6d0ac9c_927c_11eb_9292_0242ac130202row3_col5,#T_c6d0ac9c_927c_11eb_9292_0242ac130202row6_col3,#T_c6d0ac9c_927c_11eb_9292_0242ac130202row11_col5,#T_c6d0ac9c_927c_11eb_9292_0242ac130202row11_col9{\n",
       "            background-color:  #445acc;\n",
       "            color:  #f1f1f1;\n",
       "        }#T_c6d0ac9c_927c_11eb_9292_0242ac130202row3_col6,#T_c6d0ac9c_927c_11eb_9292_0242ac130202row4_col6,#T_c6d0ac9c_927c_11eb_9292_0242ac130202row9_col7{\n",
       "            background-color:  #dbdcde;\n",
       "            color:  #000000;\n",
       "        }#T_c6d0ac9c_927c_11eb_9292_0242ac130202row3_col7,#T_c6d0ac9c_927c_11eb_9292_0242ac130202row4_col7,#T_c6d0ac9c_927c_11eb_9292_0242ac130202row9_col6{\n",
       "            background-color:  #d9dce1;\n",
       "            color:  #000000;\n",
       "        }#T_c6d0ac9c_927c_11eb_9292_0242ac130202row3_col8,#T_c6d0ac9c_927c_11eb_9292_0242ac130202row8_col4{\n",
       "            background-color:  #a2c1ff;\n",
       "            color:  #000000;\n",
       "        }#T_c6d0ac9c_927c_11eb_9292_0242ac130202row3_col9,#T_c6d0ac9c_927c_11eb_9292_0242ac130202row6_col5,#T_c6d0ac9c_927c_11eb_9292_0242ac130202row7_col3,#T_c6d0ac9c_927c_11eb_9292_0242ac130202row8_col10,#T_c6d0ac9c_927c_11eb_9292_0242ac130202row9_col5{\n",
       "            background-color:  #4055c8;\n",
       "            color:  #f1f1f1;\n",
       "        }#T_c6d0ac9c_927c_11eb_9292_0242ac130202row3_col10,#T_c6d0ac9c_927c_11eb_9292_0242ac130202row7_col10,#T_c6d0ac9c_927c_11eb_9292_0242ac130202row9_col4{\n",
       "            background-color:  #779af7;\n",
       "            color:  #000000;\n",
       "        }#T_c6d0ac9c_927c_11eb_9292_0242ac130202row3_col11{\n",
       "            background-color:  #80a3fa;\n",
       "            color:  #000000;\n",
       "        }#T_c6d0ac9c_927c_11eb_9292_0242ac130202row4_col0,#T_c6d0ac9c_927c_11eb_9292_0242ac130202row5_col3,#T_c6d0ac9c_927c_11eb_9292_0242ac130202row7_col5{\n",
       "            background-color:  #465ecf;\n",
       "            color:  #f1f1f1;\n",
       "        }#T_c6d0ac9c_927c_11eb_9292_0242ac130202row4_col1{\n",
       "            background-color:  #a3c2fe;\n",
       "            color:  #000000;\n",
       "        }#T_c6d0ac9c_927c_11eb_9292_0242ac130202row4_col3{\n",
       "            background-color:  #5470de;\n",
       "            color:  #000000;\n",
       "        }#T_c6d0ac9c_927c_11eb_9292_0242ac130202row4_col5{\n",
       "            background-color:  #3d50c3;\n",
       "            color:  #f1f1f1;\n",
       "        }#T_c6d0ac9c_927c_11eb_9292_0242ac130202row4_col8{\n",
       "            background-color:  #c7d7f0;\n",
       "            color:  #000000;\n",
       "        }#T_c6d0ac9c_927c_11eb_9292_0242ac130202row4_col9,#T_c6d0ac9c_927c_11eb_9292_0242ac130202row9_col3{\n",
       "            background-color:  #3f53c6;\n",
       "            color:  #f1f1f1;\n",
       "        }#T_c6d0ac9c_927c_11eb_9292_0242ac130202row4_col10,#T_c6d0ac9c_927c_11eb_9292_0242ac130202row10_col4{\n",
       "            background-color:  #6180e9;\n",
       "            color:  #000000;\n",
       "        }#T_c6d0ac9c_927c_11eb_9292_0242ac130202row5_col1{\n",
       "            background-color:  #abc8fd;\n",
       "            color:  #000000;\n",
       "        }#T_c6d0ac9c_927c_11eb_9292_0242ac130202row5_col2,#T_c6d0ac9c_927c_11eb_9292_0242ac130202row5_col10,#T_c6d0ac9c_927c_11eb_9292_0242ac130202row6_col4{\n",
       "            background-color:  #7da0f9;\n",
       "            color:  #000000;\n",
       "        }#T_c6d0ac9c_927c_11eb_9292_0242ac130202row5_col6,#T_c6d0ac9c_927c_11eb_9292_0242ac130202row11_col6,#T_c6d0ac9c_927c_11eb_9292_0242ac130202row11_col7{\n",
       "            background-color:  #dadce0;\n",
       "            color:  #000000;\n",
       "        }#T_c6d0ac9c_927c_11eb_9292_0242ac130202row5_col8,#T_c6d0ac9c_927c_11eb_9292_0242ac130202row6_col1,#T_c6d0ac9c_927c_11eb_9292_0242ac130202row7_col8{\n",
       "            background-color:  #a5c3fe;\n",
       "            color:  #000000;\n",
       "        }#T_c6d0ac9c_927c_11eb_9292_0242ac130202row5_col11,#T_c6d0ac9c_927c_11eb_9292_0242ac130202row6_col10{\n",
       "            background-color:  #7ea1fa;\n",
       "            color:  #000000;\n",
       "        }#T_c6d0ac9c_927c_11eb_9292_0242ac130202row6_col0{\n",
       "            background-color:  #688aef;\n",
       "            color:  #000000;\n",
       "        }#T_c6d0ac9c_927c_11eb_9292_0242ac130202row6_col2{\n",
       "            background-color:  #6c8ff1;\n",
       "            color:  #000000;\n",
       "        }#T_c6d0ac9c_927c_11eb_9292_0242ac130202row6_col8{\n",
       "            background-color:  #aec9fc;\n",
       "            color:  #000000;\n",
       "        }#T_c6d0ac9c_927c_11eb_9292_0242ac130202row6_col9,#T_c6d0ac9c_927c_11eb_9292_0242ac130202row8_col9{\n",
       "            background-color:  #4257c9;\n",
       "            color:  #f1f1f1;\n",
       "        }#T_c6d0ac9c_927c_11eb_9292_0242ac130202row6_col11,#T_c6d0ac9c_927c_11eb_9292_0242ac130202row9_col11,#T_c6d0ac9c_927c_11eb_9292_0242ac130202row11_col8{\n",
       "            background-color:  #7b9ff9;\n",
       "            color:  #000000;\n",
       "        }#T_c6d0ac9c_927c_11eb_9292_0242ac130202row7_col1{\n",
       "            background-color:  #adc9fd;\n",
       "            color:  #000000;\n",
       "        }#T_c6d0ac9c_927c_11eb_9292_0242ac130202row7_col4{\n",
       "            background-color:  #799cf8;\n",
       "            color:  #000000;\n",
       "        }#T_c6d0ac9c_927c_11eb_9292_0242ac130202row8_col0{\n",
       "            background-color:  #8fb1fe;\n",
       "            color:  #000000;\n",
       "        }#T_c6d0ac9c_927c_11eb_9292_0242ac130202row8_col5{\n",
       "            background-color:  #3c4ec2;\n",
       "            color:  #f1f1f1;\n",
       "        }#T_c6d0ac9c_927c_11eb_9292_0242ac130202row8_col11{\n",
       "            background-color:  #485fd1;\n",
       "            color:  #f1f1f1;\n",
       "        }#T_c6d0ac9c_927c_11eb_9292_0242ac130202row9_col0,#T_c6d0ac9c_927c_11eb_9292_0242ac130202row11_col0{\n",
       "            background-color:  #6384eb;\n",
       "            color:  #000000;\n",
       "        }#T_c6d0ac9c_927c_11eb_9292_0242ac130202row9_col1{\n",
       "            background-color:  #a9c6fd;\n",
       "            color:  #000000;\n",
       "        }#T_c6d0ac9c_927c_11eb_9292_0242ac130202row9_col2{\n",
       "            background-color:  #7396f5;\n",
       "            color:  #000000;\n",
       "        }#T_c6d0ac9c_927c_11eb_9292_0242ac130202row9_col8{\n",
       "            background-color:  #a7c5fe;\n",
       "            color:  #000000;\n",
       "        }#T_c6d0ac9c_927c_11eb_9292_0242ac130202row9_col10{\n",
       "            background-color:  #86a9fc;\n",
       "            color:  #000000;\n",
       "        }#T_c6d0ac9c_927c_11eb_9292_0242ac130202row10_col0{\n",
       "            background-color:  #89acfd;\n",
       "            color:  #000000;\n",
       "        }#T_c6d0ac9c_927c_11eb_9292_0242ac130202row10_col3{\n",
       "            background-color:  #3e51c5;\n",
       "            color:  #f1f1f1;\n",
       "        }#T_c6d0ac9c_927c_11eb_9292_0242ac130202row10_col6{\n",
       "            background-color:  #dcdddd;\n",
       "            color:  #000000;\n",
       "        }#T_c6d0ac9c_927c_11eb_9292_0242ac130202row10_col9{\n",
       "            background-color:  #4f69d9;\n",
       "            color:  #000000;\n",
       "        }#T_c6d0ac9c_927c_11eb_9292_0242ac130202row10_col11,#T_c6d0ac9c_927c_11eb_9292_0242ac130202row11_col10{\n",
       "            background-color:  #96b7ff;\n",
       "            color:  #000000;\n",
       "        }#T_c6d0ac9c_927c_11eb_9292_0242ac130202row11_col2{\n",
       "            background-color:  #9ebeff;\n",
       "            color:  #000000;\n",
       "        }#T_c6d0ac9c_927c_11eb_9292_0242ac130202row11_col3{\n",
       "            background-color:  #4961d2;\n",
       "            color:  #f1f1f1;\n",
       "        }</style><table id=\"T_c6d0ac9c_927c_11eb_9292_0242ac130202\" ><thead>    <tr>        <th class=\"blank level0\" ></th>        <th class=\"col_heading level0 col0\" >age</th>        <th class=\"col_heading level0 col1\" >decline_app_cnt</th>        <th class=\"col_heading level0 col2\" >score_bki</th>        <th class=\"col_heading level0 col3\" >bki_request_cnt</th>        <th class=\"col_heading level0 col4\" >income</th>        <th class=\"col_heading level0 col5\" >weekend</th>        <th class=\"col_heading level0 col6\" >month</th>        <th class=\"col_heading level0 col7\" >days</th>        <th class=\"col_heading level0 col8\" >history_neg</th>        <th class=\"col_heading level0 col9\" >bki_age_reg</th>        <th class=\"col_heading level0 col10\" >score_rel</th>        <th class=\"col_heading level0 col11\" >score_pas</th>    </tr></thead><tbody>\n",
       "                <tr>\n",
       "                        <th id=\"T_c6d0ac9c_927c_11eb_9292_0242ac130202level0_row0\" class=\"row_heading level0 row0\" >age</th>\n",
       "                        <td id=\"T_c6d0ac9c_927c_11eb_9292_0242ac130202row0_col0\" class=\"data row0 col0\" >1.000</td>\n",
       "                        <td id=\"T_c6d0ac9c_927c_11eb_9292_0242ac130202row0_col1\" class=\"data row0 col1\" >-0.151</td>\n",
       "                        <td id=\"T_c6d0ac9c_927c_11eb_9292_0242ac130202row0_col2\" class=\"data row0 col2\" >-0.109</td>\n",
       "                        <td id=\"T_c6d0ac9c_927c_11eb_9292_0242ac130202row0_col3\" class=\"data row0 col3\" >0.047</td>\n",
       "                        <td id=\"T_c6d0ac9c_927c_11eb_9292_0242ac130202row0_col4\" class=\"data row0 col4\" >-0.102</td>\n",
       "                        <td id=\"T_c6d0ac9c_927c_11eb_9292_0242ac130202row0_col5\" class=\"data row0 col5\" >-0.024</td>\n",
       "                        <td id=\"T_c6d0ac9c_927c_11eb_9292_0242ac130202row0_col6\" class=\"data row0 col6\" >0.018</td>\n",
       "                        <td id=\"T_c6d0ac9c_927c_11eb_9292_0242ac130202row0_col7\" class=\"data row0 col7\" >-0.021</td>\n",
       "                        <td id=\"T_c6d0ac9c_927c_11eb_9292_0242ac130202row0_col8\" class=\"data row0 col8\" >0.143</td>\n",
       "                        <td id=\"T_c6d0ac9c_927c_11eb_9292_0242ac130202row0_col9\" class=\"data row0 col9\" >-0.002</td>\n",
       "                        <td id=\"T_c6d0ac9c_927c_11eb_9292_0242ac130202row0_col10\" class=\"data row0 col10\" >0.126</td>\n",
       "                        <td id=\"T_c6d0ac9c_927c_11eb_9292_0242ac130202row0_col11\" class=\"data row0 col11\" >-0.000</td>\n",
       "            </tr>\n",
       "            <tr>\n",
       "                        <th id=\"T_c6d0ac9c_927c_11eb_9292_0242ac130202level0_row1\" class=\"row_heading level0 row1\" >decline_app_cnt</th>\n",
       "                        <td id=\"T_c6d0ac9c_927c_11eb_9292_0242ac130202row1_col0\" class=\"data row1 col0\" >-0.151</td>\n",
       "                        <td id=\"T_c6d0ac9c_927c_11eb_9292_0242ac130202row1_col1\" class=\"data row1 col1\" >1.000</td>\n",
       "                        <td id=\"T_c6d0ac9c_927c_11eb_9292_0242ac130202row1_col2\" class=\"data row1 col2\" >0.212</td>\n",
       "                        <td id=\"T_c6d0ac9c_927c_11eb_9292_0242ac130202row1_col3\" class=\"data row1 col3\" >0.077</td>\n",
       "                        <td id=\"T_c6d0ac9c_927c_11eb_9292_0242ac130202row1_col4\" class=\"data row1 col4\" >-0.023</td>\n",
       "                        <td id=\"T_c6d0ac9c_927c_11eb_9292_0242ac130202row1_col5\" class=\"data row1 col5\" >0.013</td>\n",
       "                        <td id=\"T_c6d0ac9c_927c_11eb_9292_0242ac130202row1_col6\" class=\"data row1 col6\" >-0.019</td>\n",
       "                        <td id=\"T_c6d0ac9c_927c_11eb_9292_0242ac130202row1_col7\" class=\"data row1 col7\" >0.018</td>\n",
       "                        <td id=\"T_c6d0ac9c_927c_11eb_9292_0242ac130202row1_col8\" class=\"data row1 col8\" >-0.495</td>\n",
       "                        <td id=\"T_c6d0ac9c_927c_11eb_9292_0242ac130202row1_col9\" class=\"data row1 col9\" >0.001</td>\n",
       "                        <td id=\"T_c6d0ac9c_927c_11eb_9292_0242ac130202row1_col10\" class=\"data row1 col10\" >-0.041</td>\n",
       "                        <td id=\"T_c6d0ac9c_927c_11eb_9292_0242ac130202row1_col11\" class=\"data row1 col11\" >0.058</td>\n",
       "            </tr>\n",
       "            <tr>\n",
       "                        <th id=\"T_c6d0ac9c_927c_11eb_9292_0242ac130202level0_row2\" class=\"row_heading level0 row2\" >score_bki</th>\n",
       "                        <td id=\"T_c6d0ac9c_927c_11eb_9292_0242ac130202row2_col0\" class=\"data row2 col0\" >-0.109</td>\n",
       "                        <td id=\"T_c6d0ac9c_927c_11eb_9292_0242ac130202row2_col1\" class=\"data row2 col1\" >0.212</td>\n",
       "                        <td id=\"T_c6d0ac9c_927c_11eb_9292_0242ac130202row2_col2\" class=\"data row2 col2\" >1.000</td>\n",
       "                        <td id=\"T_c6d0ac9c_927c_11eb_9292_0242ac130202row2_col3\" class=\"data row2 col3\" >0.108</td>\n",
       "                        <td id=\"T_c6d0ac9c_927c_11eb_9292_0242ac130202row2_col4\" class=\"data row2 col4\" >-0.018</td>\n",
       "                        <td id=\"T_c6d0ac9c_927c_11eb_9292_0242ac130202row2_col5\" class=\"data row2 col5\" >0.005</td>\n",
       "                        <td id=\"T_c6d0ac9c_927c_11eb_9292_0242ac130202row2_col6\" class=\"data row2 col6\" >-0.055</td>\n",
       "                        <td id=\"T_c6d0ac9c_927c_11eb_9292_0242ac130202row2_col7\" class=\"data row2 col7\" >0.055</td>\n",
       "                        <td id=\"T_c6d0ac9c_927c_11eb_9292_0242ac130202row2_col8\" class=\"data row2 col8\" >-0.159</td>\n",
       "                        <td id=\"T_c6d0ac9c_927c_11eb_9292_0242ac130202row2_col9\" class=\"data row2 col9\" >-0.030</td>\n",
       "                        <td id=\"T_c6d0ac9c_927c_11eb_9292_0242ac130202row2_col10\" class=\"data row2 col10\" >-0.250</td>\n",
       "                        <td id=\"T_c6d0ac9c_927c_11eb_9292_0242ac130202row2_col11\" class=\"data row2 col11\" >0.121</td>\n",
       "            </tr>\n",
       "            <tr>\n",
       "                        <th id=\"T_c6d0ac9c_927c_11eb_9292_0242ac130202level0_row3\" class=\"row_heading level0 row3\" >bki_request_cnt</th>\n",
       "                        <td id=\"T_c6d0ac9c_927c_11eb_9292_0242ac130202row3_col0\" class=\"data row3 col0\" >0.047</td>\n",
       "                        <td id=\"T_c6d0ac9c_927c_11eb_9292_0242ac130202row3_col1\" class=\"data row3 col1\" >0.077</td>\n",
       "                        <td id=\"T_c6d0ac9c_927c_11eb_9292_0242ac130202row3_col2\" class=\"data row3 col2\" >0.108</td>\n",
       "                        <td id=\"T_c6d0ac9c_927c_11eb_9292_0242ac130202row3_col3\" class=\"data row3 col3\" >1.000</td>\n",
       "                        <td id=\"T_c6d0ac9c_927c_11eb_9292_0242ac130202row3_col4\" class=\"data row3 col4\" >0.058</td>\n",
       "                        <td id=\"T_c6d0ac9c_927c_11eb_9292_0242ac130202row3_col5\" class=\"data row3 col5\" >0.012</td>\n",
       "                        <td id=\"T_c6d0ac9c_927c_11eb_9292_0242ac130202row3_col6\" class=\"data row3 col6\" >0.004</td>\n",
       "                        <td id=\"T_c6d0ac9c_927c_11eb_9292_0242ac130202row3_col7\" class=\"data row3 col7\" >-0.006</td>\n",
       "                        <td id=\"T_c6d0ac9c_927c_11eb_9292_0242ac130202row3_col8\" class=\"data row3 col8\" >-0.029</td>\n",
       "                        <td id=\"T_c6d0ac9c_927c_11eb_9292_0242ac130202row3_col9\" class=\"data row3 col9\" >-0.009</td>\n",
       "                        <td id=\"T_c6d0ac9c_927c_11eb_9292_0242ac130202row3_col10\" class=\"data row3 col10\" >-0.016</td>\n",
       "                        <td id=\"T_c6d0ac9c_927c_11eb_9292_0242ac130202row3_col11\" class=\"data row3 col11\" >0.019</td>\n",
       "            </tr>\n",
       "            <tr>\n",
       "                        <th id=\"T_c6d0ac9c_927c_11eb_9292_0242ac130202level0_row4\" class=\"row_heading level0 row4\" >income</th>\n",
       "                        <td id=\"T_c6d0ac9c_927c_11eb_9292_0242ac130202row4_col0\" class=\"data row4 col0\" >-0.102</td>\n",
       "                        <td id=\"T_c6d0ac9c_927c_11eb_9292_0242ac130202row4_col1\" class=\"data row4 col1\" >-0.023</td>\n",
       "                        <td id=\"T_c6d0ac9c_927c_11eb_9292_0242ac130202row4_col2\" class=\"data row4 col2\" >-0.018</td>\n",
       "                        <td id=\"T_c6d0ac9c_927c_11eb_9292_0242ac130202row4_col3\" class=\"data row4 col3\" >0.058</td>\n",
       "                        <td id=\"T_c6d0ac9c_927c_11eb_9292_0242ac130202row4_col4\" class=\"data row4 col4\" >1.000</td>\n",
       "                        <td id=\"T_c6d0ac9c_927c_11eb_9292_0242ac130202row4_col5\" class=\"data row4 col5\" >-0.014</td>\n",
       "                        <td id=\"T_c6d0ac9c_927c_11eb_9292_0242ac130202row4_col6\" class=\"data row4 col6\" >0.008</td>\n",
       "                        <td id=\"T_c6d0ac9c_927c_11eb_9292_0242ac130202row4_col7\" class=\"data row4 col7\" >-0.007</td>\n",
       "                        <td id=\"T_c6d0ac9c_927c_11eb_9292_0242ac130202row4_col8\" class=\"data row4 col8\" >0.140</td>\n",
       "                        <td id=\"T_c6d0ac9c_927c_11eb_9292_0242ac130202row4_col9\" class=\"data row4 col9\" >-0.010</td>\n",
       "                        <td id=\"T_c6d0ac9c_927c_11eb_9292_0242ac130202row4_col10\" class=\"data row4 col10\" >-0.094</td>\n",
       "                        <td id=\"T_c6d0ac9c_927c_11eb_9292_0242ac130202row4_col11\" class=\"data row4 col11\" >-0.248</td>\n",
       "            </tr>\n",
       "            <tr>\n",
       "                        <th id=\"T_c6d0ac9c_927c_11eb_9292_0242ac130202level0_row5\" class=\"row_heading level0 row5\" >weekend</th>\n",
       "                        <td id=\"T_c6d0ac9c_927c_11eb_9292_0242ac130202row5_col0\" class=\"data row5 col0\" >-0.024</td>\n",
       "                        <td id=\"T_c6d0ac9c_927c_11eb_9292_0242ac130202row5_col1\" class=\"data row5 col1\" >0.013</td>\n",
       "                        <td id=\"T_c6d0ac9c_927c_11eb_9292_0242ac130202row5_col2\" class=\"data row5 col2\" >0.005</td>\n",
       "                        <td id=\"T_c6d0ac9c_927c_11eb_9292_0242ac130202row5_col3\" class=\"data row5 col3\" >0.012</td>\n",
       "                        <td id=\"T_c6d0ac9c_927c_11eb_9292_0242ac130202row5_col4\" class=\"data row5 col4\" >-0.014</td>\n",
       "                        <td id=\"T_c6d0ac9c_927c_11eb_9292_0242ac130202row5_col5\" class=\"data row5 col5\" >1.000</td>\n",
       "                        <td id=\"T_c6d0ac9c_927c_11eb_9292_0242ac130202row5_col6\" class=\"data row5 col6\" >-0.002</td>\n",
       "                        <td id=\"T_c6d0ac9c_927c_11eb_9292_0242ac130202row5_col7\" class=\"data row5 col7\" >0.018</td>\n",
       "                        <td id=\"T_c6d0ac9c_927c_11eb_9292_0242ac130202row5_col8\" class=\"data row5 col8\" >-0.019</td>\n",
       "                        <td id=\"T_c6d0ac9c_927c_11eb_9292_0242ac130202row5_col9\" class=\"data row5 col9\" >-0.001</td>\n",
       "                        <td id=\"T_c6d0ac9c_927c_11eb_9292_0242ac130202row5_col10\" class=\"data row5 col10\" >0.006</td>\n",
       "                        <td id=\"T_c6d0ac9c_927c_11eb_9292_0242ac130202row5_col11\" class=\"data row5 col11\" >0.011</td>\n",
       "            </tr>\n",
       "            <tr>\n",
       "                        <th id=\"T_c6d0ac9c_927c_11eb_9292_0242ac130202level0_row6\" class=\"row_heading level0 row6\" >month</th>\n",
       "                        <td id=\"T_c6d0ac9c_927c_11eb_9292_0242ac130202row6_col0\" class=\"data row6 col0\" >0.018</td>\n",
       "                        <td id=\"T_c6d0ac9c_927c_11eb_9292_0242ac130202row6_col1\" class=\"data row6 col1\" >-0.019</td>\n",
       "                        <td id=\"T_c6d0ac9c_927c_11eb_9292_0242ac130202row6_col2\" class=\"data row6 col2\" >-0.055</td>\n",
       "                        <td id=\"T_c6d0ac9c_927c_11eb_9292_0242ac130202row6_col3\" class=\"data row6 col3\" >0.004</td>\n",
       "                        <td id=\"T_c6d0ac9c_927c_11eb_9292_0242ac130202row6_col4\" class=\"data row6 col4\" >0.008</td>\n",
       "                        <td id=\"T_c6d0ac9c_927c_11eb_9292_0242ac130202row6_col5\" class=\"data row6 col5\" >-0.002</td>\n",
       "                        <td id=\"T_c6d0ac9c_927c_11eb_9292_0242ac130202row6_col6\" class=\"data row6 col6\" >1.000</td>\n",
       "                        <td id=\"T_c6d0ac9c_927c_11eb_9292_0242ac130202row6_col7\" class=\"data row6 col7\" >-0.964</td>\n",
       "                        <td id=\"T_c6d0ac9c_927c_11eb_9292_0242ac130202row6_col8\" class=\"data row6 col8\" >0.023</td>\n",
       "                        <td id=\"T_c6d0ac9c_927c_11eb_9292_0242ac130202row6_col9\" class=\"data row6 col9\" >-0.006</td>\n",
       "                        <td id=\"T_c6d0ac9c_927c_11eb_9292_0242ac130202row6_col10\" class=\"data row6 col10\" >0.013</td>\n",
       "                        <td id=\"T_c6d0ac9c_927c_11eb_9292_0242ac130202row6_col11\" class=\"data row6 col11\" >0.002</td>\n",
       "            </tr>\n",
       "            <tr>\n",
       "                        <th id=\"T_c6d0ac9c_927c_11eb_9292_0242ac130202level0_row7\" class=\"row_heading level0 row7\" >days</th>\n",
       "                        <td id=\"T_c6d0ac9c_927c_11eb_9292_0242ac130202row7_col0\" class=\"data row7 col0\" >-0.021</td>\n",
       "                        <td id=\"T_c6d0ac9c_927c_11eb_9292_0242ac130202row7_col1\" class=\"data row7 col1\" >0.018</td>\n",
       "                        <td id=\"T_c6d0ac9c_927c_11eb_9292_0242ac130202row7_col2\" class=\"data row7 col2\" >0.055</td>\n",
       "                        <td id=\"T_c6d0ac9c_927c_11eb_9292_0242ac130202row7_col3\" class=\"data row7 col3\" >-0.006</td>\n",
       "                        <td id=\"T_c6d0ac9c_927c_11eb_9292_0242ac130202row7_col4\" class=\"data row7 col4\" >-0.007</td>\n",
       "                        <td id=\"T_c6d0ac9c_927c_11eb_9292_0242ac130202row7_col5\" class=\"data row7 col5\" >0.018</td>\n",
       "                        <td id=\"T_c6d0ac9c_927c_11eb_9292_0242ac130202row7_col6\" class=\"data row7 col6\" >-0.964</td>\n",
       "                        <td id=\"T_c6d0ac9c_927c_11eb_9292_0242ac130202row7_col7\" class=\"data row7 col7\" >1.000</td>\n",
       "                        <td id=\"T_c6d0ac9c_927c_11eb_9292_0242ac130202row7_col8\" class=\"data row7 col8\" >-0.021</td>\n",
       "                        <td id=\"T_c6d0ac9c_927c_11eb_9292_0242ac130202row7_col9\" class=\"data row7 col9\" >0.007</td>\n",
       "                        <td id=\"T_c6d0ac9c_927c_11eb_9292_0242ac130202row7_col10\" class=\"data row7 col10\" >-0.013</td>\n",
       "                        <td id=\"T_c6d0ac9c_927c_11eb_9292_0242ac130202row7_col11\" class=\"data row7 col11\" >-0.000</td>\n",
       "            </tr>\n",
       "            <tr>\n",
       "                        <th id=\"T_c6d0ac9c_927c_11eb_9292_0242ac130202level0_row8\" class=\"row_heading level0 row8\" >history_neg</th>\n",
       "                        <td id=\"T_c6d0ac9c_927c_11eb_9292_0242ac130202row8_col0\" class=\"data row8 col0\" >0.143</td>\n",
       "                        <td id=\"T_c6d0ac9c_927c_11eb_9292_0242ac130202row8_col1\" class=\"data row8 col1\" >-0.495</td>\n",
       "                        <td id=\"T_c6d0ac9c_927c_11eb_9292_0242ac130202row8_col2\" class=\"data row8 col2\" >-0.159</td>\n",
       "                        <td id=\"T_c6d0ac9c_927c_11eb_9292_0242ac130202row8_col3\" class=\"data row8 col3\" >-0.029</td>\n",
       "                        <td id=\"T_c6d0ac9c_927c_11eb_9292_0242ac130202row8_col4\" class=\"data row8 col4\" >0.140</td>\n",
       "                        <td id=\"T_c6d0ac9c_927c_11eb_9292_0242ac130202row8_col5\" class=\"data row8 col5\" >-0.019</td>\n",
       "                        <td id=\"T_c6d0ac9c_927c_11eb_9292_0242ac130202row8_col6\" class=\"data row8 col6\" >0.023</td>\n",
       "                        <td id=\"T_c6d0ac9c_927c_11eb_9292_0242ac130202row8_col7\" class=\"data row8 col7\" >-0.021</td>\n",
       "                        <td id=\"T_c6d0ac9c_927c_11eb_9292_0242ac130202row8_col8\" class=\"data row8 col8\" >1.000</td>\n",
       "                        <td id=\"T_c6d0ac9c_927c_11eb_9292_0242ac130202row8_col9\" class=\"data row8 col9\" >-0.005</td>\n",
       "                        <td id=\"T_c6d0ac9c_927c_11eb_9292_0242ac130202row8_col10\" class=\"data row8 col10\" >-0.226</td>\n",
       "                        <td id=\"T_c6d0ac9c_927c_11eb_9292_0242ac130202row8_col11\" class=\"data row8 col11\" >-0.192</td>\n",
       "            </tr>\n",
       "            <tr>\n",
       "                        <th id=\"T_c6d0ac9c_927c_11eb_9292_0242ac130202level0_row9\" class=\"row_heading level0 row9\" >bki_age_reg</th>\n",
       "                        <td id=\"T_c6d0ac9c_927c_11eb_9292_0242ac130202row9_col0\" class=\"data row9 col0\" >-0.002</td>\n",
       "                        <td id=\"T_c6d0ac9c_927c_11eb_9292_0242ac130202row9_col1\" class=\"data row9 col1\" >0.001</td>\n",
       "                        <td id=\"T_c6d0ac9c_927c_11eb_9292_0242ac130202row9_col2\" class=\"data row9 col2\" >-0.030</td>\n",
       "                        <td id=\"T_c6d0ac9c_927c_11eb_9292_0242ac130202row9_col3\" class=\"data row9 col3\" >-0.009</td>\n",
       "                        <td id=\"T_c6d0ac9c_927c_11eb_9292_0242ac130202row9_col4\" class=\"data row9 col4\" >-0.010</td>\n",
       "                        <td id=\"T_c6d0ac9c_927c_11eb_9292_0242ac130202row9_col5\" class=\"data row9 col5\" >-0.001</td>\n",
       "                        <td id=\"T_c6d0ac9c_927c_11eb_9292_0242ac130202row9_col6\" class=\"data row9 col6\" >-0.006</td>\n",
       "                        <td id=\"T_c6d0ac9c_927c_11eb_9292_0242ac130202row9_col7\" class=\"data row9 col7\" >0.007</td>\n",
       "                        <td id=\"T_c6d0ac9c_927c_11eb_9292_0242ac130202row9_col8\" class=\"data row9 col8\" >-0.005</td>\n",
       "                        <td id=\"T_c6d0ac9c_927c_11eb_9292_0242ac130202row9_col9\" class=\"data row9 col9\" >1.000</td>\n",
       "                        <td id=\"T_c6d0ac9c_927c_11eb_9292_0242ac130202row9_col10\" class=\"data row9 col10\" >0.039</td>\n",
       "                        <td id=\"T_c6d0ac9c_927c_11eb_9292_0242ac130202row9_col11\" class=\"data row9 col11\" >0.005</td>\n",
       "            </tr>\n",
       "            <tr>\n",
       "                        <th id=\"T_c6d0ac9c_927c_11eb_9292_0242ac130202level0_row10\" class=\"row_heading level0 row10\" >score_rel</th>\n",
       "                        <td id=\"T_c6d0ac9c_927c_11eb_9292_0242ac130202row10_col0\" class=\"data row10 col0\" >0.126</td>\n",
       "                        <td id=\"T_c6d0ac9c_927c_11eb_9292_0242ac130202row10_col1\" class=\"data row10 col1\" >-0.041</td>\n",
       "                        <td id=\"T_c6d0ac9c_927c_11eb_9292_0242ac130202row10_col2\" class=\"data row10 col2\" >-0.250</td>\n",
       "                        <td id=\"T_c6d0ac9c_927c_11eb_9292_0242ac130202row10_col3\" class=\"data row10 col3\" >-0.016</td>\n",
       "                        <td id=\"T_c6d0ac9c_927c_11eb_9292_0242ac130202row10_col4\" class=\"data row10 col4\" >-0.094</td>\n",
       "                        <td id=\"T_c6d0ac9c_927c_11eb_9292_0242ac130202row10_col5\" class=\"data row10 col5\" >0.006</td>\n",
       "                        <td id=\"T_c6d0ac9c_927c_11eb_9292_0242ac130202row10_col6\" class=\"data row10 col6\" >0.013</td>\n",
       "                        <td id=\"T_c6d0ac9c_927c_11eb_9292_0242ac130202row10_col7\" class=\"data row10 col7\" >-0.013</td>\n",
       "                        <td id=\"T_c6d0ac9c_927c_11eb_9292_0242ac130202row10_col8\" class=\"data row10 col8\" >-0.226</td>\n",
       "                        <td id=\"T_c6d0ac9c_927c_11eb_9292_0242ac130202row10_col9\" class=\"data row10 col9\" >0.039</td>\n",
       "                        <td id=\"T_c6d0ac9c_927c_11eb_9292_0242ac130202row10_col10\" class=\"data row10 col10\" >1.000</td>\n",
       "                        <td id=\"T_c6d0ac9c_927c_11eb_9292_0242ac130202row10_col11\" class=\"data row10 col11\" >0.094</td>\n",
       "            </tr>\n",
       "            <tr>\n",
       "                        <th id=\"T_c6d0ac9c_927c_11eb_9292_0242ac130202level0_row11\" class=\"row_heading level0 row11\" >score_pas</th>\n",
       "                        <td id=\"T_c6d0ac9c_927c_11eb_9292_0242ac130202row11_col0\" class=\"data row11 col0\" >-0.000</td>\n",
       "                        <td id=\"T_c6d0ac9c_927c_11eb_9292_0242ac130202row11_col1\" class=\"data row11 col1\" >0.058</td>\n",
       "                        <td id=\"T_c6d0ac9c_927c_11eb_9292_0242ac130202row11_col2\" class=\"data row11 col2\" >0.121</td>\n",
       "                        <td id=\"T_c6d0ac9c_927c_11eb_9292_0242ac130202row11_col3\" class=\"data row11 col3\" >0.019</td>\n",
       "                        <td id=\"T_c6d0ac9c_927c_11eb_9292_0242ac130202row11_col4\" class=\"data row11 col4\" >-0.248</td>\n",
       "                        <td id=\"T_c6d0ac9c_927c_11eb_9292_0242ac130202row11_col5\" class=\"data row11 col5\" >0.011</td>\n",
       "                        <td id=\"T_c6d0ac9c_927c_11eb_9292_0242ac130202row11_col6\" class=\"data row11 col6\" >0.002</td>\n",
       "                        <td id=\"T_c6d0ac9c_927c_11eb_9292_0242ac130202row11_col7\" class=\"data row11 col7\" >-0.000</td>\n",
       "                        <td id=\"T_c6d0ac9c_927c_11eb_9292_0242ac130202row11_col8\" class=\"data row11 col8\" >-0.192</td>\n",
       "                        <td id=\"T_c6d0ac9c_927c_11eb_9292_0242ac130202row11_col9\" class=\"data row11 col9\" >0.005</td>\n",
       "                        <td id=\"T_c6d0ac9c_927c_11eb_9292_0242ac130202row11_col10\" class=\"data row11 col10\" >0.094</td>\n",
       "                        <td id=\"T_c6d0ac9c_927c_11eb_9292_0242ac130202row11_col11\" class=\"data row11 col11\" >1.000</td>\n",
       "            </tr>\n",
       "    </tbody></table>"
      ],
      "text/plain": [
       "<pandas.io.formats.style.Styler at 0x7f66b4c9e7d0>"
      ]
     },
     "execution_count": 1135,
     "metadata": {},
     "output_type": "execute_result"
    }
   ],
   "source": [
    "corr = train[num_cols].corr()\n",
    "corr.style.background_gradient(cmap='coolwarm').set_precision(3)"
   ]
  },
  {
   "cell_type": "markdown",
   "metadata": {},
   "source": [
    "Высокой корреляции между признаками не наблюдается, за исключением искусственно созданного bki_age_rate и составляющих его признаков. Но корреляция не настолько высока (меньше 0.7), чтобы исключать наш признак из анализа."
   ]
  },
  {
   "cell_type": "markdown",
   "metadata": {},
   "source": [
    "### Преобразуем категориальные переменные в числовые при помощи dummies и OneHotEncoder"
   ]
  },
  {
   "cell_type": "code",
   "execution_count": 1136,
   "metadata": {
    "ExecuteTime": {
     "end_time": "2020-12-26T08:33:46.360491Z",
     "start_time": "2020-12-26T08:33:46.28469Z"
    }
   },
   "outputs": [
    {
     "data": {
      "text/html": [
       "<div>\n",
       "<style scoped>\n",
       "    .dataframe tbody tr th:only-of-type {\n",
       "        vertical-align: middle;\n",
       "    }\n",
       "\n",
       "    .dataframe tbody tr th {\n",
       "        vertical-align: top;\n",
       "    }\n",
       "\n",
       "    .dataframe thead th {\n",
       "        text-align: right;\n",
       "    }\n",
       "</style>\n",
       "<table border=\"1\" class=\"dataframe\">\n",
       "  <thead>\n",
       "    <tr style=\"text-align: right;\">\n",
       "      <th></th>\n",
       "      <th>client_id</th>\n",
       "      <th>app_date</th>\n",
       "      <th>sex</th>\n",
       "      <th>age</th>\n",
       "      <th>car</th>\n",
       "      <th>car_type</th>\n",
       "      <th>decline_app_cnt</th>\n",
       "      <th>good_work</th>\n",
       "      <th>score_bki</th>\n",
       "      <th>bki_request_cnt</th>\n",
       "      <th>home_address</th>\n",
       "      <th>work_address</th>\n",
       "      <th>income</th>\n",
       "      <th>sna</th>\n",
       "      <th>first_time</th>\n",
       "      <th>foreign_passport</th>\n",
       "      <th>default</th>\n",
       "      <th>days</th>\n",
       "      <th>month</th>\n",
       "      <th>weekend</th>\n",
       "      <th>history_neg</th>\n",
       "      <th>history_norm</th>\n",
       "      <th>envir_2</th>\n",
       "      <th>bki_age_reg</th>\n",
       "      <th>score_rel</th>\n",
       "      <th>score_pas</th>\n",
       "      <th>education_ACD</th>\n",
       "      <th>education_GRD</th>\n",
       "      <th>education_PGR</th>\n",
       "      <th>education_SCH</th>\n",
       "      <th>education_UGR</th>\n",
       "      <th>region_rating_20</th>\n",
       "      <th>region_rating_30</th>\n",
       "      <th>region_rating_40</th>\n",
       "      <th>region_rating_50</th>\n",
       "      <th>region_rating_60</th>\n",
       "      <th>region_rating_70</th>\n",
       "      <th>region_rating_80</th>\n",
       "    </tr>\n",
       "  </thead>\n",
       "  <tbody>\n",
       "    <tr>\n",
       "      <th>83078</th>\n",
       "      <td>57459</td>\n",
       "      <td>2014-03-06</td>\n",
       "      <td>0</td>\n",
       "      <td>3.433987</td>\n",
       "      <td>0</td>\n",
       "      <td>0</td>\n",
       "      <td>1.098612</td>\n",
       "      <td>1</td>\n",
       "      <td>-1.521651</td>\n",
       "      <td>0.000000</td>\n",
       "      <td>1</td>\n",
       "      <td>2</td>\n",
       "      <td>10.085851</td>\n",
       "      <td>1</td>\n",
       "      <td>3</td>\n",
       "      <td>0</td>\n",
       "      <td>1</td>\n",
       "      <td>2576</td>\n",
       "      <td>3</td>\n",
       "      <td>0</td>\n",
       "      <td>1.429516</td>\n",
       "      <td>0.676592</td>\n",
       "      <td>504.292539</td>\n",
       "      <td>5.970748e-24</td>\n",
       "      <td>-5.225330</td>\n",
       "      <td>1.0</td>\n",
       "      <td>0</td>\n",
       "      <td>0</td>\n",
       "      <td>0</td>\n",
       "      <td>1</td>\n",
       "      <td>0</td>\n",
       "      <td>0</td>\n",
       "      <td>0</td>\n",
       "      <td>0</td>\n",
       "      <td>1</td>\n",
       "      <td>0</td>\n",
       "      <td>0</td>\n",
       "      <td>0</td>\n",
       "    </tr>\n",
       "    <tr>\n",
       "      <th>47554</th>\n",
       "      <td>103113</td>\n",
       "      <td>2014-04-21</td>\n",
       "      <td>0</td>\n",
       "      <td>3.806662</td>\n",
       "      <td>0</td>\n",
       "      <td>0</td>\n",
       "      <td>0.000000</td>\n",
       "      <td>0</td>\n",
       "      <td>-1.456282</td>\n",
       "      <td>0.000000</td>\n",
       "      <td>2</td>\n",
       "      <td>3</td>\n",
       "      <td>10.236418</td>\n",
       "      <td>1</td>\n",
       "      <td>3</td>\n",
       "      <td>0</td>\n",
       "      <td>0</td>\n",
       "      <td>2530</td>\n",
       "      <td>4</td>\n",
       "      <td>0</td>\n",
       "      <td>3.000000</td>\n",
       "      <td>0.624134</td>\n",
       "      <td>716.549247</td>\n",
       "      <td>4.990259e-37</td>\n",
       "      <td>-5.543573</td>\n",
       "      <td>1.0</td>\n",
       "      <td>0</td>\n",
       "      <td>0</td>\n",
       "      <td>0</td>\n",
       "      <td>1</td>\n",
       "      <td>0</td>\n",
       "      <td>0</td>\n",
       "      <td>0</td>\n",
       "      <td>0</td>\n",
       "      <td>0</td>\n",
       "      <td>0</td>\n",
       "      <td>1</td>\n",
       "      <td>0</td>\n",
       "    </tr>\n",
       "    <tr>\n",
       "      <th>3383</th>\n",
       "      <td>31685</td>\n",
       "      <td>2014-02-07</td>\n",
       "      <td>1</td>\n",
       "      <td>3.091042</td>\n",
       "      <td>0</td>\n",
       "      <td>0</td>\n",
       "      <td>0.000000</td>\n",
       "      <td>0</td>\n",
       "      <td>-2.233557</td>\n",
       "      <td>0.000000</td>\n",
       "      <td>2</td>\n",
       "      <td>3</td>\n",
       "      <td>10.518700</td>\n",
       "      <td>1</td>\n",
       "      <td>3</td>\n",
       "      <td>0</td>\n",
       "      <td>0</td>\n",
       "      <td>2603</td>\n",
       "      <td>2</td>\n",
       "      <td>0</td>\n",
       "      <td>3.000000</td>\n",
       "      <td>0.733309</td>\n",
       "      <td>841.496017</td>\n",
       "      <td>9.398330e-22</td>\n",
       "      <td>-6.904021</td>\n",
       "      <td>1.0</td>\n",
       "      <td>0</td>\n",
       "      <td>0</td>\n",
       "      <td>0</td>\n",
       "      <td>1</td>\n",
       "      <td>0</td>\n",
       "      <td>0</td>\n",
       "      <td>0</td>\n",
       "      <td>0</td>\n",
       "      <td>0</td>\n",
       "      <td>0</td>\n",
       "      <td>0</td>\n",
       "      <td>1</td>\n",
       "    </tr>\n",
       "    <tr>\n",
       "      <th>54037</th>\n",
       "      <td>105415</td>\n",
       "      <td>2014-04-24</td>\n",
       "      <td>0</td>\n",
       "      <td>3.663562</td>\n",
       "      <td>0</td>\n",
       "      <td>0</td>\n",
       "      <td>0.000000</td>\n",
       "      <td>0</td>\n",
       "      <td>-1.491828</td>\n",
       "      <td>1.945910</td>\n",
       "      <td>1</td>\n",
       "      <td>2</td>\n",
       "      <td>10.126671</td>\n",
       "      <td>1</td>\n",
       "      <td>4</td>\n",
       "      <td>0</td>\n",
       "      <td>0</td>\n",
       "      <td>2527</td>\n",
       "      <td>4</td>\n",
       "      <td>0</td>\n",
       "      <td>4.000000</td>\n",
       "      <td>0.857714</td>\n",
       "      <td>810.133688</td>\n",
       "      <td>2.512398e-40</td>\n",
       "      <td>-5.465405</td>\n",
       "      <td>1.0</td>\n",
       "      <td>0</td>\n",
       "      <td>0</td>\n",
       "      <td>0</td>\n",
       "      <td>1</td>\n",
       "      <td>0</td>\n",
       "      <td>0</td>\n",
       "      <td>0</td>\n",
       "      <td>0</td>\n",
       "      <td>0</td>\n",
       "      <td>0</td>\n",
       "      <td>0</td>\n",
       "      <td>1</td>\n",
       "    </tr>\n",
       "    <tr>\n",
       "      <th>71809</th>\n",
       "      <td>44570</td>\n",
       "      <td>2014-02-21</td>\n",
       "      <td>0</td>\n",
       "      <td>3.951244</td>\n",
       "      <td>0</td>\n",
       "      <td>0</td>\n",
       "      <td>0.000000</td>\n",
       "      <td>0</td>\n",
       "      <td>-2.353052</td>\n",
       "      <td>1.098612</td>\n",
       "      <td>2</td>\n",
       "      <td>3</td>\n",
       "      <td>10.126671</td>\n",
       "      <td>4</td>\n",
       "      <td>3</td>\n",
       "      <td>0</td>\n",
       "      <td>0</td>\n",
       "      <td>2589</td>\n",
       "      <td>2</td>\n",
       "      <td>0</td>\n",
       "      <td>3.000000</td>\n",
       "      <td>0.605908</td>\n",
       "      <td>151.900067</td>\n",
       "      <td>4.121264e-20</td>\n",
       "      <td>7472.418520</td>\n",
       "      <td>1.0</td>\n",
       "      <td>0</td>\n",
       "      <td>0</td>\n",
       "      <td>0</td>\n",
       "      <td>1</td>\n",
       "      <td>0</td>\n",
       "      <td>0</td>\n",
       "      <td>0</td>\n",
       "      <td>0</td>\n",
       "      <td>0</td>\n",
       "      <td>1</td>\n",
       "      <td>0</td>\n",
       "      <td>0</td>\n",
       "    </tr>\n",
       "  </tbody>\n",
       "</table>\n",
       "</div>"
      ],
      "text/plain": [
       "       client_id   app_date  sex       age  car  car_type  decline_app_cnt  \\\n",
       "83078      57459 2014-03-06    0  3.433987    0         0         1.098612   \n",
       "47554     103113 2014-04-21    0  3.806662    0         0         0.000000   \n",
       "3383       31685 2014-02-07    1  3.091042    0         0         0.000000   \n",
       "54037     105415 2014-04-24    0  3.663562    0         0         0.000000   \n",
       "71809      44570 2014-02-21    0  3.951244    0         0         0.000000   \n",
       "\n",
       "       good_work  score_bki  bki_request_cnt  home_address  work_address  \\\n",
       "83078          1  -1.521651         0.000000             1             2   \n",
       "47554          0  -1.456282         0.000000             2             3   \n",
       "3383           0  -2.233557         0.000000             2             3   \n",
       "54037          0  -1.491828         1.945910             1             2   \n",
       "71809          0  -2.353052         1.098612             2             3   \n",
       "\n",
       "          income  sna  first_time  foreign_passport  default  days  month  \\\n",
       "83078  10.085851    1           3                 0        1  2576      3   \n",
       "47554  10.236418    1           3                 0        0  2530      4   \n",
       "3383   10.518700    1           3                 0        0  2603      2   \n",
       "54037  10.126671    1           4                 0        0  2527      4   \n",
       "71809  10.126671    4           3                 0        0  2589      2   \n",
       "\n",
       "       weekend  history_neg  history_norm     envir_2   bki_age_reg  \\\n",
       "83078        0     1.429516      0.676592  504.292539  5.970748e-24   \n",
       "47554        0     3.000000      0.624134  716.549247  4.990259e-37   \n",
       "3383         0     3.000000      0.733309  841.496017  9.398330e-22   \n",
       "54037        0     4.000000      0.857714  810.133688  2.512398e-40   \n",
       "71809        0     3.000000      0.605908  151.900067  4.121264e-20   \n",
       "\n",
       "         score_rel  score_pas  education_ACD  education_GRD  education_PGR  \\\n",
       "83078    -5.225330        1.0              0              0              0   \n",
       "47554    -5.543573        1.0              0              0              0   \n",
       "3383     -6.904021        1.0              0              0              0   \n",
       "54037    -5.465405        1.0              0              0              0   \n",
       "71809  7472.418520        1.0              0              0              0   \n",
       "\n",
       "       education_SCH  education_UGR  region_rating_20  region_rating_30  \\\n",
       "83078              1              0                 0                 0   \n",
       "47554              1              0                 0                 0   \n",
       "3383               1              0                 0                 0   \n",
       "54037              1              0                 0                 0   \n",
       "71809              1              0                 0                 0   \n",
       "\n",
       "       region_rating_40  region_rating_50  region_rating_60  region_rating_70  \\\n",
       "83078                 0                 1                 0                 0   \n",
       "47554                 0                 0                 0                 1   \n",
       "3383                  0                 0                 0                 0   \n",
       "54037                 0                 0                 0                 0   \n",
       "71809                 0                 0                 1                 0   \n",
       "\n",
       "       region_rating_80  \n",
       "83078                 0  \n",
       "47554                 0  \n",
       "3383                  1  \n",
       "54037                 1  \n",
       "71809                 0  "
      ]
     },
     "execution_count": 1136,
     "metadata": {},
     "output_type": "execute_result"
    }
   ],
   "source": [
    "train = pd.get_dummies(train, columns=['education'])\n",
    "train = pd.get_dummies(train, columns=['region_rating'])\n",
    "train.sample(5)"
   ]
  },
  {
   "cell_type": "code",
   "execution_count": 1137,
   "metadata": {
    "ExecuteTime": {
     "end_time": "2020-12-26T08:33:46.802308Z",
     "start_time": "2020-12-26T08:33:46.711546Z"
    }
   },
   "outputs": [],
   "source": [
    "test = pd.get_dummies(test, columns=['education'])\n",
    "test = pd.get_dummies(test, columns=['region_rating'])\n",
    "#test.head()"
   ]
  },
  {
   "cell_type": "code",
   "execution_count": 1138,
   "metadata": {
    "ExecuteTime": {
     "end_time": "2020-12-26T08:33:47.199272Z",
     "start_time": "2020-12-26T08:33:46.813286Z"
    }
   },
   "outputs": [
    {
     "name": "stdout",
     "output_type": "stream",
     "text": [
      "(123736, 42)\n",
      "(36349, 42)\n"
     ]
    }
   ],
   "source": [
    "cat_cols = ['home_address', 'work_address', 'sna', 'first_time', 'education_ACD',\n",
    "    'education_GRD', 'education_PGR', 'education_SCH', 'education_UGR',\n",
    "    'region_rating_20', 'region_rating_30', 'region_rating_40',\n",
    "    'region_rating_50', 'region_rating_60', 'region_rating_70',\n",
    "    'region_rating_80','month']\n",
    "\n",
    "x_cat = OneHotEncoder(sparse=False).fit_transform(train[cat_cols].values)\n",
    "y_cat = OneHotEncoder(sparse=False).fit_transform(test[cat_cols].values)\n",
    "\n",
    "print(x_cat.shape)\n",
    "print(y_cat.shape)"
   ]
  },
  {
   "cell_type": "code",
   "execution_count": 1139,
   "metadata": {},
   "outputs": [
    {
     "data": {
      "text/html": [
       "<div>\n",
       "<style scoped>\n",
       "    .dataframe tbody tr th:only-of-type {\n",
       "        vertical-align: middle;\n",
       "    }\n",
       "\n",
       "    .dataframe tbody tr th {\n",
       "        vertical-align: top;\n",
       "    }\n",
       "\n",
       "    .dataframe thead th {\n",
       "        text-align: right;\n",
       "    }\n",
       "</style>\n",
       "<table border=\"1\" class=\"dataframe\">\n",
       "  <thead>\n",
       "    <tr style=\"text-align: right;\">\n",
       "      <th></th>\n",
       "      <th>client_id</th>\n",
       "      <th>app_date</th>\n",
       "      <th>sex</th>\n",
       "      <th>age</th>\n",
       "      <th>car</th>\n",
       "      <th>car_type</th>\n",
       "      <th>decline_app_cnt</th>\n",
       "      <th>good_work</th>\n",
       "      <th>score_bki</th>\n",
       "      <th>bki_request_cnt</th>\n",
       "      <th>home_address</th>\n",
       "      <th>work_address</th>\n",
       "      <th>income</th>\n",
       "      <th>sna</th>\n",
       "      <th>first_time</th>\n",
       "      <th>foreign_passport</th>\n",
       "      <th>days</th>\n",
       "      <th>month</th>\n",
       "      <th>weekend</th>\n",
       "      <th>history_neg</th>\n",
       "      <th>history_norm</th>\n",
       "      <th>envir_2</th>\n",
       "      <th>bki_age_reg</th>\n",
       "      <th>score_rel</th>\n",
       "      <th>score_pas</th>\n",
       "      <th>education_ACD</th>\n",
       "      <th>education_GRD</th>\n",
       "      <th>education_PGR</th>\n",
       "      <th>education_SCH</th>\n",
       "      <th>education_UGR</th>\n",
       "      <th>region_rating_20</th>\n",
       "      <th>region_rating_30</th>\n",
       "      <th>region_rating_40</th>\n",
       "      <th>region_rating_50</th>\n",
       "      <th>region_rating_60</th>\n",
       "      <th>region_rating_70</th>\n",
       "      <th>region_rating_80</th>\n",
       "    </tr>\n",
       "  </thead>\n",
       "  <tbody>\n",
       "    <tr>\n",
       "      <th>0</th>\n",
       "      <td>74835</td>\n",
       "      <td>2014-03-22</td>\n",
       "      <td>1</td>\n",
       "      <td>3.401197</td>\n",
       "      <td>1</td>\n",
       "      <td>1</td>\n",
       "      <td>0.000000</td>\n",
       "      <td>0</td>\n",
       "      <td>-2.271884</td>\n",
       "      <td>1.386294</td>\n",
       "      <td>1</td>\n",
       "      <td>2</td>\n",
       "      <td>10.819798</td>\n",
       "      <td>1</td>\n",
       "      <td>4</td>\n",
       "      <td>0</td>\n",
       "      <td>2560</td>\n",
       "      <td>3</td>\n",
       "      <td>1</td>\n",
       "      <td>4.000000</td>\n",
       "      <td>0.908844</td>\n",
       "      <td>540.989914</td>\n",
       "      <td>4.372826e-15</td>\n",
       "      <td>-7.727125</td>\n",
       "      <td>1.0</td>\n",
       "      <td>0</td>\n",
       "      <td>1</td>\n",
       "      <td>0</td>\n",
       "      <td>0</td>\n",
       "      <td>0</td>\n",
       "      <td>0</td>\n",
       "      <td>0</td>\n",
       "      <td>0</td>\n",
       "      <td>1</td>\n",
       "      <td>0</td>\n",
       "      <td>0</td>\n",
       "      <td>0</td>\n",
       "    </tr>\n",
       "    <tr>\n",
       "      <th>1</th>\n",
       "      <td>17527</td>\n",
       "      <td>2014-01-24</td>\n",
       "      <td>0</td>\n",
       "      <td>3.688879</td>\n",
       "      <td>0</td>\n",
       "      <td>0</td>\n",
       "      <td>1.791759</td>\n",
       "      <td>0</td>\n",
       "      <td>-1.504999</td>\n",
       "      <td>1.098612</td>\n",
       "      <td>1</td>\n",
       "      <td>2</td>\n",
       "      <td>8.517393</td>\n",
       "      <td>4</td>\n",
       "      <td>3</td>\n",
       "      <td>0</td>\n",
       "      <td>2617</td>\n",
       "      <td>1</td>\n",
       "      <td>0</td>\n",
       "      <td>1.074591</td>\n",
       "      <td>0.639812</td>\n",
       "      <td>106.467415</td>\n",
       "      <td>2.105520e-25</td>\n",
       "      <td>949.998397</td>\n",
       "      <td>1.0</td>\n",
       "      <td>0</td>\n",
       "      <td>0</td>\n",
       "      <td>0</td>\n",
       "      <td>1</td>\n",
       "      <td>0</td>\n",
       "      <td>0</td>\n",
       "      <td>0</td>\n",
       "      <td>0</td>\n",
       "      <td>1</td>\n",
       "      <td>0</td>\n",
       "      <td>0</td>\n",
       "      <td>0</td>\n",
       "    </tr>\n",
       "  </tbody>\n",
       "</table>\n",
       "</div>"
      ],
      "text/plain": [
       "   client_id   app_date  sex       age  car  car_type  decline_app_cnt  \\\n",
       "0      74835 2014-03-22    1  3.401197    1         1         0.000000   \n",
       "1      17527 2014-01-24    0  3.688879    0         0         1.791759   \n",
       "\n",
       "   good_work  score_bki  bki_request_cnt  home_address  work_address  \\\n",
       "0          0  -2.271884         1.386294             1             2   \n",
       "1          0  -1.504999         1.098612             1             2   \n",
       "\n",
       "      income  sna  first_time  foreign_passport  days  month  weekend  \\\n",
       "0  10.819798    1           4                 0  2560      3        1   \n",
       "1   8.517393    4           3                 0  2617      1        0   \n",
       "\n",
       "   history_neg  history_norm     envir_2   bki_age_reg   score_rel  score_pas  \\\n",
       "0     4.000000      0.908844  540.989914  4.372826e-15   -7.727125        1.0   \n",
       "1     1.074591      0.639812  106.467415  2.105520e-25  949.998397        1.0   \n",
       "\n",
       "   education_ACD  education_GRD  education_PGR  education_SCH  education_UGR  \\\n",
       "0              0              1              0              0              0   \n",
       "1              0              0              0              1              0   \n",
       "\n",
       "   region_rating_20  region_rating_30  region_rating_40  region_rating_50  \\\n",
       "0                 0                 0                 0                 1   \n",
       "1                 0                 0                 0                 1   \n",
       "\n",
       "   region_rating_60  region_rating_70  region_rating_80  \n",
       "0                 0                 0                 0  \n",
       "1                 0                 0                 0  "
      ]
     },
     "execution_count": 1139,
     "metadata": {},
     "output_type": "execute_result"
    }
   ],
   "source": [
    "test.head(2)"
   ]
  },
  {
   "cell_type": "markdown",
   "metadata": {},
   "source": [
    "### Значимость числовых переменных"
   ]
  },
  {
   "cell_type": "code",
   "execution_count": 1140,
   "metadata": {
    "ExecuteTime": {
     "end_time": "2020-12-26T08:33:47.767721Z",
     "start_time": "2020-12-26T08:33:47.203232Z"
    }
   },
   "outputs": [
    {
     "data": {
      "text/plain": [
       "Text(0.5, 0, 'F-value')"
      ]
     },
     "execution_count": 1140,
     "metadata": {},
     "output_type": "execute_result"
    },
    {
     "data": {
      "image/png": "[encoded data removed]",
      "text/plain": [
       "<Figure size 864x576 with 1 Axes>"
      ]
     },
     "metadata": {
      "needs_background": "light"
     },
     "output_type": "display_data"
    }
   ],
   "source": [
    "imp_num = Series(f_classif(train[num_cols], train['default'])[0], index=num_cols)\n",
    "imp_num.sort_values(inplace=True)\n",
    "imp_num.plot(kind='barh')\n",
    "plt.title('Значимость числовых переменных')\n",
    "plt.xlabel('F-value')"
   ]
  },
  {
   "cell_type": "markdown",
   "metadata": {},
   "source": [
    "### Значимость бинарных и категориальных переменных"
   ]
  },
  {
   "cell_type": "code",
   "execution_count": 1141,
   "metadata": {
    "ExecuteTime": {
     "end_time": "2020-12-26T08:33:48.306289Z",
     "start_time": "2020-12-26T08:33:47.770714Z"
    },
    "scrolled": true
   },
   "outputs": [
    {
     "data": {
      "text/plain": [
       "Text(0.5, 1.0, 'Значимость бинарных переменных')"
      ]
     },
     "execution_count": 1141,
     "metadata": {},
     "output_type": "execute_result"
    },
    {
     "data": {
      "image/png": "[encoded data removed]",
      "text/plain": [
       "<Figure size 864x576 with 1 Axes>"
      ]
     },
     "metadata": {
      "needs_background": "light"
     },
     "output_type": "display_data"
    }
   ],
   "source": [
    "# Значимость бинарных признаков\n",
    "\n",
    "imp_bin = Series(mutual_info_classif(train[bin_cols], train['default'], discrete_features=True), index=bin_cols)\n",
    "imp_bin.sort_values(inplace=True)\n",
    "imp_bin.plot(kind='barh')\n",
    "plt.title('Значимость бинарных переменных')"
   ]
  },
  {
   "cell_type": "markdown",
   "metadata": {},
   "source": [
    "Видим, что наличие загран паспорта и флаг иномарки являются наиболее значимыми признаками. Пол - наименее. НО из этого набора исключать ничего не будем."
   ]
  },
  {
   "cell_type": "code",
   "execution_count": 1142,
   "metadata": {
    "ExecuteTime": {
     "end_time": "2020-12-26T08:33:49.101156Z",
     "start_time": "2020-12-26T08:33:48.309274Z"
    }
   },
   "outputs": [
    {
     "data": {
      "text/plain": [
       "Text(0.5, 1.0, 'Значимость категориальных признаков')"
      ]
     },
     "execution_count": 1142,
     "metadata": {},
     "output_type": "execute_result"
    },
    {
     "data": {
      "image/png": "[encoded data removed]",
      "text/plain": [
       "<Figure size 864x576 with 1 Axes>"
      ]
     },
     "metadata": {
      "needs_background": "light"
     },
     "output_type": "display_data"
    }
   ],
   "source": [
    "# Значимость категориальных признаков\n",
    "\n",
    "imp_cat = pd.Series(mutual_info_classif(train[cat_cols], train['default'],\n",
    "                    discrete_features=True), index=train[cat_cols].columns)\n",
    "imp_cat.sort_values(inplace=True)\n",
    "imp_cat.plot(kind='barh')\n",
    "plt.title('Значимость категориальных признаков')"
   ]
  },
  {
   "cell_type": "markdown",
   "metadata": {},
   "source": [
    "### Подготовка данных к машинному обучению"
   ]
  },
  {
   "cell_type": "code",
   "execution_count": 1143,
   "metadata": {
    "ExecuteTime": {
     "end_time": "2020-12-26T08:33:49.337524Z",
     "start_time": "2020-12-26T08:33:49.104149Z"
    }
   },
   "outputs": [],
   "source": [
    "poly = PolynomialFeatures(2)\n",
    "\n",
    "x_p = poly.fit_transform(train[num_cols].values)\n",
    "y_p = poly.fit_transform(test[num_cols].values)"
   ]
  },
  {
   "cell_type": "code",
   "execution_count": 1144,
   "metadata": {
    "ExecuteTime": {
     "end_time": "2020-12-26T08:33:49.751419Z",
     "start_time": "2020-12-26T08:33:49.344516Z"
    }
   },
   "outputs": [
    {
     "data": {
      "text/plain": [
       "(123736, 91)"
      ]
     },
     "execution_count": 1144,
     "metadata": {},
     "output_type": "execute_result"
    }
   ],
   "source": [
    "# Стандартизация числовых переменных\n",
    "\n",
    "X_num = StandardScaler().fit_transform(x_p)\n",
    "X_num.shape"
   ]
  },
  {
   "cell_type": "code",
   "execution_count": 1145,
   "metadata": {
    "ExecuteTime": {
     "end_time": "2020-12-26T08:33:49.86113Z",
     "start_time": "2020-12-26T08:33:49.755407Z"
    }
   },
   "outputs": [
    {
     "data": {
      "text/plain": [
       "(36349, 91)"
      ]
     },
     "execution_count": 1145,
     "metadata": {},
     "output_type": "execute_result"
    }
   ],
   "source": [
    "Y_num = StandardScaler().fit_transform(y_p)\n",
    "Y_num.shape"
   ]
  },
  {
   "cell_type": "markdown",
   "metadata": {},
   "source": [
    "Объединим стандартизованные числовые, бинарные и закодированные категориальные переменные в одно признаковое пространство.\n",
    "\n",
    "Разделим признаки и целевую переменную."
   ]
  },
  {
   "cell_type": "code",
   "execution_count": 1146,
   "metadata": {
    "ExecuteTime": {
     "end_time": "2020-12-26T08:33:50.0207Z",
     "start_time": "2020-12-26T08:33:49.895035Z"
    }
   },
   "outputs": [],
   "source": [
    "X = np.hstack([X_num, train[bin_cols].values, x_cat])\n",
    "Y = train['default'].values\n",
    "\n",
    "id_test = test['client_id']\n",
    "test = np.hstack([Y_num, test[bin_cols].values, y_cat])"
   ]
  },
  {
   "cell_type": "code",
   "execution_count": 1147,
   "metadata": {
    "ExecuteTime": {
     "end_time": "2020-12-26T08:33:50.178283Z",
     "start_time": "2020-12-26T08:33:50.027679Z"
    }
   },
   "outputs": [],
   "source": [
    "X_train, X_test, y_train, y_test = train_test_split(X, Y, test_size=0.20, random_state=RANDOM_SEED, shuffle=True)"
   ]
  },
  {
   "cell_type": "markdown",
   "metadata": {},
   "source": [
    "### Подбор гиперпараметров (регуляризация)"
   ]
  },
  {
   "cell_type": "code",
   "execution_count": 1148,
   "metadata": {
    "ExecuteTime": {
     "end_time": "2020-12-26T08:35:15.282564Z",
     "start_time": "2020-12-26T08:33:50.185268Z"
    }
   },
   "outputs": [
    {
     "name": "stdout",
     "output_type": "stream",
     "text": [
      "Лучший penalty: l2\n",
      "Лучшее C: 1291.5496650148827\n"
     ]
    }
   ],
   "source": [
    "# Зададим ограничения для параметра регуляризации\n",
    "C = np.logspace(0, 4, 10)\n",
    "\n",
    "penalty = ['l1', 'l2']\n",
    "hyperparameters = dict(C=C, penalty=penalty)\n",
    "\n",
    "model = LogisticRegression()\n",
    "model.fit(X_train, y_train)\n",
    "\n",
    "clf = GridSearchCV(model, hyperparameters, cv=5, verbose=0)\n",
    "\n",
    "best_model = clf.fit(X_train, y_train)\n",
    "\n",
    "print('Лучший penalty:', best_model.best_estimator_.get_params()['penalty'])\n",
    "print('Лучшее C:', best_model.best_estimator_.get_params()['C'])"
   ]
  },
  {
   "cell_type": "markdown",
   "metadata": {},
   "source": [
    "### Обучение и метрики"
   ]
  },
  {
   "cell_type": "code",
   "execution_count": 1149,
   "metadata": {
    "ExecuteTime": {
     "end_time": "2020-12-26T08:35:29.495559Z",
     "start_time": "2020-12-26T08:35:15.286551Z"
    }
   },
   "outputs": [
    {
     "data": {
      "text/plain": [
       "LogisticRegression(C=21.544346900318832, max_iter=1000)"
      ]
     },
     "execution_count": 1149,
     "metadata": {},
     "output_type": "execute_result"
    }
   ],
   "source": [
    "# Обучим модель\n",
    "\n",
    "model = LogisticRegression(penalty='l2', C = 1291.5496650148827, max_iter=1000)\n",
    "model.fit(X_train, y_train)"
   ]
  },
  {
   "cell_type": "code",
   "execution_count": 1150,
   "metadata": {},
   "outputs": [],
   "source": [
    "probs = model.predict_proba(X_test)\n",
    "probs = probs[:, 1]"
   ]
  },
  {
   "cell_type": "code",
   "execution_count": 1151,
   "metadata": {},
   "outputs": [
    {
     "data": {
      "image/png": "[encoded data removed]",
      "text/plain": [
       "<Figure size 576x576 with 1 Axes>"
      ]
     },
     "metadata": {
      "needs_background": "light"
     },
     "output_type": "display_data"
    }
   ],
   "source": [
    "calc_and_plot_roc(y_test, probs)"
   ]
  },
  {
   "cell_type": "code",
   "execution_count": 1152,
   "metadata": {
    "ExecuteTime": {
     "end_time": "2020-12-26T08:35:30.163862Z",
     "start_time": "2020-12-26T08:35:30.133942Z"
    }
   },
   "outputs": [
    {
     "name": "stdout",
     "output_type": "stream",
     "text": [
      "acc = 0.67 F1-score = 0.67\n"
     ]
    }
   ],
   "source": [
    "Y_predicted = model.predict(X_test)\n",
    "print_logisitc_metrics(y_test, Y_predicted)"
   ]
  },
  {
   "cell_type": "code",
   "execution_count": 1153,
   "metadata": {
    "ExecuteTime": {
     "end_time": "2020-12-26T08:35:30.211737Z",
     "start_time": "2020-12-26T08:35:30.166856Z"
    }
   },
   "outputs": [
    {
     "data": {
      "text/plain": [
       "array([[8342, 4179],\n",
       "       [3919, 8308]])"
      ]
     },
     "execution_count": 1153,
     "metadata": {},
     "output_type": "execute_result"
    }
   ],
   "source": [
    "# confusion matrix\n",
    "conmx = confusion_matrix(y_test, Y_predicted)\n",
    "conmx"
   ]
  },
  {
   "cell_type": "code",
   "execution_count": 1154,
   "metadata": {
    "ExecuteTime": {
     "end_time": "2020-12-26T08:35:48.275431Z",
     "start_time": "2020-12-26T08:35:30.656546Z"
    }
   },
   "outputs": [],
   "source": [
    "model = LogisticRegression(penalty='l2', C=1291.5496650148827, max_iter=1000)\n",
    "model.fit(X, Y)\n",
    "probs = model.predict_proba(test)\n",
    "probs = probs[:, 1]"
   ]
  },
  {
   "cell_type": "code",
   "execution_count": 1155,
   "metadata": {},
   "outputs": [
    {
     "data": {
      "text/plain": [
       "array([ 0.        , -0.88333898, -0.416391  , -0.73288746,  0.76643419,\n",
       "        0.68282058,  1.98158368,  0.43219981, -0.59902814,  1.32109175,\n",
       "       -0.01163009, -0.2710572 ,  0.40086943, -0.88918611, -0.41700213,\n",
       "       -0.38326753,  0.60771487, -0.26186387,  1.81059429,  0.2349253 ,\n",
       "       -0.96225353,  1.01369453, -0.01182451, -0.26300445,  0.37365804,\n",
       "       -0.32234792,  0.40532258, -0.32334813, -0.41556341, -0.18475746,\n",
       "       -0.38017841, -0.41626785, -0.40693185, -0.0067794 , -0.10790789,\n",
       "       -0.02366012,  0.67835768, -1.18288739, -0.90530204, -2.37284794,\n",
       "       -0.77247803, -0.70084785, -1.56726508,  0.01164803,  0.23875616,\n",
       "       -0.4279898 ,  0.52889229,  0.84114692,  2.57792822,  0.95996587,\n",
       "        0.75002362,  1.64970927, -0.00946756, -0.22222592,  0.47944046,\n",
       "        0.65637674,  2.09473422,  0.55090852,  0.55703346,  1.43450777,\n",
       "       -0.01183523, -0.27228592,  0.41682092,  1.98158368,  2.21328117,\n",
       "        1.96186995,  3.08477813, -0.00601043, -0.1301764 ,  0.78923386,\n",
       "        0.25700727,  0.43549734,  1.31592195, -0.01134437, -0.24690415,\n",
       "        0.42208777, -0.60298993,  1.2944514 , -0.01161867, -0.27116063,\n",
       "        0.398425  ,  1.5313493 , -0.01161223, -0.22897903,  0.53738526,\n",
       "       -0.00918106, -0.00681755, -0.01149185, -0.14565383, -0.13358537,\n",
       "       -0.35575905,  1.        ,  1.        ,  1.        ,  0.        ,\n",
       "        0.        ,  1.        ,  0.        ,  0.        ,  0.        ,\n",
       "        1.        ,  0.        ,  1.        ,  0.        ,  0.        ,\n",
       "        0.        ,  0.        ,  0.        ,  0.        ,  1.        ,\n",
       "        1.        ,  0.        ,  0.        ,  1.        ,  1.        ,\n",
       "        0.        ,  1.        ,  0.        ,  1.        ,  0.        ,\n",
       "        1.        ,  0.        ,  1.        ,  0.        ,  1.        ,\n",
       "        0.        ,  0.        ,  1.        ,  1.        ,  0.        ,\n",
       "        1.        ,  0.        ,  1.        ,  0.        ,  0.        ,\n",
       "        0.        ,  1.        ,  0.        ])"
      ]
     },
     "execution_count": 1155,
     "metadata": {},
     "output_type": "execute_result"
    }
   ],
   "source": [
    "test[0]"
   ]
  },
  {
   "cell_type": "code",
   "execution_count": 1156,
   "metadata": {},
   "outputs": [],
   "source": [
    "#calc_and_plot_roc(Y_predicted, probs)"
   ]
  },
  {
   "cell_type": "markdown",
   "metadata": {},
   "source": [
    "Cоздаём экземпляр таблицы с предсказаниями"
   ]
  },
  {
   "cell_type": "code",
   "execution_count": 1157,
   "metadata": {
    "ExecuteTime": {
     "end_time": "2020-12-26T08:35:48.529764Z",
     "start_time": "2020-12-26T08:35:48.278425Z"
    }
   },
   "outputs": [
    {
     "data": {
      "text/html": [
       "<div>\n",
       "<style scoped>\n",
       "    .dataframe tbody tr th:only-of-type {\n",
       "        vertical-align: middle;\n",
       "    }\n",
       "\n",
       "    .dataframe tbody tr th {\n",
       "        vertical-align: top;\n",
       "    }\n",
       "\n",
       "    .dataframe thead th {\n",
       "        text-align: right;\n",
       "    }\n",
       "</style>\n",
       "<table border=\"1\" class=\"dataframe\">\n",
       "  <thead>\n",
       "    <tr style=\"text-align: right;\">\n",
       "      <th></th>\n",
       "      <th>client_id</th>\n",
       "      <th>default</th>\n",
       "    </tr>\n",
       "  </thead>\n",
       "  <tbody>\n",
       "    <tr>\n",
       "      <th>0</th>\n",
       "      <td>74835</td>\n",
       "      <td>0.213902</td>\n",
       "    </tr>\n",
       "    <tr>\n",
       "      <th>1</th>\n",
       "      <td>17527</td>\n",
       "      <td>0.816268</td>\n",
       "    </tr>\n",
       "    <tr>\n",
       "      <th>2</th>\n",
       "      <td>75683</td>\n",
       "      <td>0.360921</td>\n",
       "    </tr>\n",
       "    <tr>\n",
       "      <th>3</th>\n",
       "      <td>26883</td>\n",
       "      <td>0.425496</td>\n",
       "    </tr>\n",
       "    <tr>\n",
       "      <th>4</th>\n",
       "      <td>28862</td>\n",
       "      <td>0.165266</td>\n",
       "    </tr>\n",
       "    <tr>\n",
       "      <th>5</th>\n",
       "      <td>99881</td>\n",
       "      <td>0.584779</td>\n",
       "    </tr>\n",
       "    <tr>\n",
       "      <th>6</th>\n",
       "      <td>26630</td>\n",
       "      <td>0.815774</td>\n",
       "    </tr>\n",
       "    <tr>\n",
       "      <th>7</th>\n",
       "      <td>79934</td>\n",
       "      <td>0.197768</td>\n",
       "    </tr>\n",
       "    <tr>\n",
       "      <th>8</th>\n",
       "      <td>16605</td>\n",
       "      <td>0.138098</td>\n",
       "    </tr>\n",
       "    <tr>\n",
       "      <th>9</th>\n",
       "      <td>105449</td>\n",
       "      <td>0.126560</td>\n",
       "    </tr>\n",
       "  </tbody>\n",
       "</table>\n",
       "</div>"
      ],
      "text/plain": [
       "   client_id   default\n",
       "0      74835  0.213902\n",
       "1      17527  0.816268\n",
       "2      75683  0.360921\n",
       "3      26883  0.425496\n",
       "4      28862  0.165266\n",
       "5      99881  0.584779\n",
       "6      26630  0.815774\n",
       "7      79934  0.197768\n",
       "8      16605  0.138098\n",
       "9     105449  0.126560"
      ]
     },
     "execution_count": 1157,
     "metadata": {},
     "output_type": "execute_result"
    }
   ],
   "source": [
    "my_submission = pd.DataFrame({'client_id': id_test, 'default': probs})\n",
    "my_submission.to_csv('submission.csv', index=False)\n",
    "\n",
    "my_submission.head(10)"
   ]
  },
  {
   "cell_type": "code",
   "execution_count": 1158,
   "metadata": {},
   "outputs": [
    {
     "data": {
      "text/plain": [
       "(36349, 2)"
      ]
     },
     "execution_count": 1158,
     "metadata": {},
     "output_type": "execute_result"
    }
   ],
   "source": [
    "my_submission.shape"
   ]
  },
  {
   "cell_type": "markdown",
   "metadata": {},
   "source": [
    "## Выводы\n",
    "\n",
    "В рамках проекта проведен\n",
    "\n",
    "разведывательный анализ данных EDA\n",
    "\n",
    "созданы новые признаки\n",
    "\n",
    "эксперименты по различному сочетанию признаков\n",
    "\n",
    "отбраны признаки с наилучшими показателями\n",
    "\n",
    "проведена стандартизация числовых признаков\n",
    "\n",
    "произведена балансировка классов по параметру default\n",
    "\n",
    "подобраны оптимальные гиперпараметры для модели (регуляризация)\n",
    "\n",
    "\n",
    "\n",
    "Наибольшее влияние на улучшение модели оказывает работа с данными. Настройка модели при помощи гиперпараметров приводит к незначительным (ограниченным) улучшениям."
   ]
  },
  {
   "cell_type": "code",
   "execution_count": null,
   "metadata": {},
   "outputs": [],
   "source": []
  },
  {
   "cell_type": "code",
   "execution_count": null,
   "metadata": {},
   "outputs": [],
   "source": []
  }
 ],
 "metadata": {
  "kernelspec": {
   "display_name": "Python 3",
   "language": "python",
   "name": "python3"
  },
  "language_info": {
   "codemirror_mode": {
    "name": "ipython",
    "version": 3
   },
   "file_extension": ".py",
   "mimetype": "text/x-python",
   "name": "python",
   "nbconvert_exporter": "python",
   "pygments_lexer": "ipython3",
   "version": "3.8.3"
  }
 },
 "nbformat": 4,
 "nbformat_minor": 4
}
