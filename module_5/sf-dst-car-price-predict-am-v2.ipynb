{
 "cells": [
  {
   "cell_type": "markdown",
   "metadata": {
    "papermill": {
     "duration": 0.029718,
     "end_time": "2020-10-26T12:46:41.276296",
     "exception": false,
     "start_time": "2020-10-26T12:46:41.246578",
     "status": "completed"
    },
    "tags": []
   },
   "source": [
    "<img src=\"https://whatcar.vn/media/2018/09/car-lot-940x470.jpg\"/>\n",
    "\n",
    "## Прогнозирование стоимости автомобиля по характеристикам\n",
    "*Этот Ноутбук является Примером/Шаблоном (Baseline) к этому соревнованию и не служит готовым решением!*   \n",
    "Вы можете использовать его как основу для построения своего решения.\n",
    "\n",
    "\n",
    "> **baseline** создается больше как шаблон, где можно посмотреть как происходит обращение с входящими данными и что нужно получить на выходе. При этом МЛ начинка может быть достаточно простой. Это помогает быстрее приступить к самому МЛ, а не тратить ценное время на чисто инженерные задачи. \n",
    "Также baseline является хорошей опорной точкой по метрике. Если твое решение хуже baseline - ты явно делаешь что-то не то и стоит попробовать другой путь) "
   ]
  },
  {
   "cell_type": "markdown",
   "metadata": {
    "papermill": {
     "duration": 0.028027,
     "end_time": "2020-10-26T12:46:41.334278",
     "exception": false,
     "start_time": "2020-10-26T12:46:41.306251",
     "status": "completed"
    },
    "tags": []
   },
   "source": [
    "Помним, что по условию соревнования, нам нужно самостоятельно собрать обучающий датасет. В этом ноутбуке мы не будем рассматривать сбор данных. Предположим, что мы уже все собрали и просто подключили свой датасет через \"Add Data\", чтобы приступить к самому ML."
   ]
  },
  {
   "cell_type": "code",
   "execution_count": null,
   "metadata": {
    "_cell_guid": "b1076dfc-b9ad-4769-8c92-a6c4dae69d19",
    "_uuid": "8f2839f25d086af736a60e9eeb907d3b93b6e0e5",
    "execution": {
     "iopub.execute_input": "2021-05-28T08:53:05.652211Z",
     "iopub.status.busy": "2021-05-28T08:53:05.651787Z",
     "iopub.status.idle": "2021-05-28T08:53:05.665317Z",
     "shell.execute_reply": "2021-05-28T08:53:05.663818Z",
     "shell.execute_reply.started": "2021-05-28T08:53:05.65218Z"
    },
    "papermill": {
     "duration": 1.219772,
     "end_time": "2020-10-26T12:46:42.581597",
     "exception": false,
     "start_time": "2020-10-26T12:46:41.361825",
     "status": "completed"
    },
    "tags": []
   },
   "outputs": [],
   "source": [
    "import warnings\n",
    "import numpy as np # linear algebra\n",
    "import pandas as pd # data processing, CSV file I/O (e.g. pd.read_csv)\n",
    "import sys\n",
    "\n",
    "from datetime import timedelta, datetime, date\n",
    "\n",
    "from sklearn.model_selection import train_test_split\n",
    "from tqdm.notebook import tqdm\n",
    "from catboost import CatBoostRegressor\n",
    "\n",
    "\n",
    "import xgboost as xgb\n",
    "from sklearn.preprocessing import MinMaxScaler\n",
    "from sklearn.preprocessing import StandardScaler\n",
    "from sklearn.model_selection import train_test_split\n",
    "from sklearn.model_selection import KFold\n",
    "from tqdm.notebook import tqdm\n",
    "\n",
    "from catboost import CatBoostRegressor\n",
    "from sklearn.ensemble import RandomForestRegressor\n",
    "from sklearn.ensemble import GradientBoostingRegressor\n",
    "from sklearn.ensemble import BaggingRegressor\n",
    "from sklearn.ensemble import StackingRegressor\n",
    "from sklearn.linear_model import LinearRegression\n",
    "from sklearn.ensemble import AdaBoostRegressor, ExtraTreesRegressor\n",
    "from sklearn.tree import DecisionTreeRegressor\n",
    "\n",
    "from sklearn.model_selection import RandomizedSearchCV\n",
    "from sklearn.preprocessing import PolynomialFeatures\n",
    "from sklearn.preprocessing import LabelEncoder\n",
    "from sklearn.feature_selection import f_regression, mutual_info_regression\n",
    "\n",
    "import json\n",
    "import matplotlib.pyplot as plt\n",
    "import seaborn as sns\n",
    "\n",
    "\n",
    "warnings.simplefilter('ignore')\n",
    "pd.set_option('display.max_columns', None) #отображение всех столбцов датасета"
   ]
  },
  {
   "cell_type": "code",
   "execution_count": null,
   "metadata": {
    "_kg_hide-input": true,
    "execution": {
     "iopub.execute_input": "2021-05-28T08:53:05.69559Z",
     "iopub.status.busy": "2021-05-28T08:53:05.694876Z",
     "iopub.status.idle": "2021-05-28T08:53:05.702282Z",
     "shell.execute_reply": "2021-05-28T08:53:05.700803Z",
     "shell.execute_reply.started": "2021-05-28T08:53:05.695537Z"
    },
    "papermill": {
     "duration": 0.040034,
     "end_time": "2020-10-26T12:46:42.650603",
     "exception": false,
     "start_time": "2020-10-26T12:46:42.610569",
     "status": "completed"
    },
    "tags": []
   },
   "outputs": [],
   "source": [
    "print('Python       :', sys.version.split('\\n')[0])\n",
    "print('Numpy        :', np.__version__)"
   ]
  },
  {
   "cell_type": "code",
   "execution_count": null,
   "metadata": {
    "_kg_hide-input": true,
    "execution": {
     "iopub.execute_input": "2021-05-28T08:53:05.815946Z",
     "iopub.status.busy": "2021-05-28T08:53:05.815581Z",
     "iopub.status.idle": "2021-05-28T08:53:07.83811Z",
     "shell.execute_reply": "2021-05-28T08:53:07.836582Z",
     "shell.execute_reply.started": "2021-05-28T08:53:05.815917Z"
    },
    "papermill": {
     "duration": 5.172536,
     "end_time": "2020-10-26T12:46:47.852593",
     "exception": false,
     "start_time": "2020-10-26T12:46:42.680057",
     "status": "completed"
    },
    "tags": []
   },
   "outputs": [],
   "source": [
    "# зафиксируем версию пакетов, чтобы эксперименты были воспроизводимы:\n",
    "!pip freeze > requirements.txt"
   ]
  },
  {
   "cell_type": "code",
   "execution_count": null,
   "metadata": {
    "execution": {
     "iopub.execute_input": "2021-05-28T08:53:07.840878Z",
     "iopub.status.busy": "2021-05-28T08:53:07.840527Z",
     "iopub.status.idle": "2021-05-28T08:53:07.845799Z",
     "shell.execute_reply": "2021-05-28T08:53:07.844768Z",
     "shell.execute_reply.started": "2021-05-28T08:53:07.840819Z"
    },
    "papermill": {
     "duration": 0.039842,
     "end_time": "2020-10-26T12:46:47.922434",
     "exception": false,
     "start_time": "2020-10-26T12:46:47.882592",
     "status": "completed"
    },
    "tags": []
   },
   "outputs": [],
   "source": [
    "# всегда фиксируйте RANDOM_SEED, чтобы ваши эксперименты были воспроизводимы!\n",
    "RANDOM_SEED = 42"
   ]
  },
  {
   "cell_type": "code",
   "execution_count": null,
   "metadata": {
    "_kg_hide-input": true,
    "execution": {
     "iopub.execute_input": "2021-05-28T08:53:07.84814Z",
     "iopub.status.busy": "2021-05-28T08:53:07.847776Z",
     "iopub.status.idle": "2021-05-28T08:53:07.888802Z",
     "shell.execute_reply": "2021-05-28T08:53:07.887491Z",
     "shell.execute_reply.started": "2021-05-28T08:53:07.848108Z"
    }
   },
   "outputs": [],
   "source": [
    "def mape(y_true, y_pred):\n",
    "    return np.mean(np.abs((y_pred-y_true)/y_true))\n",
    "#  Функция по сравнению дата-сетов (найдена на каггле)\n",
    "def check_df_1vs2(d_df1,d_df2):\n",
    "    \n",
    "    list_of_names1 = list(d_df1.columns)\n",
    "    temp_dict = {}\n",
    "    temp_dict['feature_train'] = list_of_names1\n",
    "    temp_dict['type_train'] = d_df1.dtypes\n",
    "    temp_dict['sample_train'] = d_df1.loc[5].values\n",
    "    temp_dict['# unique_train'] = d_df1.nunique().values\n",
    "    temp_df1 = pd.DataFrame.from_dict(temp_dict)\n",
    "    \n",
    "    \n",
    "    list_of_names2 = list(d_df2.columns)\n",
    "    temp_dict2 = {}\n",
    "    temp_dict2['feature_test'] = list_of_names2\n",
    "    temp_dict2['type_test'] = d_df2.dtypes\n",
    "    temp_dict2['sample_test'] = d_df2.loc[5].values\n",
    "    temp_dict2['# unique_test'] = d_df2.nunique().values\n",
    "    temp_df2 = pd.DataFrame.from_dict(temp_dict2)\n",
    "    \n",
    "    temp_insert = pd.DataFrame(columns=['< - >'])\n",
    "    \n",
    "    temp_df = pd.concat([temp_df1,temp_insert, temp_df2], axis=1, sort=False)\n",
    "    temp_df.reset_index(inplace = True)\n",
    "    del temp_df['index']\n",
    "    temp_df['< - >'] = '| - |'\n",
    "#    display(temp_df)\n",
    "\n",
    "    temp_dict3 = {}\n",
    "    temp_df3= pd.DataFrame(temp_df)\n",
    "    temp_list  = []\n",
    "    temp_list2  = []\n",
    "    temp_list3  = []\n",
    "    temp_list4  = []\n",
    "    temp_list5  = []\n",
    "\n",
    "    for i in range(len(temp_df)):\n",
    "        if str(temp_df3['type_train'][i]) != str(temp_df3['type_test'][i]):\n",
    "            temp_list.append(temp_df3['feature_train'][i])\n",
    "            temp_list2.append(temp_df3['feature_test'][i])\n",
    "            temp_list3.append(str(temp_df3['type_train'][i]) + ' != ' + str(temp_df3['type_test'][i]))\n",
    "            temp_list4.append(i)\n",
    "        if temp_df3['# unique_test'][i]>0 and temp_df3['# unique_train'][i]/temp_df3['# unique_test'][i] > 2:\n",
    "            temp_list5.append(i)\n",
    "            \n",
    "    temp_dict3['index']= temp_list4\n",
    "    temp_dict3['feature_train']= temp_list\n",
    "    temp_dict3['не совпадают типы'] = temp_list3\n",
    "    temp_dict3['feature_test']= temp_list2\n",
    "\n",
    "    temp_df4 = pd.DataFrame.from_dict(temp_dict3)\n",
    "    temp_df4.set_index('index',inplace=True)\n",
    "\n",
    "    print(f'Резюме:\\n 1. Не совпали типы в:= {len(temp_df4)} столбцах\\n')\n",
    "    print(f'2. Уникальные значения различаются в:= {len(temp_list5)} столбцах {temp_list5}')\n",
    "    display(temp_df4)\n",
    "    \n",
    "def print_report(start, y_test, y_pred):\n",
    "    print('\\nВремя выполнения - ', datetime.now() - start)\n",
    "    print(f\"Точность по метрике MAPE:{(mape(y_test, y_pred))*100:0.2f}%\")\n",
    "\n",
    "# Визуализация числовых данных\n",
    "def graph_num(col, df, size=6):\n",
    "    fig, (g1, g2) = plt.subplots(1, 2, figsize=(2*size, size))\n",
    "    fig.suptitle('Histogram and boxplot for {0}'.format(col), fontsize=20)\n",
    "    g1.hist(df[col], bins=20, histtype='bar', align='mid',\n",
    "            rwidth=0.8, color='green')  # гистограмма\n",
    "    g2.boxplot(df[col], vert=False)  # выбросы\n",
    "    plt.figtext(0.5, 0, col, fontsize=16)\n",
    "    plt.show\n",
    "\n",
    "# Визуализация корреляции числовых признаков между собой\n",
    "def jointplot_f(col_num, df):\n",
    "    pairs = list(itertools.combinations(col_num, 2))\n",
    "    for pair in pairs:\n",
    "        sns.jointplot(x=pair[0], y=pair[1], data=df)\n",
    "    return\n",
    "\n",
    "# Статистические данные по выбросам\n",
    "def statistic(col, df):\n",
    "    median = df[col].median()\n",
    "    IQR = df[col].quantile(0.75) - df[col].quantile(0.25)\n",
    "    perc25 = df[col].quantile(0.25)\n",
    "    perc75 = df[col].quantile(0.75)\n",
    "    l = perc25 - 1.5*IQR\n",
    "    r = perc75 + 1.5*IQR\n",
    "    print(\"Для {0} IQR: {1}, \".format(col, IQR),\n",
    "          \"Границы выбросов: [{0}, {1}].\".format(l, r))\n",
    "    print('Всего {} выбросов'.format(\n",
    "        df[df[col] > r][col].count()+df[df[col] < l][col].count()))"
   ]
  },
  {
   "cell_type": "markdown",
   "metadata": {
    "papermill": {
     "duration": 0.028837,
     "end_time": "2020-10-26T12:46:47.981435",
     "exception": false,
     "start_time": "2020-10-26T12:46:47.952598",
     "status": "completed"
    },
    "tags": []
   },
   "source": [
    "# Setup"
   ]
  },
  {
   "cell_type": "code",
   "execution_count": null,
   "metadata": {
    "execution": {
     "iopub.execute_input": "2021-05-28T08:53:07.890671Z",
     "iopub.status.busy": "2021-05-28T08:53:07.890359Z",
     "iopub.status.idle": "2021-05-28T08:53:07.909611Z",
     "shell.execute_reply": "2021-05-28T08:53:07.908466Z",
     "shell.execute_reply.started": "2021-05-28T08:53:07.890641Z"
    },
    "papermill": {
     "duration": 0.039969,
     "end_time": "2020-10-26T12:46:48.052728",
     "exception": false,
     "start_time": "2020-10-26T12:46:48.012759",
     "status": "completed"
    },
    "tags": []
   },
   "outputs": [],
   "source": [
    "VERSION    = 16\n",
    "DIR_TRAIN1  = '../input/parsing-all-moscow-auto-ru-09-09-2020/' # подключил к ноутбуку внешний датасет\n",
    "DIR_TRAIN  = '../input/auto-ru-26-05-2021-new/' # подключил к ноутбуку внешний датасет\n",
    "DIR_TRAIN_CUR  = '../input/exchange-rate/'\n",
    "\n",
    "DIR_TEST   = '../input/sf-dst-car-price-prediction/'\n",
    "VAL_SIZE   = 0.20   # 20%"
   ]
  },
  {
   "cell_type": "markdown",
   "metadata": {
    "papermill": {
     "duration": 0.030254,
     "end_time": "2020-10-26T12:46:48.112586",
     "exception": false,
     "start_time": "2020-10-26T12:46:48.082332",
     "status": "completed"
    },
    "tags": []
   },
   "source": [
    "# Data"
   ]
  },
  {
   "cell_type": "code",
   "execution_count": null,
   "metadata": {
    "execution": {
     "iopub.execute_input": "2021-05-28T08:53:07.914014Z",
     "iopub.status.busy": "2021-05-28T08:53:07.913529Z",
     "iopub.status.idle": "2021-05-28T08:53:08.712145Z",
     "shell.execute_reply": "2021-05-28T08:53:08.710884Z",
     "shell.execute_reply.started": "2021-05-28T08:53:07.913958Z"
    },
    "papermill": {
     "duration": 0.783211,
     "end_time": "2020-10-26T12:46:48.925418",
     "exception": false,
     "start_time": "2020-10-26T12:46:48.142207",
     "status": "completed"
    },
    "tags": []
   },
   "outputs": [],
   "source": [
    "!ls '../input'"
   ]
  },
  {
   "cell_type": "code",
   "execution_count": null,
   "metadata": {
    "_cell_guid": "79c7e3d0-c299-4dcb-8224-4455121ee9b0",
    "_uuid": "d629ff2d2480ee46fbb7e2d37f6b5fab8052498a",
    "execution": {
     "iopub.execute_input": "2021-05-28T08:53:08.715702Z",
     "iopub.status.busy": "2021-05-28T08:53:08.715208Z",
     "iopub.status.idle": "2021-05-28T08:53:14.616424Z",
     "shell.execute_reply": "2021-05-28T08:53:14.615215Z",
     "shell.execute_reply.started": "2021-05-28T08:53:08.715653Z"
    },
    "papermill": {
     "duration": 13.16556,
     "end_time": "2020-10-26T12:47:02.12133",
     "exception": false,
     "start_time": "2020-10-26T12:46:48.95577",
     "status": "completed"
    },
    "tags": []
   },
   "outputs": [],
   "source": [
    "train = pd.read_csv(DIR_TRAIN+'auto_ru_26_05_2021.csv') # датасет для обучения модели\n",
    "train_old = pd.read_csv(DIR_TRAIN1+'all_auto_ru_09_09_2020.csv') # датасет для обучения модели\n",
    "exchange_rate = pd.read_csv(DIR_TRAIN_CUR+'exchange_currency.csv') # курс доллара\n",
    "\n",
    "test = pd.read_csv(DIR_TEST+'test.csv')\n",
    "sample_submission = pd.read_csv(DIR_TEST+'sample_submission.csv')"
   ]
  },
  {
   "cell_type": "code",
   "execution_count": null,
   "metadata": {
    "execution": {
     "iopub.execute_input": "2021-05-28T08:53:14.618686Z",
     "iopub.status.busy": "2021-05-28T08:53:14.618241Z",
     "iopub.status.idle": "2021-05-28T08:53:14.632309Z",
     "shell.execute_reply": "2021-05-28T08:53:14.6315Z",
     "shell.execute_reply.started": "2021-05-28T08:53:14.618642Z"
    }
   },
   "outputs": [],
   "source": [
    "exchange_rate"
   ]
  },
  {
   "cell_type": "code",
   "execution_count": null,
   "metadata": {
    "execution": {
     "iopub.execute_input": "2021-05-28T08:53:14.63378Z",
     "iopub.status.busy": "2021-05-28T08:53:14.633416Z",
     "iopub.status.idle": "2021-05-28T08:53:14.81759Z",
     "shell.execute_reply": "2021-05-28T08:53:14.816393Z",
     "shell.execute_reply.started": "2021-05-28T08:53:14.633748Z"
    }
   },
   "outputs": [],
   "source": [
    "train.info()"
   ]
  },
  {
   "cell_type": "code",
   "execution_count": null,
   "metadata": {
    "execution": {
     "iopub.execute_input": "2021-05-28T08:53:14.819327Z",
     "iopub.status.busy": "2021-05-28T08:53:14.818912Z",
     "iopub.status.idle": "2021-05-28T08:53:14.825405Z",
     "shell.execute_reply": "2021-05-28T08:53:14.824438Z",
     "shell.execute_reply.started": "2021-05-28T08:53:14.819287Z"
    }
   },
   "outputs": [],
   "source": [
    "'''train['price'] = train['price'].str.replace('\\xa0', '')\n",
    "train['price'] = train['price'].str.replace('₽', '')\n",
    "train['price'] = train['price'].str.replace('от ', '').astype(int)\n",
    "train['price'].isna().sum()'''"
   ]
  },
  {
   "cell_type": "code",
   "execution_count": null,
   "metadata": {
    "execution": {
     "iopub.execute_input": "2021-05-28T08:53:14.826944Z",
     "iopub.status.busy": "2021-05-28T08:53:14.826635Z",
     "iopub.status.idle": "2021-05-28T08:53:14.867271Z",
     "shell.execute_reply": "2021-05-28T08:53:14.865941Z",
     "shell.execute_reply.started": "2021-05-28T08:53:14.826915Z"
    },
    "papermill": {
     "duration": 0.09378,
     "end_time": "2020-10-26T12:47:02.246755",
     "exception": false,
     "start_time": "2020-10-26T12:47:02.152975",
     "status": "completed"
    },
    "tags": []
   },
   "outputs": [],
   "source": [
    "train.head(5)"
   ]
  },
  {
   "cell_type": "code",
   "execution_count": null,
   "metadata": {
    "execution": {
     "iopub.execute_input": "2021-05-28T08:53:14.869186Z",
     "iopub.status.busy": "2021-05-28T08:53:14.868788Z",
     "iopub.status.idle": "2021-05-28T08:53:14.976314Z",
     "shell.execute_reply": "2021-05-28T08:53:14.975245Z",
     "shell.execute_reply.started": "2021-05-28T08:53:14.869149Z"
    }
   },
   "outputs": [],
   "source": [
    "test.info()"
   ]
  },
  {
   "cell_type": "code",
   "execution_count": null,
   "metadata": {
    "execution": {
     "iopub.execute_input": "2021-05-28T08:53:14.977917Z",
     "iopub.status.busy": "2021-05-28T08:53:14.977627Z",
     "iopub.status.idle": "2021-05-28T08:53:14.985421Z",
     "shell.execute_reply": "2021-05-28T08:53:14.984248Z",
     "shell.execute_reply.started": "2021-05-28T08:53:14.97789Z"
    }
   },
   "outputs": [],
   "source": [
    "test.productionDate.unique()"
   ]
  },
  {
   "cell_type": "code",
   "execution_count": null,
   "metadata": {
    "execution": {
     "iopub.execute_input": "2021-05-28T08:53:14.987323Z",
     "iopub.status.busy": "2021-05-28T08:53:14.986965Z",
     "iopub.status.idle": "2021-05-28T08:53:15.088728Z",
     "shell.execute_reply": "2021-05-28T08:53:15.087812Z",
     "shell.execute_reply.started": "2021-05-28T08:53:14.987291Z"
    }
   },
   "outputs": [],
   "source": [
    "test.isna().sum()"
   ]
  },
  {
   "cell_type": "code",
   "execution_count": null,
   "metadata": {
    "execution": {
     "iopub.execute_input": "2021-05-28T08:53:15.090758Z",
     "iopub.status.busy": "2021-05-28T08:53:15.090464Z",
     "iopub.status.idle": "2021-05-28T08:53:15.101987Z",
     "shell.execute_reply": "2021-05-28T08:53:15.099805Z",
     "shell.execute_reply.started": "2021-05-28T08:53:15.090731Z"
    }
   },
   "outputs": [],
   "source": [
    "test.columns"
   ]
  },
  {
   "cell_type": "code",
   "execution_count": null,
   "metadata": {
    "execution": {
     "iopub.execute_input": "2021-05-28T08:53:15.104051Z",
     "iopub.status.busy": "2021-05-28T08:53:15.103592Z",
     "iopub.status.idle": "2021-05-28T08:53:15.113802Z",
     "shell.execute_reply": "2021-05-28T08:53:15.112886Z",
     "shell.execute_reply.started": "2021-05-28T08:53:15.104003Z"
    }
   },
   "outputs": [],
   "source": [
    "len(test)"
   ]
  },
  {
   "cell_type": "code",
   "execution_count": null,
   "metadata": {
    "execution": {
     "iopub.execute_input": "2021-05-28T08:53:15.115911Z",
     "iopub.status.busy": "2021-05-28T08:53:15.115235Z",
     "iopub.status.idle": "2021-05-28T08:53:15.974662Z",
     "shell.execute_reply": "2021-05-28T08:53:15.973731Z",
     "shell.execute_reply.started": "2021-05-28T08:53:15.115879Z"
    }
   },
   "outputs": [],
   "source": [
    "check_df_1vs2(test,train)"
   ]
  },
  {
   "cell_type": "markdown",
   "metadata": {
    "papermill": {
     "duration": 0.033402,
     "end_time": "2020-10-26T12:47:02.866506",
     "exception": false,
     "start_time": "2020-10-26T12:47:02.833104",
     "status": "completed"
    },
    "tags": []
   },
   "source": [
    "## Анализ данных"
   ]
  },
  {
   "cell_type": "code",
   "execution_count": null,
   "metadata": {
    "execution": {
     "iopub.execute_input": "2021-05-28T08:53:15.976319Z",
     "iopub.status.busy": "2021-05-28T08:53:15.976021Z",
     "iopub.status.idle": "2021-05-28T08:53:16.012339Z",
     "shell.execute_reply": "2021-05-28T08:53:16.011451Z",
     "shell.execute_reply.started": "2021-05-28T08:53:15.976289Z"
    }
   },
   "outputs": [],
   "source": [
    "# По сравнению с тестовой выборкой в тренировочную не попали 7 признаков:\n",
    "# 'image', 'priceCurrency', 'sell_id' - малозначимые признаки\n",
    "\n",
    "# 'description', 'name', 'vehicleConfiguration' - описательная информация различной структуры,\n",
    "# которая частично уже содержится в других признаках (останется время, попробую разобрать)\n",
    "\n",
    "# 'modelDate' - потенциально интересный признак, но информации, с какого года выпускается модель,\n",
    "# на сайте не нашел\n",
    "\n",
    "\n",
    "# определим первичный список признаков\n",
    "init_columns = ['bodyType', 'brand','color', 'car_url', 'complectation_dict', 'engineDisplacement','enginePower',\n",
    "           'equipment_dict', 'fuelType', 'mileage', 'model_info', 'model_name', 'numberOfDoors',\n",
    "           'productionDate', 'super_gen', 'vehicleTransmission', 'vendor', 'Владельцы', 'Владение',\n",
    "           'ПТС', 'Привод', 'Руль', 'Состояние', 'Таможня']\n",
    "cat_columns = []\n",
    "ord_columns = []\n",
    "num_columns = []\n",
    "del_columns = []\n",
    "\n",
    "\n",
    "df_train = train[init_columns]\n",
    "df_test = test[init_columns]"
   ]
  },
  {
   "cell_type": "code",
   "execution_count": null,
   "metadata": {
    "execution": {
     "iopub.execute_input": "2021-05-28T08:53:16.017974Z",
     "iopub.status.busy": "2021-05-28T08:53:16.017627Z",
     "iopub.status.idle": "2021-05-28T08:53:16.024431Z",
     "shell.execute_reply": "2021-05-28T08:53:16.023151Z",
     "shell.execute_reply.started": "2021-05-28T08:53:16.017943Z"
    }
   },
   "outputs": [],
   "source": [
    "df_train['price'] = train['price']"
   ]
  },
  {
   "cell_type": "code",
   "execution_count": null,
   "metadata": {
    "execution": {
     "iopub.execute_input": "2021-05-28T08:53:16.026999Z",
     "iopub.status.busy": "2021-05-28T08:53:16.026688Z",
     "iopub.status.idle": "2021-05-28T08:53:16.05306Z",
     "shell.execute_reply": "2021-05-28T08:53:16.051838Z",
     "shell.execute_reply.started": "2021-05-28T08:53:16.026971Z"
    }
   },
   "outputs": [],
   "source": [
    "df_test.bodyType.unique(), df_train.bodyType.unique()\n",
    "# структура и формат данных похож. Будем рассматривать как категориальный признак\n"
   ]
  },
  {
   "cell_type": "code",
   "execution_count": null,
   "metadata": {
    "execution": {
     "iopub.execute_input": "2021-05-28T08:53:16.054805Z",
     "iopub.status.busy": "2021-05-28T08:53:16.054522Z",
     "iopub.status.idle": "2021-05-28T08:53:16.060545Z",
     "shell.execute_reply": "2021-05-28T08:53:16.059664Z",
     "shell.execute_reply.started": "2021-05-28T08:53:16.054778Z"
    }
   },
   "outputs": [],
   "source": [
    "cat_columns.append('bodyType')\n",
    "cat_columns"
   ]
  },
  {
   "cell_type": "code",
   "execution_count": null,
   "metadata": {
    "execution": {
     "iopub.execute_input": "2021-05-28T08:53:16.062237Z",
     "iopub.status.busy": "2021-05-28T08:53:16.061934Z",
     "iopub.status.idle": "2021-05-28T08:53:16.086126Z",
     "shell.execute_reply": "2021-05-28T08:53:16.084925Z",
     "shell.execute_reply.started": "2021-05-28T08:53:16.062206Z"
    }
   },
   "outputs": [],
   "source": [
    "df_test.brand.unique(), df_train.brand.unique() # не совпадает регистр."
   ]
  },
  {
   "cell_type": "code",
   "execution_count": null,
   "metadata": {
    "execution": {
     "iopub.execute_input": "2021-05-28T08:53:16.087714Z",
     "iopub.status.busy": "2021-05-28T08:53:16.087438Z",
     "iopub.status.idle": "2021-05-28T08:53:16.133731Z",
     "shell.execute_reply": "2021-05-28T08:53:16.132589Z",
     "shell.execute_reply.started": "2021-05-28T08:53:16.087687Z"
    }
   },
   "outputs": [],
   "source": [
    "# Приведем к виду теста и будем рассматривать как категориальный признак\n",
    "df_train.brand = df_train.brand.str.upper()\n",
    "# Проверим\n",
    "cat_columns.append('brand')"
   ]
  },
  {
   "cell_type": "code",
   "execution_count": null,
   "metadata": {
    "execution": {
     "iopub.execute_input": "2021-05-28T08:53:16.135272Z",
     "iopub.status.busy": "2021-05-28T08:53:16.134974Z",
     "iopub.status.idle": "2021-05-28T08:53:16.151837Z",
     "shell.execute_reply": "2021-05-28T08:53:16.15052Z",
     "shell.execute_reply.started": "2021-05-28T08:53:16.135244Z"
    }
   },
   "outputs": [],
   "source": [
    "test.color.unique(), train.color.unique()\n",
    "#структура и формат данных похож. Будем рассматривать как категории"
   ]
  },
  {
   "cell_type": "code",
   "execution_count": null,
   "metadata": {
    "execution": {
     "iopub.execute_input": "2021-05-28T08:53:16.153622Z",
     "iopub.status.busy": "2021-05-28T08:53:16.153295Z",
     "iopub.status.idle": "2021-05-28T08:53:16.160944Z",
     "shell.execute_reply": "2021-05-28T08:53:16.159784Z",
     "shell.execute_reply.started": "2021-05-28T08:53:16.153594Z"
    }
   },
   "outputs": [],
   "source": [
    "cat_columns.append('color')"
   ]
  },
  {
   "cell_type": "code",
   "execution_count": null,
   "metadata": {
    "execution": {
     "iopub.execute_input": "2021-05-28T08:53:16.16266Z",
     "iopub.status.busy": "2021-05-28T08:53:16.162195Z",
     "iopub.status.idle": "2021-05-28T08:53:16.214858Z",
     "shell.execute_reply": "2021-05-28T08:53:16.213953Z",
     "shell.execute_reply.started": "2021-05-28T08:53:16.162615Z"
    }
   },
   "outputs": [],
   "source": [
    "df_test.complectation_dict.unique()[:2], df_train.complectation_dict.unique()[:2]\n",
    "# структура и формат данных похож. Потом попробуем преобразовать и извлечь что-то "
   ]
  },
  {
   "cell_type": "code",
   "execution_count": null,
   "metadata": {
    "execution": {
     "iopub.execute_input": "2021-05-28T08:53:16.216573Z",
     "iopub.status.busy": "2021-05-28T08:53:16.216279Z",
     "iopub.status.idle": "2021-05-28T08:53:16.234715Z",
     "shell.execute_reply": "2021-05-28T08:53:16.233805Z",
     "shell.execute_reply.started": "2021-05-28T08:53:16.216543Z"
    }
   },
   "outputs": [],
   "source": [
    "df_test.engineDisplacement.unique()[:5], df_train.engineDisplacement.unique()[:5]"
   ]
  },
  {
   "cell_type": "code",
   "execution_count": null,
   "metadata": {
    "execution": {
     "iopub.execute_input": "2021-05-28T08:53:16.237907Z",
     "iopub.status.busy": "2021-05-28T08:53:16.237604Z",
     "iopub.status.idle": "2021-05-28T08:53:16.241925Z",
     "shell.execute_reply": "2021-05-28T08:53:16.241182Z",
     "shell.execute_reply.started": "2021-05-28T08:53:16.237878Z"
    }
   },
   "outputs": [],
   "source": [
    "# Можно попробовать сделать и ординальный и числовой признак\n",
    "# Сдесь занесем в ординальные, позже сделаем числовой\n",
    "ord_columns.append('engineDisplacement')"
   ]
  },
  {
   "cell_type": "code",
   "execution_count": null,
   "metadata": {
    "execution": {
     "iopub.execute_input": "2021-05-28T08:53:16.243352Z",
     "iopub.status.busy": "2021-05-28T08:53:16.24309Z",
     "iopub.status.idle": "2021-05-28T08:53:16.266742Z",
     "shell.execute_reply": "2021-05-28T08:53:16.265755Z",
     "shell.execute_reply.started": "2021-05-28T08:53:16.243326Z"
    }
   },
   "outputs": [],
   "source": [
    "df_test.enginePower.unique()[:5], df_train.enginePower.unique()[:5]"
   ]
  },
  {
   "cell_type": "code",
   "execution_count": null,
   "metadata": {
    "execution": {
     "iopub.execute_input": "2021-05-28T08:53:16.268456Z",
     "iopub.status.busy": "2021-05-28T08:53:16.268176Z",
     "iopub.status.idle": "2021-05-28T08:53:16.273406Z",
     "shell.execute_reply": "2021-05-28T08:53:16.272067Z",
     "shell.execute_reply.started": "2021-05-28T08:53:16.268429Z"
    }
   },
   "outputs": [],
   "source": [
    "# Можно попробовать сделать и ординальные и числовой признак\n",
    "# Сдесь занесем в ординальные, позже сделаем числовой\n",
    "ord_columns.append('enginePower')"
   ]
  },
  {
   "cell_type": "code",
   "execution_count": null,
   "metadata": {
    "execution": {
     "iopub.execute_input": "2021-05-28T08:53:16.275707Z",
     "iopub.status.busy": "2021-05-28T08:53:16.275011Z",
     "iopub.status.idle": "2021-05-28T08:53:16.398158Z",
     "shell.execute_reply": "2021-05-28T08:53:16.397011Z",
     "shell.execute_reply.started": "2021-05-28T08:53:16.275486Z"
    }
   },
   "outputs": [],
   "source": [
    "df_test.equipment_dict.unique()[:2], df_train.equipment_dict.unique()[:2]\n",
    "# Структура понятна, можно разобрать и попробовать label encoding. Сам признак скорее всего придется удалить.\n",
    "# df_test.equipment_dict.apply(lambda x: json.loads(x) if type(x) == str else x)"
   ]
  },
  {
   "cell_type": "code",
   "execution_count": null,
   "metadata": {
    "execution": {
     "iopub.execute_input": "2021-05-28T08:53:16.399949Z",
     "iopub.status.busy": "2021-05-28T08:53:16.399618Z",
     "iopub.status.idle": "2021-05-28T08:53:16.404573Z",
     "shell.execute_reply": "2021-05-28T08:53:16.403503Z",
     "shell.execute_reply.started": "2021-05-28T08:53:16.399919Z"
    }
   },
   "outputs": [],
   "source": [
    "del_columns.append('equipment_dict')"
   ]
  },
  {
   "cell_type": "code",
   "execution_count": null,
   "metadata": {
    "execution": {
     "iopub.execute_input": "2021-05-28T08:53:16.406021Z",
     "iopub.status.busy": "2021-05-28T08:53:16.405704Z",
     "iopub.status.idle": "2021-05-28T08:53:16.430154Z",
     "shell.execute_reply": "2021-05-28T08:53:16.428842Z",
     "shell.execute_reply.started": "2021-05-28T08:53:16.405993Z"
    }
   },
   "outputs": [],
   "source": [
    "df_test.fuelType.unique(), df_train.fuelType.unique()"
   ]
  },
  {
   "cell_type": "code",
   "execution_count": null,
   "metadata": {
    "execution": {
     "iopub.execute_input": "2021-05-28T08:53:16.431808Z",
     "iopub.status.busy": "2021-05-28T08:53:16.431531Z",
     "iopub.status.idle": "2021-05-28T08:53:16.482835Z",
     "shell.execute_reply": "2021-05-28T08:53:16.481774Z",
     "shell.execute_reply.started": "2021-05-28T08:53:16.431781Z"
    }
   },
   "outputs": [],
   "source": [
    "# Приведем к виду тестовой выборки и будем рассматривать как категориальный признак\n",
    "df_train.fuelType = df_train.fuelType.str.lower()\n",
    "cat_columns.append('fuelType')"
   ]
  },
  {
   "cell_type": "code",
   "execution_count": null,
   "metadata": {
    "execution": {
     "iopub.execute_input": "2021-05-28T08:53:16.485034Z",
     "iopub.status.busy": "2021-05-28T08:53:16.484691Z",
     "iopub.status.idle": "2021-05-28T08:53:16.494293Z",
     "shell.execute_reply": "2021-05-28T08:53:16.493417Z",
     "shell.execute_reply.started": "2021-05-28T08:53:16.485002Z"
    }
   },
   "outputs": [],
   "source": [
    "df_test.mileage.unique(), df_train.mileage.unique()"
   ]
  },
  {
   "cell_type": "code",
   "execution_count": null,
   "metadata": {
    "execution": {
     "iopub.execute_input": "2021-05-28T08:53:16.495562Z",
     "iopub.status.busy": "2021-05-28T08:53:16.495269Z",
     "iopub.status.idle": "2021-05-28T08:53:16.501733Z",
     "shell.execute_reply": "2021-05-28T08:53:16.500692Z",
     "shell.execute_reply.started": "2021-05-28T08:53:16.495534Z"
    }
   },
   "outputs": [],
   "source": [
    "num_columns.append('mileage')"
   ]
  },
  {
   "cell_type": "code",
   "execution_count": null,
   "metadata": {
    "execution": {
     "iopub.execute_input": "2021-05-28T08:53:16.503458Z",
     "iopub.status.busy": "2021-05-28T08:53:16.503152Z",
     "iopub.status.idle": "2021-05-28T08:53:16.53633Z",
     "shell.execute_reply": "2021-05-28T08:53:16.535509Z",
     "shell.execute_reply.started": "2021-05-28T08:53:16.503428Z"
    }
   },
   "outputs": [],
   "source": [
    "df_test.model_info.unique()[:5], df_train.model_info.unique()[:5]"
   ]
  },
  {
   "cell_type": "code",
   "execution_count": null,
   "metadata": {
    "execution": {
     "iopub.execute_input": "2021-05-28T08:53:16.538311Z",
     "iopub.status.busy": "2021-05-28T08:53:16.538016Z",
     "iopub.status.idle": "2021-05-28T08:53:16.543042Z",
     "shell.execute_reply": "2021-05-28T08:53:16.542057Z",
     "shell.execute_reply.started": "2021-05-28T08:53:16.538282Z"
    }
   },
   "outputs": [],
   "source": [
    "# Похоже отсюда можно взять только имя модели. Но оно уже есть.\n",
    "# Скорее всего удалим.\n",
    "del_columns.append('model_info')"
   ]
  },
  {
   "cell_type": "code",
   "execution_count": null,
   "metadata": {
    "execution": {
     "iopub.execute_input": "2021-05-28T08:53:16.544634Z",
     "iopub.status.busy": "2021-05-28T08:53:16.544325Z",
     "iopub.status.idle": "2021-05-28T08:53:16.571398Z",
     "shell.execute_reply": "2021-05-28T08:53:16.570353Z",
     "shell.execute_reply.started": "2021-05-28T08:53:16.544605Z"
    }
   },
   "outputs": [],
   "source": [
    "df_test.model_name.unique()[:5], df_train.model_name.unique()[:5]\n",
    "# Структура и тип данных совпадают. Будем рассматривать как категориальный признак."
   ]
  },
  {
   "cell_type": "code",
   "execution_count": null,
   "metadata": {
    "execution": {
     "iopub.execute_input": "2021-05-28T08:53:16.573048Z",
     "iopub.status.busy": "2021-05-28T08:53:16.572714Z",
     "iopub.status.idle": "2021-05-28T08:53:16.577713Z",
     "shell.execute_reply": "2021-05-28T08:53:16.576558Z",
     "shell.execute_reply.started": "2021-05-28T08:53:16.573019Z"
    }
   },
   "outputs": [],
   "source": [
    "cat_columns.append('model_name')"
   ]
  },
  {
   "cell_type": "code",
   "execution_count": null,
   "metadata": {
    "execution": {
     "iopub.execute_input": "2021-05-28T08:53:16.579404Z",
     "iopub.status.busy": "2021-05-28T08:53:16.579025Z",
     "iopub.status.idle": "2021-05-28T08:53:16.592901Z",
     "shell.execute_reply": "2021-05-28T08:53:16.591915Z",
     "shell.execute_reply.started": "2021-05-28T08:53:16.579374Z"
    }
   },
   "outputs": [],
   "source": [
    "df_test.numberOfDoors.unique(), df_train.numberOfDoors.unique()\n",
    "#структура и формат данных совпадают. Будем рассматривать категориальный признак"
   ]
  },
  {
   "cell_type": "code",
   "execution_count": null,
   "metadata": {
    "execution": {
     "iopub.execute_input": "2021-05-28T08:53:16.5947Z",
     "iopub.status.busy": "2021-05-28T08:53:16.594306Z",
     "iopub.status.idle": "2021-05-28T08:53:16.60434Z",
     "shell.execute_reply": "2021-05-28T08:53:16.603434Z",
     "shell.execute_reply.started": "2021-05-28T08:53:16.594658Z"
    }
   },
   "outputs": [],
   "source": [
    "cat_columns.append('numberOfDoors')"
   ]
  },
  {
   "cell_type": "code",
   "execution_count": null,
   "metadata": {
    "execution": {
     "iopub.execute_input": "2021-05-28T08:53:16.605746Z",
     "iopub.status.busy": "2021-05-28T08:53:16.605457Z",
     "iopub.status.idle": "2021-05-28T08:53:16.623684Z",
     "shell.execute_reply": "2021-05-28T08:53:16.622911Z",
     "shell.execute_reply.started": "2021-05-28T08:53:16.60571Z"
    }
   },
   "outputs": [],
   "source": [
    "df_test.productionDate.unique(), df_train.productionDate.unique()\n",
    "#структура и формат данных совпадают. Будем рассматривать как категориальный признак"
   ]
  },
  {
   "cell_type": "code",
   "execution_count": null,
   "metadata": {
    "execution": {
     "iopub.execute_input": "2021-05-28T08:53:16.625411Z",
     "iopub.status.busy": "2021-05-28T08:53:16.62498Z",
     "iopub.status.idle": "2021-05-28T08:53:16.632259Z",
     "shell.execute_reply": "2021-05-28T08:53:16.63125Z",
     "shell.execute_reply.started": "2021-05-28T08:53:16.625366Z"
    }
   },
   "outputs": [],
   "source": [
    "num_columns.append('productionDate')"
   ]
  },
  {
   "cell_type": "code",
   "execution_count": null,
   "metadata": {
    "execution": {
     "iopub.execute_input": "2021-05-28T08:53:16.634714Z",
     "iopub.status.busy": "2021-05-28T08:53:16.634283Z",
     "iopub.status.idle": "2021-05-28T08:53:16.680677Z",
     "shell.execute_reply": "2021-05-28T08:53:16.679356Z",
     "shell.execute_reply.started": "2021-05-28T08:53:16.634671Z"
    }
   },
   "outputs": [],
   "source": [
    "df_test.super_gen.unique()[:3], df_train.super_gen.unique()[:3]\n",
    "# структура и формат данных похожи. Данные вразнобой. В свежей выборке с auto.ru данные не совпадают.\n",
    "# Однако, для тренировочной выборки отсюда можно взять недостающий год модели. Интересен еще price_segment,\n",
    "# но его нет в тестовой выборке. А acceleration, clearance_min и т.д. не попались при парсинге. Может вернемся.\n",
    "# Сам признак, скорее всего придется удалить"
   ]
  },
  {
   "cell_type": "code",
   "execution_count": null,
   "metadata": {
    "execution": {
     "iopub.execute_input": "2021-05-28T08:53:16.682764Z",
     "iopub.status.busy": "2021-05-28T08:53:16.682337Z",
     "iopub.status.idle": "2021-05-28T08:53:17.203276Z",
     "shell.execute_reply": "2021-05-28T08:53:17.202314Z",
     "shell.execute_reply.started": "2021-05-28T08:53:16.682722Z"
    }
   },
   "outputs": [],
   "source": [
    "df_train['super_gen'] = df_train['super_gen'].apply(lambda x: json.loads(x) if type(x) == str else x)\n",
    "df_train['modelDate'] = df_train['super_gen'].apply(lambda x: x['year_from'] if type(x) == dict else x)\n",
    "del_columns.append('super_gen')"
   ]
  },
  {
   "cell_type": "code",
   "execution_count": null,
   "metadata": {
    "execution": {
     "iopub.execute_input": "2021-05-28T08:53:17.20493Z",
     "iopub.status.busy": "2021-05-28T08:53:17.204468Z",
     "iopub.status.idle": "2021-05-28T08:53:17.210285Z",
     "shell.execute_reply": "2021-05-28T08:53:17.209045Z",
     "shell.execute_reply.started": "2021-05-28T08:53:17.204889Z"
    }
   },
   "outputs": [],
   "source": [
    "df_test['modelDate'] = test['modelDate']"
   ]
  },
  {
   "cell_type": "code",
   "execution_count": null,
   "metadata": {
    "execution": {
     "iopub.execute_input": "2021-05-28T08:53:17.212483Z",
     "iopub.status.busy": "2021-05-28T08:53:17.212034Z",
     "iopub.status.idle": "2021-05-28T08:53:17.230112Z",
     "shell.execute_reply": "2021-05-28T08:53:17.228762Z",
     "shell.execute_reply.started": "2021-05-28T08:53:17.212437Z"
    }
   },
   "outputs": [],
   "source": [
    "df_test.modelDate.unique(), df_train.modelDate.unique()"
   ]
  },
  {
   "cell_type": "code",
   "execution_count": null,
   "metadata": {
    "execution": {
     "iopub.execute_input": "2021-05-28T08:53:17.23219Z",
     "iopub.status.busy": "2021-05-28T08:53:17.231745Z",
     "iopub.status.idle": "2021-05-28T08:53:17.238884Z",
     "shell.execute_reply": "2021-05-28T08:53:17.237563Z",
     "shell.execute_reply.started": "2021-05-28T08:53:17.232147Z"
    }
   },
   "outputs": [],
   "source": [
    "num_columns.append('modelDate')"
   ]
  },
  {
   "cell_type": "code",
   "execution_count": null,
   "metadata": {
    "execution": {
     "iopub.execute_input": "2021-05-28T08:53:17.241007Z",
     "iopub.status.busy": "2021-05-28T08:53:17.240537Z",
     "iopub.status.idle": "2021-05-28T08:53:17.268461Z",
     "shell.execute_reply": "2021-05-28T08:53:17.267331Z",
     "shell.execute_reply.started": "2021-05-28T08:53:17.240961Z"
    }
   },
   "outputs": [],
   "source": [
    "df_test.vehicleTransmission.unique(), df_train.vehicleTransmission.unique()"
   ]
  },
  {
   "cell_type": "code",
   "execution_count": null,
   "metadata": {
    "execution": {
     "iopub.execute_input": "2021-05-28T08:53:17.270496Z",
     "iopub.status.busy": "2021-05-28T08:53:17.270071Z",
     "iopub.status.idle": "2021-05-28T08:53:17.275472Z",
     "shell.execute_reply": "2021-05-28T08:53:17.274526Z",
     "shell.execute_reply.started": "2021-05-28T08:53:17.27045Z"
    }
   },
   "outputs": [],
   "source": [
    "#структура и формат данных совпадают. Будем рассматривать как категориальный признак\n",
    "cat_columns.append('vehicleTransmission')"
   ]
  },
  {
   "cell_type": "code",
   "execution_count": null,
   "metadata": {
    "execution": {
     "iopub.execute_input": "2021-05-28T08:53:17.277269Z",
     "iopub.status.busy": "2021-05-28T08:53:17.276839Z",
     "iopub.status.idle": "2021-05-28T08:53:17.299648Z",
     "shell.execute_reply": "2021-05-28T08:53:17.29858Z",
     "shell.execute_reply.started": "2021-05-28T08:53:17.277224Z"
    }
   },
   "outputs": [],
   "source": [
    "df_test.vendor.unique(), df_train.vendor.unique()"
   ]
  },
  {
   "cell_type": "code",
   "execution_count": null,
   "metadata": {
    "execution": {
     "iopub.execute_input": "2021-05-28T08:53:17.301469Z",
     "iopub.status.busy": "2021-05-28T08:53:17.301158Z",
     "iopub.status.idle": "2021-05-28T08:53:17.306663Z",
     "shell.execute_reply": "2021-05-28T08:53:17.305266Z",
     "shell.execute_reply.started": "2021-05-28T08:53:17.301441Z"
    }
   },
   "outputs": [],
   "source": [
    "#структура и формат данных совпадают. Будем рассматривать как категориальный признак\n",
    "cat_columns.append('vendor')"
   ]
  },
  {
   "cell_type": "code",
   "execution_count": null,
   "metadata": {
    "execution": {
     "iopub.execute_input": "2021-05-28T08:53:17.308963Z",
     "iopub.status.busy": "2021-05-28T08:53:17.308403Z",
     "iopub.status.idle": "2021-05-28T08:53:17.397759Z",
     "shell.execute_reply": "2021-05-28T08:53:17.396884Z",
     "shell.execute_reply.started": "2021-05-28T08:53:17.308916Z"
    }
   },
   "outputs": [],
   "source": [
    "df_test.Владельцы.unique(), df_train.Владельцы.unique()\n",
    "#структура и формат данных похож, но надо подчистить пробелы. Будем рассматривать как категориальный признак\n",
    "df_test.Владельцы = df_test.Владельцы.str.replace('\\xa0', ' ')\n",
    "df_train.Владельцы = df_train.Владельцы.str.replace('\\xa0', ' ')"
   ]
  },
  {
   "cell_type": "code",
   "execution_count": null,
   "metadata": {
    "execution": {
     "iopub.execute_input": "2021-05-28T08:53:17.399446Z",
     "iopub.status.busy": "2021-05-28T08:53:17.399145Z",
     "iopub.status.idle": "2021-05-28T08:53:17.419473Z",
     "shell.execute_reply": "2021-05-28T08:53:17.418258Z",
     "shell.execute_reply.started": "2021-05-28T08:53:17.399418Z"
    }
   },
   "outputs": [],
   "source": [
    "df_test.Владельцы.unique(), df_train.Владельцы.unique()"
   ]
  },
  {
   "cell_type": "code",
   "execution_count": null,
   "metadata": {
    "execution": {
     "iopub.execute_input": "2021-05-28T08:53:17.421141Z",
     "iopub.status.busy": "2021-05-28T08:53:17.420874Z",
     "iopub.status.idle": "2021-05-28T08:53:17.42522Z",
     "shell.execute_reply": "2021-05-28T08:53:17.424182Z",
     "shell.execute_reply.started": "2021-05-28T08:53:17.421115Z"
    }
   },
   "outputs": [],
   "source": [
    "#структура и формат данных теперь совпадают. Будем рассматривать как ординальный признак\n",
    "ord_columns.append('Владельцы')"
   ]
  },
  {
   "cell_type": "code",
   "execution_count": null,
   "metadata": {
    "execution": {
     "iopub.execute_input": "2021-05-28T08:53:17.427311Z",
     "iopub.status.busy": "2021-05-28T08:53:17.427008Z",
     "iopub.status.idle": "2021-05-28T08:53:17.452366Z",
     "shell.execute_reply": "2021-05-28T08:53:17.451511Z",
     "shell.execute_reply.started": "2021-05-28T08:53:17.427283Z"
    }
   },
   "outputs": [],
   "source": [
    "df_test.Владение.unique()[:5], df_train.Владение.unique()[:5]\n",
    "# структура и формат данных похож. Можно попробовать перевести в численный признак.\n",
    "# Но в тестовом наборе очень много пропусков. Если заполнить эффективно не удастся, попробуем удалить.\n",
    "# Результат сравним и примем решение."
   ]
  },
  {
   "cell_type": "code",
   "execution_count": null,
   "metadata": {
    "execution": {
     "iopub.execute_input": "2021-05-28T08:53:17.454135Z",
     "iopub.status.busy": "2021-05-28T08:53:17.453844Z",
     "iopub.status.idle": "2021-05-28T08:53:17.470933Z",
     "shell.execute_reply": "2021-05-28T08:53:17.46989Z",
     "shell.execute_reply.started": "2021-05-28T08:53:17.454108Z"
    }
   },
   "outputs": [],
   "source": [
    "df_test.ПТС.unique(), df_train.ПТС.unique()"
   ]
  },
  {
   "cell_type": "code",
   "execution_count": null,
   "metadata": {
    "execution": {
     "iopub.execute_input": "2021-05-28T08:53:17.472972Z",
     "iopub.status.busy": "2021-05-28T08:53:17.472575Z",
     "iopub.status.idle": "2021-05-28T08:53:17.479797Z",
     "shell.execute_reply": "2021-05-28T08:53:17.478859Z",
     "shell.execute_reply.started": "2021-05-28T08:53:17.472942Z"
    }
   },
   "outputs": [],
   "source": [
    "#структура и формат данных совпадает. Будем рассматривать как категориальный признак\n",
    "cat_columns.append('ПТС')"
   ]
  },
  {
   "cell_type": "code",
   "execution_count": null,
   "metadata": {
    "execution": {
     "iopub.execute_input": "2021-05-28T08:53:17.482014Z",
     "iopub.status.busy": "2021-05-28T08:53:17.481659Z",
     "iopub.status.idle": "2021-05-28T08:53:17.508901Z",
     "shell.execute_reply": "2021-05-28T08:53:17.507749Z",
     "shell.execute_reply.started": "2021-05-28T08:53:17.481982Z"
    }
   },
   "outputs": [],
   "source": [
    "df_test.Привод.unique(), df_train.Привод.unique()"
   ]
  },
  {
   "cell_type": "code",
   "execution_count": null,
   "metadata": {
    "execution": {
     "iopub.execute_input": "2021-05-28T08:53:17.510593Z",
     "iopub.status.busy": "2021-05-28T08:53:17.510308Z",
     "iopub.status.idle": "2021-05-28T08:53:17.517268Z",
     "shell.execute_reply": "2021-05-28T08:53:17.516114Z",
     "shell.execute_reply.started": "2021-05-28T08:53:17.510566Z"
    }
   },
   "outputs": [],
   "source": [
    "#структура и формат данных совпадает. Будем рассматривать как категориальный признак\n",
    "cat_columns.append('Привод')"
   ]
  },
  {
   "cell_type": "code",
   "execution_count": null,
   "metadata": {
    "execution": {
     "iopub.execute_input": "2021-05-28T08:53:17.523455Z",
     "iopub.status.busy": "2021-05-28T08:53:17.523101Z",
     "iopub.status.idle": "2021-05-28T08:53:17.541889Z",
     "shell.execute_reply": "2021-05-28T08:53:17.540853Z",
     "shell.execute_reply.started": "2021-05-28T08:53:17.523422Z"
    }
   },
   "outputs": [],
   "source": [
    "df_test.Руль.unique(), df_train.Руль.unique()"
   ]
  },
  {
   "cell_type": "code",
   "execution_count": null,
   "metadata": {
    "execution": {
     "iopub.execute_input": "2021-05-28T08:53:17.543797Z",
     "iopub.status.busy": "2021-05-28T08:53:17.543485Z",
     "iopub.status.idle": "2021-05-28T08:53:17.547957Z",
     "shell.execute_reply": "2021-05-28T08:53:17.547119Z",
     "shell.execute_reply.started": "2021-05-28T08:53:17.543766Z"
    }
   },
   "outputs": [],
   "source": [
    "#структура и формат данных совпадают. Будем рассматривать как категориальный признак\n",
    "cat_columns.append('Руль')"
   ]
  },
  {
   "cell_type": "code",
   "execution_count": null,
   "metadata": {
    "execution": {
     "iopub.execute_input": "2021-05-28T08:53:17.550137Z",
     "iopub.status.busy": "2021-05-28T08:53:17.549613Z",
     "iopub.status.idle": "2021-05-28T08:53:17.575662Z",
     "shell.execute_reply": "2021-05-28T08:53:17.574661Z",
     "shell.execute_reply.started": "2021-05-28T08:53:17.550102Z"
    }
   },
   "outputs": [],
   "source": [
    "df_test.Состояние.unique(), df_train.Состояние.unique()"
   ]
  },
  {
   "cell_type": "code",
   "execution_count": null,
   "metadata": {
    "execution": {
     "iopub.execute_input": "2021-05-28T08:53:17.577592Z",
     "iopub.status.busy": "2021-05-28T08:53:17.577291Z",
     "iopub.status.idle": "2021-05-28T08:53:17.584306Z",
     "shell.execute_reply": "2021-05-28T08:53:17.583376Z",
     "shell.execute_reply.started": "2021-05-28T08:53:17.577566Z"
    }
   },
   "outputs": [],
   "source": [
    "#структура и формат данных совпадает. Будем рассматривать как категориальный признак\n",
    "cat_columns.append('Состояние')"
   ]
  },
  {
   "cell_type": "code",
   "execution_count": null,
   "metadata": {
    "execution": {
     "iopub.execute_input": "2021-05-28T08:53:17.585895Z",
     "iopub.status.busy": "2021-05-28T08:53:17.585563Z",
     "iopub.status.idle": "2021-05-28T08:53:17.609982Z",
     "shell.execute_reply": "2021-05-28T08:53:17.608986Z",
     "shell.execute_reply.started": "2021-05-28T08:53:17.585854Z"
    }
   },
   "outputs": [],
   "source": [
    "df_test.Таможня.unique(), df_train.Таможня.unique()"
   ]
  },
  {
   "cell_type": "code",
   "execution_count": null,
   "metadata": {
    "execution": {
     "iopub.execute_input": "2021-05-28T08:53:17.61186Z",
     "iopub.status.busy": "2021-05-28T08:53:17.611537Z",
     "iopub.status.idle": "2021-05-28T08:53:17.616371Z",
     "shell.execute_reply": "2021-05-28T08:53:17.615357Z",
     "shell.execute_reply.started": "2021-05-28T08:53:17.611809Z"
    }
   },
   "outputs": [],
   "source": [
    "#структура и формат данных совпадает. Будем рассматривать как категориальный признак\n",
    "cat_columns.append('Таможня')"
   ]
  },
  {
   "cell_type": "code",
   "execution_count": null,
   "metadata": {
    "execution": {
     "iopub.execute_input": "2021-05-28T08:53:17.617759Z",
     "iopub.status.busy": "2021-05-28T08:53:17.61748Z",
     "iopub.status.idle": "2021-05-28T08:53:17.631613Z",
     "shell.execute_reply": "2021-05-28T08:53:17.630621Z",
     "shell.execute_reply.started": "2021-05-28T08:53:17.617733Z"
    }
   },
   "outputs": [],
   "source": [
    "num_columns"
   ]
  },
  {
   "cell_type": "code",
   "execution_count": null,
   "metadata": {
    "execution": {
     "iopub.execute_input": "2021-05-28T08:53:17.63387Z",
     "iopub.status.busy": "2021-05-28T08:53:17.633403Z",
     "iopub.status.idle": "2021-05-28T08:53:17.64211Z",
     "shell.execute_reply": "2021-05-28T08:53:17.641139Z",
     "shell.execute_reply.started": "2021-05-28T08:53:17.633804Z"
    },
    "papermill": {
     "duration": 0.156124,
     "end_time": "2020-10-26T12:47:03.134605",
     "exception": false,
     "start_time": "2020-10-26T12:47:02.978481",
     "status": "completed"
    },
    "tags": []
   },
   "outputs": [],
   "source": [
    "#train.dropna(subset=['productionDate','mileage'], inplace=True)\n",
    "#train.dropna(subset=['price'], inplace=True)"
   ]
  },
  {
   "cell_type": "code",
   "execution_count": null,
   "metadata": {
    "execution": {
     "iopub.execute_input": "2021-05-28T08:53:17.687732Z",
     "iopub.status.busy": "2021-05-28T08:53:17.687377Z",
     "iopub.status.idle": "2021-05-28T08:53:17.721125Z",
     "shell.execute_reply": "2021-05-28T08:53:17.71994Z",
     "shell.execute_reply.started": "2021-05-28T08:53:17.687702Z"
    }
   },
   "outputs": [],
   "source": [
    "df_train.head(3)"
   ]
  },
  {
   "cell_type": "markdown",
   "metadata": {},
   "source": [
    "# Соединяем тестовую и тренировочную выборки"
   ]
  },
  {
   "cell_type": "code",
   "execution_count": null,
   "metadata": {
    "execution": {
     "iopub.execute_input": "2021-05-28T08:53:17.743238Z",
     "iopub.status.busy": "2021-05-28T08:53:17.742876Z",
     "iopub.status.idle": "2021-05-28T08:53:17.884881Z",
     "shell.execute_reply": "2021-05-28T08:53:17.883655Z",
     "shell.execute_reply.started": "2021-05-28T08:53:17.743209Z"
    }
   },
   "outputs": [],
   "source": [
    "# ВАЖНО! дря корректной обработки признаков объединяем трейн и тест в один датасет\n",
    "df_train['sample'] = 1 # помечаем где у нас трейн\n",
    "df_test['sample'] = 0 # помечаем где у нас тест\n",
    "\n",
    "data = df_test.append(df_train, sort=False).reset_index(drop=True) # объединяем"
   ]
  },
  {
   "cell_type": "markdown",
   "metadata": {},
   "source": [
    "# Поправочный коэффициент"
   ]
  },
  {
   "cell_type": "code",
   "execution_count": null,
   "metadata": {
    "execution": {
     "iopub.execute_input": "2021-05-28T08:53:17.887469Z",
     "iopub.status.busy": "2021-05-28T08:53:17.887138Z",
     "iopub.status.idle": "2021-05-28T08:53:17.89165Z",
     "shell.execute_reply": "2021-05-28T08:53:17.890596Z",
     "shell.execute_reply.started": "2021-05-28T08:53:17.887439Z"
    }
   },
   "outputs": [],
   "source": [
    "# Если попытаться сформулировать задачу с поправочным коэффициентом, она может выглядеть так.\n",
    "# Рассчитать сколько бы стоила та или иная машина в ценах на момент создания некоей невидимой\n",
    "# тестовой выборки (можно посмотреть по parsing_unixtime).\n",
    "# Попробуем методом эталонов, то есть рассчитаем стоимость машин на (весну?) 2020 год и возьмем\n",
    "# среднее отклонение."
   ]
  },
  {
   "cell_type": "code",
   "execution_count": null,
   "metadata": {
    "execution": {
     "iopub.execute_input": "2021-05-28T08:53:17.893514Z",
     "iopub.status.busy": "2021-05-28T08:53:17.89313Z",
     "iopub.status.idle": "2021-05-28T08:53:18.289556Z",
     "shell.execute_reply": "2021-05-28T08:53:18.288281Z",
     "shell.execute_reply.started": "2021-05-28T08:53:17.89347Z"
    }
   },
   "outputs": [],
   "source": [
    "train_old['model_name'] = train_old['model']\n",
    "train_price = train.append(train_old, sort=False).reset_index(drop=True)"
   ]
  },
  {
   "cell_type": "code",
   "execution_count": null,
   "metadata": {
    "execution": {
     "iopub.execute_input": "2021-05-28T08:53:18.295958Z",
     "iopub.status.busy": "2021-05-28T08:53:18.295572Z",
     "iopub.status.idle": "2021-05-28T08:53:18.315722Z",
     "shell.execute_reply": "2021-05-28T08:53:18.31466Z",
     "shell.execute_reply.started": "2021-05-28T08:53:18.295923Z"
    }
   },
   "outputs": [],
   "source": [
    "model_list = train_price['model_name'].unique()"
   ]
  },
  {
   "cell_type": "code",
   "execution_count": null,
   "metadata": {
    "execution": {
     "iopub.execute_input": "2021-05-28T08:53:18.317835Z",
     "iopub.status.busy": "2021-05-28T08:53:18.317484Z",
     "iopub.status.idle": "2021-05-28T08:53:18.325516Z",
     "shell.execute_reply": "2021-05-28T08:53:18.32442Z",
     "shell.execute_reply.started": "2021-05-28T08:53:18.317792Z"
    }
   },
   "outputs": [],
   "source": [
    "# Пробовал привязаться к старой выборке, чтобы определить коэффициенты изменения цены, но хороших результатов\n",
    "# это не принесло. Видимо все сбивает сезонный фактор.\n",
    "# Было бы понятнее, если была бы известна дата создания тестого набора на kaggle\n",
    "# Определение ценовой поправки через курс доллара на данный момент выглядит предпочтительнее.\n",
    "# Сделаем это по новому признаку rate.\n",
    "\n",
    "'''price_benchmark = pd.DataFrame(columns=['year', 'model'])\n",
    "years = [1999, 2000, 2001, 2002, 2003, 2004, 2005, 2006, 2007, 2008, 2009, 2010, 2011, 2012, 2013, 2014, 2015,\n",
    "       2016, 2017, 2018, 2019, 2020, 2021]\n",
    "for year in years:\n",
    "    for model in model_list:\n",
    "        df1 = pd.DataFrame({'year': [year], 'model': [model]})\n",
    "               \n",
    "        df1['price'] = train_old[(train_old['model_name'] == model) &\n",
    "                                   (train_old['productionDate'] == year)]['price'].mean()\n",
    "        price_benchmark = price_benchmark.append(df1, sort=False).reset_index(drop=True)'''"
   ]
  },
  {
   "cell_type": "code",
   "execution_count": null,
   "metadata": {
    "execution": {
     "iopub.execute_input": "2021-05-28T08:53:18.327125Z",
     "iopub.status.busy": "2021-05-28T08:53:18.326774Z",
     "iopub.status.idle": "2021-05-28T08:53:18.3404Z",
     "shell.execute_reply": "2021-05-28T08:53:18.339152Z",
     "shell.execute_reply.started": "2021-05-28T08:53:18.327085Z"
    }
   },
   "outputs": [],
   "source": [
    "#price_benchmark[price_benchmark['year'] == 2020]['price'].isna().sum()"
   ]
  },
  {
   "cell_type": "code",
   "execution_count": null,
   "metadata": {
    "execution": {
     "iopub.execute_input": "2021-05-28T08:53:18.342353Z",
     "iopub.status.busy": "2021-05-28T08:53:18.342022Z",
     "iopub.status.idle": "2021-05-28T08:53:18.352493Z",
     "shell.execute_reply": "2021-05-28T08:53:18.351628Z",
     "shell.execute_reply.started": "2021-05-28T08:53:18.342321Z"
    }
   },
   "outputs": [],
   "source": [
    "# Отношение средневзвешенных курсов доллара"
   ]
  },
  {
   "cell_type": "code",
   "execution_count": null,
   "metadata": {
    "execution": {
     "iopub.execute_input": "2021-05-28T08:53:18.665162Z",
     "iopub.status.busy": "2021-05-28T08:53:18.66476Z",
     "iopub.status.idle": "2021-05-28T08:53:18.748227Z",
     "shell.execute_reply": "2021-05-28T08:53:18.747186Z",
     "shell.execute_reply.started": "2021-05-28T08:53:18.665128Z"
    }
   },
   "outputs": [],
   "source": [
    "exchange_rate = exchange_rate.rename(columns = {'year':'productionDate'})\n",
    "data = data.merge(exchange_rate, how='left')\n",
    "num_columns.append('rate')\n",
    "\n",
    "a = data.rate.median()\n",
    "data.rate = data.rate.fillna(a)"
   ]
  },
  {
   "cell_type": "code",
   "execution_count": null,
   "metadata": {
    "execution": {
     "iopub.execute_input": "2021-05-28T08:53:19.031971Z",
     "iopub.status.busy": "2021-05-28T08:53:19.03153Z",
     "iopub.status.idle": "2021-05-28T08:53:19.097406Z",
     "shell.execute_reply": "2021-05-28T08:53:19.096363Z",
     "shell.execute_reply.started": "2021-05-28T08:53:19.031933Z"
    }
   },
   "outputs": [],
   "source": [
    "data['rate_norm'] = data['rate'].apply(lambda x: (x*0.96714)**2)\n",
    "num_columns.append('rate_norm')"
   ]
  },
  {
   "cell_type": "raw",
   "metadata": {
    "execution": {
     "iopub.execute_input": "2021-05-24T10:51:37.219879Z",
     "iopub.status.busy": "2021-05-24T10:51:37.21945Z",
     "iopub.status.idle": "2021-05-24T10:51:37.225747Z",
     "shell.execute_reply": "2021-05-24T10:51:37.224436Z",
     "shell.execute_reply.started": "2021-05-24T10:51:37.219838Z"
    }
   },
   "source": [
    "#df_train['price'] = train['price']"
   ]
  },
  {
   "cell_type": "code",
   "execution_count": null,
   "metadata": {},
   "outputs": [],
   "source": []
  },
  {
   "cell_type": "code",
   "execution_count": null,
   "metadata": {
    "execution": {
     "iopub.execute_input": "2021-05-28T08:53:19.115376Z",
     "iopub.status.busy": "2021-05-28T08:53:19.11502Z",
     "iopub.status.idle": "2021-05-28T08:53:19.278685Z",
     "shell.execute_reply": "2021-05-28T08:53:19.277776Z",
     "shell.execute_reply.started": "2021-05-28T08:53:19.115346Z"
    }
   },
   "outputs": [],
   "source": [
    "# Дубликаты\n",
    "data.drop_duplicates(subset=['car_url'], keep='first', inplace=True, ignore_index=True)\n",
    "del_columns.append('car_url')"
   ]
  },
  {
   "cell_type": "code",
   "execution_count": null,
   "metadata": {
    "execution": {
     "iopub.execute_input": "2021-05-28T08:53:19.281062Z",
     "iopub.status.busy": "2021-05-28T08:53:19.280734Z",
     "iopub.status.idle": "2021-05-28T08:53:19.306788Z",
     "shell.execute_reply": "2021-05-28T08:53:19.305913Z",
     "shell.execute_reply.started": "2021-05-28T08:53:19.281031Z"
    }
   },
   "outputs": [],
   "source": [
    "len(data.query('sample == 0'))"
   ]
  },
  {
   "cell_type": "code",
   "execution_count": null,
   "metadata": {
    "execution": {
     "iopub.execute_input": "2021-05-28T08:53:19.459333Z",
     "iopub.status.busy": "2021-05-28T08:53:19.458962Z",
     "iopub.status.idle": "2021-05-28T08:53:19.490727Z",
     "shell.execute_reply": "2021-05-28T08:53:19.489494Z",
     "shell.execute_reply.started": "2021-05-28T08:53:19.459299Z"
    }
   },
   "outputs": [],
   "source": [
    "data.head(3)"
   ]
  },
  {
   "cell_type": "code",
   "execution_count": null,
   "metadata": {
    "execution": {
     "iopub.execute_input": "2021-05-28T08:53:19.579493Z",
     "iopub.status.busy": "2021-05-28T08:53:19.579142Z",
     "iopub.status.idle": "2021-05-28T08:53:19.585656Z",
     "shell.execute_reply": "2021-05-28T08:53:19.58457Z",
     "shell.execute_reply.started": "2021-05-28T08:53:19.579464Z"
    }
   },
   "outputs": [],
   "source": [
    "len(test)"
   ]
  },
  {
   "cell_type": "markdown",
   "metadata": {},
   "source": [
    "# Обработка признаков"
   ]
  },
  {
   "cell_type": "code",
   "execution_count": null,
   "metadata": {
    "execution": {
     "iopub.execute_input": "2021-05-28T08:53:19.588313Z",
     "iopub.status.busy": "2021-05-28T08:53:19.587678Z",
     "iopub.status.idle": "2021-05-28T08:53:19.616065Z",
     "shell.execute_reply": "2021-05-28T08:53:19.615068Z",
     "shell.execute_reply.started": "2021-05-28T08:53:19.588268Z"
    }
   },
   "outputs": [],
   "source": [
    "# Поскольку уникальных индексов в датасете нет, сделаем реиндексацию\n",
    "data = data.reset_index()\n",
    "data.rename({'index':'idx_df'}, axis = 1, inplace = True)"
   ]
  },
  {
   "cell_type": "code",
   "execution_count": null,
   "metadata": {
    "execution": {
     "iopub.execute_input": "2021-05-28T08:53:19.627375Z",
     "iopub.status.busy": "2021-05-28T08:53:19.626815Z",
     "iopub.status.idle": "2021-05-28T08:53:19.636458Z",
     "shell.execute_reply": "2021-05-28T08:53:19.635367Z",
     "shell.execute_reply.started": "2021-05-28T08:53:19.627335Z"
    }
   },
   "outputs": [],
   "source": [
    "data['complectation_dict'][0:10]"
   ]
  },
  {
   "cell_type": "code",
   "execution_count": null,
   "metadata": {
    "execution": {
     "iopub.execute_input": "2021-05-28T08:53:19.717193Z",
     "iopub.status.busy": "2021-05-28T08:53:19.716804Z",
     "iopub.status.idle": "2021-05-28T08:53:19.792026Z",
     "shell.execute_reply": "2021-05-28T08:53:19.790913Z",
     "shell.execute_reply.started": "2021-05-28T08:53:19.717162Z"
    }
   },
   "outputs": [],
   "source": [
    "# Даже при извлечении названия комплектации очень много пропусков, в том числе и в тестовом наборе.\n",
    "# К тому же в записях очень много ошибок - лучше удалить\n",
    "data['complectation_dict'] = data['complectation_dict'][0:1000].apply(\n",
    "    lambda x: json.loads(x) if type(x) == str else x)\n",
    "data['complectation_name'] = data['complectation_dict'].apply(\n",
    "    lambda x: x.get('name') if type(x) == dict else x)\n",
    "data['complectation_name'].isna().sum()"
   ]
  },
  {
   "cell_type": "code",
   "execution_count": null,
   "metadata": {
    "execution": {
     "iopub.execute_input": "2021-05-28T08:53:19.793856Z",
     "iopub.status.busy": "2021-05-28T08:53:19.793568Z",
     "iopub.status.idle": "2021-05-28T08:53:19.798462Z",
     "shell.execute_reply": "2021-05-28T08:53:19.797513Z",
     "shell.execute_reply.started": "2021-05-28T08:53:19.793816Z"
    }
   },
   "outputs": [],
   "source": [
    "cat_columns.append('complectation_name')\n",
    "del_columns.append('complectation_dict')"
   ]
  },
  {
   "cell_type": "code",
   "execution_count": null,
   "metadata": {
    "execution": {
     "iopub.execute_input": "2021-05-28T08:53:19.800049Z",
     "iopub.status.busy": "2021-05-28T08:53:19.799632Z",
     "iopub.status.idle": "2021-05-28T08:53:19.968195Z",
     "shell.execute_reply": "2021-05-28T08:53:19.967221Z",
     "shell.execute_reply.started": "2021-05-28T08:53:19.800012Z"
    }
   },
   "outputs": [],
   "source": [
    "# engineDisplacementNum как числовой параметр (для тестирования)\n",
    "import re\n",
    "\n",
    "data['engineDisplacementNum'] = data['engineDisplacement'].apply(\n",
    "    lambda x: x.split(' ')[0] if type(x) == str else x)\n",
    "data['engineDisplacementNum'] = data['engineDisplacementNum'].replace('', None)\n",
    "data['engineDisplacementNum'] = data['engineDisplacementNum'].apply(lambda x: float(x) if type(x) == str else x)\n",
    "num_columns.append('engineDisplacementNum')"
   ]
  },
  {
   "cell_type": "code",
   "execution_count": null,
   "metadata": {
    "execution": {
     "iopub.execute_input": "2021-05-28T08:53:19.969892Z",
     "iopub.status.busy": "2021-05-28T08:53:19.969549Z",
     "iopub.status.idle": "2021-05-28T08:53:20.156133Z",
     "shell.execute_reply": "2021-05-28T08:53:20.155076Z",
     "shell.execute_reply.started": "2021-05-28T08:53:19.969852Z"
    }
   },
   "outputs": [],
   "source": [
    "# enginePowerNum как числовой параметр (для тестирования)\n",
    "import re\n",
    "\n",
    "data['enginePowerNum'] = data['enginePower'].apply(\n",
    "    lambda x: x.split(' ')[0] if type(x) == str else x)\n",
    "data['enginePowerNum'] = data['enginePowerNum'].replace('', None)\n",
    "data['enginePowerNum'] = data['enginePowerNum'].apply(lambda x: int(x) if type(x) == str else x)\n",
    "num_columns.append('enginePowerNum')"
   ]
  },
  {
   "cell_type": "code",
   "execution_count": null,
   "metadata": {
    "execution": {
     "iopub.execute_input": "2021-05-28T08:53:20.158592Z",
     "iopub.status.busy": "2021-05-28T08:53:20.158267Z",
     "iopub.status.idle": "2021-05-28T08:53:20.164939Z",
     "shell.execute_reply": "2021-05-28T08:53:20.164059Z",
     "shell.execute_reply.started": "2021-05-28T08:53:20.158546Z"
    }
   },
   "outputs": [],
   "source": [
    "data['equipment_dict'][9]"
   ]
  },
  {
   "cell_type": "code",
   "execution_count": null,
   "metadata": {
    "execution": {
     "iopub.execute_input": "2021-05-28T08:53:20.16699Z",
     "iopub.status.busy": "2021-05-28T08:53:20.166618Z",
     "iopub.status.idle": "2021-05-28T08:53:20.197525Z",
     "shell.execute_reply": "2021-05-28T08:53:20.196635Z",
     "shell.execute_reply.started": "2021-05-28T08:53:20.16696Z"
    }
   },
   "outputs": [],
   "source": [
    "data['equipment_dict'] = data['equipment_dict'].fillna('{\"no\":true}')"
   ]
  },
  {
   "cell_type": "code",
   "execution_count": null,
   "metadata": {
    "execution": {
     "iopub.execute_input": "2021-05-28T08:53:20.202173Z",
     "iopub.status.busy": "2021-05-28T08:53:20.201794Z",
     "iopub.status.idle": "2021-05-28T08:53:22.177637Z",
     "shell.execute_reply": "2021-05-28T08:53:22.176685Z",
     "shell.execute_reply.started": "2021-05-28T08:53:20.202141Z"
    }
   },
   "outputs": [],
   "source": [
    "#data['equipment_dict'] = \n",
    "data['equipment_dict_list'] = data['equipment_dict'].apply(\n",
    "    lambda x: json.loads(x) if type(x) == str else x)\n",
    "\n",
    "data['equipment_dict_list'] = data['equipment_dict_list'].apply(\n",
    "    lambda x: list(x) if type(x) == dict else x)\n",
    "\n",
    "#data['equipment_dict'] = data['equipment_dict'].apply(\n",
    "#    lambda x: x.get('name') if type(x) == dict else x)\n",
    "\n",
    "data['equipment_dict_list']"
   ]
  },
  {
   "cell_type": "code",
   "execution_count": null,
   "metadata": {
    "execution": {
     "iopub.execute_input": "2021-05-28T08:53:22.179953Z",
     "iopub.status.busy": "2021-05-28T08:53:22.179487Z",
     "iopub.status.idle": "2021-05-28T08:53:29.328695Z",
     "shell.execute_reply": "2021-05-28T08:53:29.327781Z",
     "shell.execute_reply.started": "2021-05-28T08:53:22.179895Z"
    }
   },
   "outputs": [],
   "source": [
    "data1 = data.explode('equipment_dict_list')"
   ]
  },
  {
   "cell_type": "code",
   "execution_count": null,
   "metadata": {
    "execution": {
     "iopub.execute_input": "2021-05-28T08:53:29.331296Z",
     "iopub.status.busy": "2021-05-28T08:53:29.330861Z",
     "iopub.status.idle": "2021-05-28T08:53:29.361935Z",
     "shell.execute_reply": "2021-05-28T08:53:29.361153Z",
     "shell.execute_reply.started": "2021-05-28T08:53:29.331264Z"
    }
   },
   "outputs": [],
   "source": [
    "data1.head(2)"
   ]
  },
  {
   "cell_type": "code",
   "execution_count": null,
   "metadata": {
    "execution": {
     "iopub.execute_input": "2021-05-28T08:53:29.364274Z",
     "iopub.status.busy": "2021-05-28T08:53:29.363873Z",
     "iopub.status.idle": "2021-05-28T08:53:29.743057Z",
     "shell.execute_reply": "2021-05-28T08:53:29.742168Z",
     "shell.execute_reply.started": "2021-05-28T08:53:29.364245Z"
    }
   },
   "outputs": [],
   "source": [
    "# Переведем 'Владение' в числовой признак 'OwnershipMonth'\n",
    "\n",
    "import re\n",
    "year_pattern = re.compile(r'([0123456789]*) \\b(?:лет|год)')\n",
    "month_pattern = re.compile(r'([0123456789]*) \\bмесяц')\n",
    "\n",
    "def ownership_year_month(text):\n",
    "    if isinstance(text, float) or isinstance(text, int):\n",
    "        return 0, text\n",
    "    year, month = (0,0)\n",
    "    m = year_pattern.search(text)\n",
    "    if m:        \n",
    "        year = int(m.group(1))\n",
    "    m = month_pattern.search(text)\n",
    "    if m:        \n",
    "        month = int(m.group(1))\n",
    "    return year, month\n",
    "\n",
    "\n",
    "data['OwnershipMonth'] = data['Владение'].apply(lambda v: (\n",
    "    lambda y, m: y*12+m)(*ownership_year_month(v)))"
   ]
  },
  {
   "cell_type": "code",
   "execution_count": null,
   "metadata": {
    "execution": {
     "iopub.execute_input": "2021-05-28T08:53:29.744507Z",
     "iopub.status.busy": "2021-05-28T08:53:29.744117Z",
     "iopub.status.idle": "2021-05-28T08:53:29.752647Z",
     "shell.execute_reply": "2021-05-28T08:53:29.751606Z",
     "shell.execute_reply.started": "2021-05-28T08:53:29.744478Z"
    }
   },
   "outputs": [],
   "source": [
    "data['Владение'][1010:1025], data['OwnershipMonth'][1010:1025]"
   ]
  },
  {
   "cell_type": "code",
   "execution_count": null,
   "metadata": {
    "execution": {
     "iopub.execute_input": "2021-05-28T08:53:29.754189Z",
     "iopub.status.busy": "2021-05-28T08:53:29.753908Z",
     "iopub.status.idle": "2021-05-28T08:53:29.768934Z",
     "shell.execute_reply": "2021-05-28T08:53:29.767922Z",
     "shell.execute_reply.started": "2021-05-28T08:53:29.754162Z"
    }
   },
   "outputs": [],
   "source": [
    "data['OwnershipMonth'] = np.log(2+data['OwnershipMonth'])\n",
    "num_columns.append('OwnershipMonth')\n",
    "del_columns.append('Владение')"
   ]
  },
  {
   "cell_type": "code",
   "execution_count": null,
   "metadata": {
    "execution": {
     "iopub.execute_input": "2021-05-28T08:53:29.770422Z",
     "iopub.status.busy": "2021-05-28T08:53:29.770138Z",
     "iopub.status.idle": "2021-05-28T08:53:29.812541Z",
     "shell.execute_reply": "2021-05-28T08:53:29.811239Z",
     "shell.execute_reply.started": "2021-05-28T08:53:29.770387Z"
    }
   },
   "outputs": [],
   "source": [
    "data.head(3)"
   ]
  },
  {
   "cell_type": "code",
   "execution_count": null,
   "metadata": {
    "execution": {
     "iopub.execute_input": "2021-05-28T08:53:29.814313Z",
     "iopub.status.busy": "2021-05-28T08:53:29.813981Z",
     "iopub.status.idle": "2021-05-28T08:53:29.826728Z",
     "shell.execute_reply": "2021-05-28T08:53:29.825394Z",
     "shell.execute_reply.started": "2021-05-28T08:53:29.814283Z"
    }
   },
   "outputs": [],
   "source": [
    "cat_columns"
   ]
  },
  {
   "cell_type": "code",
   "execution_count": null,
   "metadata": {
    "execution": {
     "iopub.execute_input": "2021-05-28T08:53:29.829786Z",
     "iopub.status.busy": "2021-05-28T08:53:29.82881Z",
     "iopub.status.idle": "2021-05-28T08:53:29.842051Z",
     "shell.execute_reply": "2021-05-28T08:53:29.840908Z",
     "shell.execute_reply.started": "2021-05-28T08:53:29.829736Z"
    }
   },
   "outputs": [],
   "source": [
    "ord_columns"
   ]
  },
  {
   "cell_type": "code",
   "execution_count": null,
   "metadata": {
    "execution": {
     "iopub.execute_input": "2021-05-28T08:53:29.844195Z",
     "iopub.status.busy": "2021-05-28T08:53:29.84364Z",
     "iopub.status.idle": "2021-05-28T08:53:29.882623Z",
     "shell.execute_reply": "2021-05-28T08:53:29.881201Z",
     "shell.execute_reply.started": "2021-05-28T08:53:29.84415Z"
    }
   },
   "outputs": [],
   "source": [
    "data.Владельцы.value_counts()"
   ]
  },
  {
   "cell_type": "code",
   "execution_count": null,
   "metadata": {
    "execution": {
     "iopub.execute_input": "2021-05-28T08:53:29.884321Z",
     "iopub.status.busy": "2021-05-28T08:53:29.883876Z",
     "iopub.status.idle": "2021-05-28T08:53:30.447521Z",
     "shell.execute_reply": "2021-05-28T08:53:30.4463Z",
     "shell.execute_reply.started": "2021-05-28T08:53:29.88429Z"
    }
   },
   "outputs": [],
   "source": [
    "data['Владельцы'] = data['Владельцы'].str.extract('(\\d+)').astype(int)"
   ]
  },
  {
   "cell_type": "code",
   "execution_count": null,
   "metadata": {
    "execution": {
     "iopub.execute_input": "2021-05-28T08:53:30.449505Z",
     "iopub.status.busy": "2021-05-28T08:53:30.44908Z",
     "iopub.status.idle": "2021-05-28T08:53:30.559817Z",
     "shell.execute_reply": "2021-05-28T08:53:30.558233Z",
     "shell.execute_reply.started": "2021-05-28T08:53:30.449456Z"
    }
   },
   "outputs": [],
   "source": [
    "len(data.query('sample == 0'))"
   ]
  },
  {
   "cell_type": "markdown",
   "metadata": {},
   "source": [
    "# Работа с пропусками и выбросами"
   ]
  },
  {
   "cell_type": "code",
   "execution_count": null,
   "metadata": {
    "execution": {
     "iopub.execute_input": "2021-05-28T08:53:30.562091Z",
     "iopub.status.busy": "2021-05-28T08:53:30.561601Z",
     "iopub.status.idle": "2021-05-28T08:53:30.772843Z",
     "shell.execute_reply": "2021-05-28T08:53:30.771273Z",
     "shell.execute_reply.started": "2021-05-28T08:53:30.562043Z"
    }
   },
   "outputs": [],
   "source": [
    "data.isna().sum()"
   ]
  },
  {
   "cell_type": "code",
   "execution_count": null,
   "metadata": {
    "execution": {
     "iopub.execute_input": "2021-05-28T08:53:30.774967Z",
     "iopub.status.busy": "2021-05-28T08:53:30.774521Z",
     "iopub.status.idle": "2021-05-28T08:53:30.781179Z",
     "shell.execute_reply": "2021-05-28T08:53:30.780225Z",
     "shell.execute_reply.started": "2021-05-28T08:53:30.774922Z"
    }
   },
   "outputs": [],
   "source": [
    "del_columns"
   ]
  },
  {
   "cell_type": "code",
   "execution_count": null,
   "metadata": {
    "execution": {
     "iopub.execute_input": "2021-05-28T08:53:30.782605Z",
     "iopub.status.busy": "2021-05-28T08:53:30.7823Z",
     "iopub.status.idle": "2021-05-28T08:53:30.93474Z",
     "shell.execute_reply": "2021-05-28T08:53:30.933325Z",
     "shell.execute_reply.started": "2021-05-28T08:53:30.782566Z"
    }
   },
   "outputs": [],
   "source": [
    "data[cat_columns].isna().sum()"
   ]
  },
  {
   "cell_type": "code",
   "execution_count": null,
   "metadata": {
    "execution": {
     "iopub.execute_input": "2021-05-28T08:53:30.936881Z",
     "iopub.status.busy": "2021-05-28T08:53:30.936514Z",
     "iopub.status.idle": "2021-05-28T08:53:30.970594Z",
     "shell.execute_reply": "2021-05-28T08:53:30.969053Z",
     "shell.execute_reply.started": "2021-05-28T08:53:30.936846Z"
    }
   },
   "outputs": [],
   "source": [
    "data.ПТС.value_counts()"
   ]
  },
  {
   "cell_type": "code",
   "execution_count": null,
   "metadata": {
    "execution": {
     "iopub.execute_input": "2021-05-28T08:53:30.972617Z",
     "iopub.status.busy": "2021-05-28T08:53:30.972304Z",
     "iopub.status.idle": "2021-05-28T08:53:30.992244Z",
     "shell.execute_reply": "2021-05-28T08:53:30.990865Z",
     "shell.execute_reply.started": "2021-05-28T08:53:30.972588Z"
    }
   },
   "outputs": [],
   "source": [
    "data.ПТС = data.ПТС.fillna('Оригинал')"
   ]
  },
  {
   "cell_type": "code",
   "execution_count": null,
   "metadata": {
    "execution": {
     "iopub.execute_input": "2021-05-28T08:53:30.994382Z",
     "iopub.status.busy": "2021-05-28T08:53:30.993998Z",
     "iopub.status.idle": "2021-05-28T08:53:31.014343Z",
     "shell.execute_reply": "2021-05-28T08:53:31.012817Z",
     "shell.execute_reply.started": "2021-05-28T08:53:30.994348Z"
    }
   },
   "outputs": [],
   "source": [
    "data[num_columns].isna().sum()"
   ]
  },
  {
   "cell_type": "code",
   "execution_count": null,
   "metadata": {
    "execution": {
     "iopub.execute_input": "2021-05-28T08:53:31.016859Z",
     "iopub.status.busy": "2021-05-28T08:53:31.016437Z",
     "iopub.status.idle": "2021-05-28T08:53:31.025818Z",
     "shell.execute_reply": "2021-05-28T08:53:31.024543Z",
     "shell.execute_reply.started": "2021-05-28T08:53:31.016807Z"
    }
   },
   "outputs": [],
   "source": [
    "OM_mean = data['OwnershipMonth'].mean()\n",
    "data['OwnershipMonth'] = data['OwnershipMonth'].fillna(OM_mean)"
   ]
  },
  {
   "cell_type": "code",
   "execution_count": null,
   "metadata": {
    "execution": {
     "iopub.execute_input": "2021-05-28T08:53:31.028659Z",
     "iopub.status.busy": "2021-05-28T08:53:31.028017Z",
     "iopub.status.idle": "2021-05-28T08:53:31.045231Z",
     "shell.execute_reply": "2021-05-28T08:53:31.043592Z",
     "shell.execute_reply.started": "2021-05-28T08:53:31.028588Z"
    }
   },
   "outputs": [],
   "source": [
    "data['OwnershipMonth'].isna().sum()"
   ]
  },
  {
   "cell_type": "code",
   "execution_count": null,
   "metadata": {
    "execution": {
     "iopub.execute_input": "2021-05-28T08:53:31.055001Z",
     "iopub.status.busy": "2021-05-28T08:53:31.054559Z",
     "iopub.status.idle": "2021-05-28T08:53:31.089307Z",
     "shell.execute_reply": "2021-05-28T08:53:31.088099Z",
     "shell.execute_reply.started": "2021-05-28T08:53:31.054966Z"
    }
   },
   "outputs": [],
   "source": [
    "data[ord_columns].isna().sum()"
   ]
  },
  {
   "cell_type": "code",
   "execution_count": null,
   "metadata": {
    "execution": {
     "iopub.execute_input": "2021-05-28T08:53:31.092081Z",
     "iopub.status.busy": "2021-05-28T08:53:31.091714Z",
     "iopub.status.idle": "2021-05-28T08:53:33.532216Z",
     "shell.execute_reply": "2021-05-28T08:53:33.531207Z",
     "shell.execute_reply.started": "2021-05-28T08:53:31.092048Z"
    }
   },
   "outputs": [],
   "source": [
    "for col in(num_columns):\n",
    "    graph_num(col, data)"
   ]
  },
  {
   "cell_type": "code",
   "execution_count": null,
   "metadata": {
    "execution": {
     "iopub.execute_input": "2021-05-28T08:53:33.534401Z",
     "iopub.status.busy": "2021-05-28T08:53:33.534094Z",
     "iopub.status.idle": "2021-05-28T08:53:33.657045Z",
     "shell.execute_reply": "2021-05-28T08:53:33.65593Z",
     "shell.execute_reply.started": "2021-05-28T08:53:33.534372Z"
    }
   },
   "outputs": [],
   "source": [
    "for col in num_columns:\n",
    "    statistic(col, data)"
   ]
  },
  {
   "cell_type": "code",
   "execution_count": null,
   "metadata": {
    "execution": {
     "iopub.execute_input": "2021-05-28T08:53:33.658534Z",
     "iopub.status.busy": "2021-05-28T08:53:33.658228Z",
     "iopub.status.idle": "2021-05-28T08:53:33.662769Z",
     "shell.execute_reply": "2021-05-28T08:53:33.661578Z",
     "shell.execute_reply.started": "2021-05-28T08:53:33.658505Z"
    }
   },
   "outputs": [],
   "source": [
    "# Не смотря на то, что выбросы есть, и где-то значительные, в полном смысле выбросами это назвать нельзя.\n",
    "# Вероятно поэтому, почти любые попытки их почистить приводят к ухудшению модели. "
   ]
  },
  {
   "cell_type": "code",
   "execution_count": null,
   "metadata": {
    "execution": {
     "iopub.execute_input": "2021-05-28T08:53:33.66506Z",
     "iopub.status.busy": "2021-05-28T08:53:33.664599Z",
     "iopub.status.idle": "2021-05-28T08:53:33.675723Z",
     "shell.execute_reply": "2021-05-28T08:53:33.674585Z",
     "shell.execute_reply.started": "2021-05-28T08:53:33.665009Z"
    }
   },
   "outputs": [],
   "source": [
    "# Распределение почти нокмальное, со смещением. Попробуем прологарифмировать\n",
    "\n",
    "#for i in num_columns:\n",
    "#    data[i] = np.log(data[i]+1)"
   ]
  },
  {
   "cell_type": "code",
   "execution_count": null,
   "metadata": {
    "execution": {
     "iopub.execute_input": "2021-05-28T08:53:33.677586Z",
     "iopub.status.busy": "2021-05-28T08:53:33.677164Z",
     "iopub.status.idle": "2021-05-28T08:53:33.748996Z",
     "shell.execute_reply": "2021-05-28T08:53:33.74786Z",
     "shell.execute_reply.started": "2021-05-28T08:53:33.677544Z"
    }
   },
   "outputs": [],
   "source": [
    "# Нормализация данных\n",
    "scaler = StandardScaler()\n",
    "#scaler = MinMaxScaler()\n",
    "for column in num_columns:\n",
    "    data[column] = scaler.fit_transform(data[[column]])[:,0]"
   ]
  },
  {
   "cell_type": "code",
   "execution_count": null,
   "metadata": {
    "execution": {
     "iopub.execute_input": "2021-05-28T08:53:33.750958Z",
     "iopub.status.busy": "2021-05-28T08:53:33.750504Z",
     "iopub.status.idle": "2021-05-28T08:53:34.24002Z",
     "shell.execute_reply": "2021-05-28T08:53:34.238889Z",
     "shell.execute_reply.started": "2021-05-28T08:53:33.750915Z"
    }
   },
   "outputs": [],
   "source": [
    "# Посмотрим корреляцию числовых признаков\n",
    "correlation = data[num_columns].corr()\n",
    "plt.figure(figsize=(10, 6))\n",
    "sns.heatmap(correlation, annot=True, cmap='coolwarm')"
   ]
  },
  {
   "cell_type": "code",
   "execution_count": null,
   "metadata": {
    "execution": {
     "iopub.execute_input": "2021-05-28T08:53:34.241895Z",
     "iopub.status.busy": "2021-05-28T08:53:34.241497Z",
     "iopub.status.idle": "2021-05-28T08:53:34.25057Z",
     "shell.execute_reply": "2021-05-28T08:53:34.249453Z",
     "shell.execute_reply.started": "2021-05-28T08:53:34.241851Z"
    }
   },
   "outputs": [],
   "source": [
    "data.rate"
   ]
  },
  {
   "cell_type": "code",
   "execution_count": null,
   "metadata": {
    "execution": {
     "iopub.execute_input": "2021-05-28T08:53:34.25247Z",
     "iopub.status.busy": "2021-05-28T08:53:34.252036Z",
     "iopub.status.idle": "2021-05-28T08:53:34.462658Z",
     "shell.execute_reply": "2021-05-28T08:53:34.4617Z",
     "shell.execute_reply.started": "2021-05-28T08:53:34.252426Z"
    }
   },
   "outputs": [],
   "source": [
    "# Значимость числовых признаков\n",
    "imp_num = pd.Series(f_regression(data[data['sample'] == 1][num_columns],\n",
    "                              data[data['sample'] == 1].price)[0], index = num_columns)\n",
    "imp_num.sort_values(inplace = True)\n",
    "imp_num.plot(kind = 'barh')"
   ]
  },
  {
   "cell_type": "code",
   "execution_count": null,
   "metadata": {
    "execution": {
     "iopub.execute_input": "2021-05-28T08:53:34.464375Z",
     "iopub.status.busy": "2021-05-28T08:53:34.463892Z",
     "iopub.status.idle": "2021-05-28T08:53:34.468378Z",
     "shell.execute_reply": "2021-05-28T08:53:34.467642Z",
     "shell.execute_reply.started": "2021-05-28T08:53:34.464316Z"
    }
   },
   "outputs": [],
   "source": [
    "del_columns.append('rate')"
   ]
  },
  {
   "cell_type": "markdown",
   "metadata": {
    "papermill": {
     "duration": 0.033657,
     "end_time": "2020-10-26T12:47:03.29162",
     "exception": false,
     "start_time": "2020-10-26T12:47:03.257963",
     "status": "completed"
    },
    "tags": []
   },
   "source": [
    "## Label Encoding"
   ]
  },
  {
   "cell_type": "code",
   "execution_count": null,
   "metadata": {
    "execution": {
     "iopub.execute_input": "2021-05-28T08:53:34.469921Z",
     "iopub.status.busy": "2021-05-28T08:53:34.469501Z",
     "iopub.status.idle": "2021-05-28T08:53:35.2927Z",
     "shell.execute_reply": "2021-05-28T08:53:35.291476Z",
     "shell.execute_reply.started": "2021-05-28T08:53:34.469881Z"
    }
   },
   "outputs": [],
   "source": [
    "# реализуем метод OneHotLabels через get_dummies для категориальных признаков\n",
    "\n",
    "data = pd.get_dummies(data, prefix=cat_columns, columns=cat_columns)"
   ]
  },
  {
   "cell_type": "code",
   "execution_count": null,
   "metadata": {
    "execution": {
     "iopub.execute_input": "2021-05-28T08:53:35.294798Z",
     "iopub.status.busy": "2021-05-28T08:53:35.294334Z",
     "iopub.status.idle": "2021-05-28T08:53:35.33646Z",
     "shell.execute_reply": "2021-05-28T08:53:35.33551Z",
     "shell.execute_reply.started": "2021-05-28T08:53:35.294754Z"
    },
    "papermill": {
     "duration": 0.10809,
     "end_time": "2020-10-26T12:47:03.549533",
     "exception": false,
     "start_time": "2020-10-26T12:47:03.441443",
     "status": "completed"
    },
    "tags": []
   },
   "outputs": [],
   "source": [
    "for colum in ['enginePower', 'engineDisplacement']:\n",
    "    data[colum] = data[colum].astype('category').cat.codes"
   ]
  },
  {
   "cell_type": "code",
   "execution_count": null,
   "metadata": {
    "execution": {
     "iopub.execute_input": "2021-05-28T08:53:35.33865Z",
     "iopub.status.busy": "2021-05-28T08:53:35.338218Z",
     "iopub.status.idle": "2021-05-28T08:53:35.343809Z",
     "shell.execute_reply": "2021-05-28T08:53:35.342451Z",
     "shell.execute_reply.started": "2021-05-28T08:53:35.338606Z"
    }
   },
   "outputs": [],
   "source": [
    "#del_columns.append('enginePower')\n",
    "#del_columns.append('engineDisplacement')"
   ]
  },
  {
   "cell_type": "code",
   "execution_count": null,
   "metadata": {
    "execution": {
     "iopub.execute_input": "2021-05-28T08:53:35.34641Z",
     "iopub.status.busy": "2021-05-28T08:53:35.345961Z",
     "iopub.status.idle": "2021-05-28T08:54:12.472226Z",
     "shell.execute_reply": "2021-05-28T08:54:12.467681Z",
     "shell.execute_reply.started": "2021-05-28T08:53:35.346362Z"
    }
   },
   "outputs": [],
   "source": [
    "# Создаем признаки с мнимыми переменными на основе параметра 'equipment_dict_list'\n",
    "dummies = pd.get_dummies(data1['equipment_dict_list']).rename(columns=lambda x: str(x))\n",
    "df1 = pd.concat([data1, dummies], axis=1)\n",
    "df2 = pd.DataFrame()\n",
    "#Составим общий список всех опций. Обеспечим уникальность через использование множеств\n",
    "equipment_list = set()\n",
    "for item in data1['equipment_dict_list']:\n",
    "#    for i in item:\n",
    "        equipment_list.add(item)\n",
    " #   equipment_list.add(i)\n",
    "\n",
    "for i in equipment_list:\n",
    "     df2[i] = df1.groupby(['idx_df'])[i].sum()[:]\n",
    "\n",
    "data = pd.merge(data, df2, on = 'idx_df')\n",
    "\n",
    "del_columns.append('equipment_dict_list')"
   ]
  },
  {
   "cell_type": "code",
   "execution_count": null,
   "metadata": {
    "execution": {
     "iopub.execute_input": "2021-05-28T08:54:12.479209Z",
     "iopub.status.busy": "2021-05-28T08:54:12.478702Z",
     "iopub.status.idle": "2021-05-28T08:54:13.211971Z",
     "shell.execute_reply": "2021-05-28T08:54:13.21092Z",
     "shell.execute_reply.started": "2021-05-28T08:54:12.479168Z"
    },
    "papermill": {
     "duration": 0.06183,
     "end_time": "2020-10-26T12:47:03.646867",
     "exception": false,
     "start_time": "2020-10-26T12:47:03.585037",
     "status": "completed"
    },
    "tags": []
   },
   "outputs": [],
   "source": [
    "data.head(2)"
   ]
  },
  {
   "cell_type": "code",
   "execution_count": null,
   "metadata": {
    "execution": {
     "iopub.execute_input": "2021-05-28T08:54:13.214319Z",
     "iopub.status.busy": "2021-05-28T08:54:13.21381Z",
     "iopub.status.idle": "2021-05-28T08:54:13.792447Z",
     "shell.execute_reply": "2021-05-28T08:54:13.791481Z",
     "shell.execute_reply.started": "2021-05-28T08:54:13.214272Z"
    }
   },
   "outputs": [],
   "source": [
    "data = data.sort_values(by = 'idx_df')"
   ]
  },
  {
   "cell_type": "markdown",
   "metadata": {},
   "source": [
    "# Удаление столбцов"
   ]
  },
  {
   "cell_type": "code",
   "execution_count": null,
   "metadata": {
    "execution": {
     "iopub.execute_input": "2021-05-28T08:54:13.794337Z",
     "iopub.status.busy": "2021-05-28T08:54:13.794031Z",
     "iopub.status.idle": "2021-05-28T08:54:13.801571Z",
     "shell.execute_reply": "2021-05-28T08:54:13.800315Z",
     "shell.execute_reply.started": "2021-05-28T08:54:13.794308Z"
    }
   },
   "outputs": [],
   "source": [
    "del_columns"
   ]
  },
  {
   "cell_type": "code",
   "execution_count": null,
   "metadata": {
    "execution": {
     "iopub.execute_input": "2021-05-28T08:54:13.803916Z",
     "iopub.status.busy": "2021-05-28T08:54:13.803455Z",
     "iopub.status.idle": "2021-05-28T08:54:14.224791Z",
     "shell.execute_reply": "2021-05-28T08:54:14.223784Z",
     "shell.execute_reply.started": "2021-05-28T08:54:13.80387Z"
    }
   },
   "outputs": [],
   "source": [
    "data.drop((del_columns), axis=1, inplace=True )\n",
    "data.drop('idx_df', axis=1, inplace=True )\n"
   ]
  },
  {
   "cell_type": "code",
   "execution_count": null,
   "metadata": {
    "execution": {
     "iopub.execute_input": "2021-05-28T08:54:14.227191Z",
     "iopub.status.busy": "2021-05-28T08:54:14.226754Z",
     "iopub.status.idle": "2021-05-28T08:54:16.007356Z",
     "shell.execute_reply": "2021-05-28T08:54:16.006258Z",
     "shell.execute_reply.started": "2021-05-28T08:54:14.227148Z"
    },
    "papermill": {
     "duration": 0.071275,
     "end_time": "2020-10-26T12:47:03.754",
     "exception": false,
     "start_time": "2020-10-26T12:47:03.682725",
     "status": "completed"
    },
    "tags": []
   },
   "outputs": [],
   "source": [
    "y = data.query('sample == 1')['price']\n",
    "X = data.query('sample == 1').drop(['sample'], axis=1)\n",
    "X = X.drop(['price'], axis=1)\n",
    "X_sub = data.query('sample == 0').drop(['sample'], axis=1)\n",
    "X_sub = X_sub.drop(['price'], axis=1)"
   ]
  },
  {
   "cell_type": "markdown",
   "metadata": {
    "papermill": {
     "duration": 0.035737,
     "end_time": "2020-10-26T12:47:03.826552",
     "exception": false,
     "start_time": "2020-10-26T12:47:03.790815",
     "status": "completed"
    },
    "tags": []
   },
   "source": [
    "## Train Split"
   ]
  },
  {
   "cell_type": "code",
   "execution_count": null,
   "metadata": {
    "execution": {
     "iopub.execute_input": "2021-05-28T08:54:16.009592Z",
     "iopub.status.busy": "2021-05-28T08:54:16.009189Z",
     "iopub.status.idle": "2021-05-28T08:54:16.347514Z",
     "shell.execute_reply": "2021-05-28T08:54:16.346636Z",
     "shell.execute_reply.started": "2021-05-28T08:54:16.009556Z"
    },
    "papermill": {
     "duration": 0.059208,
     "end_time": "2020-10-26T12:47:03.923564",
     "exception": false,
     "start_time": "2020-10-26T12:47:03.864356",
     "status": "completed"
    },
    "tags": []
   },
   "outputs": [],
   "source": [
    "X_train, X_test, y_train, y_test = train_test_split(X, y, test_size=VAL_SIZE, shuffle=True, random_state=RANDOM_SEED)"
   ]
  },
  {
   "cell_type": "markdown",
   "metadata": {},
   "source": [
    "# **Простые модели**"
   ]
  },
  {
   "cell_type": "markdown",
   "metadata": {},
   "source": [
    "# Model 1: Создадим \"наивную\" модель \n",
    "Эта модель будет предсказывать среднюю цену по модели двигателя (engineDisplacement). \n",
    "C ней будем сравнивать другие модели.\n",
    "\n",
    "\n"
   ]
  },
  {
   "cell_type": "code",
   "execution_count": null,
   "metadata": {
    "execution": {
     "iopub.execute_input": "2021-05-28T08:54:16.349593Z",
     "iopub.status.busy": "2021-05-28T08:54:16.349161Z",
     "iopub.status.idle": "2021-05-28T08:54:16.355519Z",
     "shell.execute_reply": "2021-05-28T08:54:16.354643Z",
     "shell.execute_reply.started": "2021-05-28T08:54:16.349543Z"
    }
   },
   "outputs": [],
   "source": [
    "def print_report(start, y_test, y_pred):\n",
    "    print('\\nВремя выполнения - ', datetime.now() - start)\n",
    "    print(f\"Точность модели по метрике MAPE:{(mape(y_test, y_pred))*100:0.2f}%\")"
   ]
  },
  {
   "cell_type": "code",
   "execution_count": null,
   "metadata": {
    "execution": {
     "iopub.execute_input": "2021-05-28T08:54:16.357185Z",
     "iopub.status.busy": "2021-05-28T08:54:16.356908Z",
     "iopub.status.idle": "2021-05-28T08:54:16.415945Z",
     "shell.execute_reply": "2021-05-28T08:54:16.414857Z",
     "shell.execute_reply.started": "2021-05-28T08:54:16.357158Z"
    }
   },
   "outputs": [],
   "source": [
    "tmp_train = X_train.copy()\n",
    "tmp_train['price'] = y_train"
   ]
  },
  {
   "cell_type": "code",
   "execution_count": null,
   "metadata": {
    "execution": {
     "iopub.execute_input": "2021-05-28T08:54:16.41829Z",
     "iopub.status.busy": "2021-05-28T08:54:16.417807Z",
     "iopub.status.idle": "2021-05-28T08:54:16.432935Z",
     "shell.execute_reply": "2021-05-28T08:54:16.431768Z",
     "shell.execute_reply.started": "2021-05-28T08:54:16.418242Z"
    }
   },
   "outputs": [],
   "source": [
    "start = datetime.now()\n",
    "# Находим median по экземплярам engineDisplacement в трейне и размечаем тест\n",
    "predict = X_test['engineDisplacement'].map(tmp_train.groupby('engineDisplacement')['price'].median())\n",
    "\n",
    "#оцениваем точность\n",
    "print_report(start, y_test, predict)"
   ]
  },
  {
   "cell_type": "markdown",
   "metadata": {
    "papermill": {
     "duration": 0.037164,
     "end_time": "2020-10-26T12:47:03.997616",
     "exception": false,
     "start_time": "2020-10-26T12:47:03.960452",
     "status": "completed"
    },
    "tags": []
   },
   "source": [
    "# Model 2 : CatBoost\n",
    "\n",
    "У нас в данных практически все признаки категориальные. Специально для работы с такими данными была создана очень удобная библиотека CatBoost от Яндекса. [https://catboost.ai](http://)     \n",
    "На данный момент **CatBoost является одной из лучших библиотек для табличных данных!**\n",
    "\n",
    "#### Полезные видео о CatBoost (на русском):\n",
    "* [Доклад про CatBoost](https://youtu.be/9ZrfErvm97M)\n",
    "* [Свежий Туториал от команды CatBoost (практическая часть)](https://youtu.be/wQt4kgAOgV0) "
   ]
  },
  {
   "cell_type": "code",
   "execution_count": null,
   "metadata": {
    "execution": {
     "iopub.execute_input": "2021-05-28T08:54:16.434727Z",
     "iopub.status.busy": "2021-05-28T08:54:16.434346Z",
     "iopub.status.idle": "2021-05-28T08:55:52.792034Z",
     "shell.execute_reply": "2021-05-28T08:55:52.790671Z",
     "shell.execute_reply.started": "2021-05-28T08:54:16.434681Z"
    },
    "papermill": {
     "duration": 67.991521,
     "end_time": "2020-10-26T12:48:12.178488",
     "exception": false,
     "start_time": "2020-10-26T12:47:04.186967",
     "status": "completed"
    },
    "tags": []
   },
   "outputs": [],
   "source": [
    "start = datetime.now()\n",
    "model = CatBoostRegressor(iterations = 5000,\n",
    "                          random_seed = RANDOM_SEED,\n",
    "                          eval_metric='MAPE',\n",
    "                          custom_metric=['R2', 'MAE'],\n",
    "                          silent=True,\n",
    "                         )\n",
    "model.fit(X_train, y_train,\n",
    "         #cat_features=cat_features_ids,\n",
    "         eval_set=(X_test, y_test),\n",
    "         verbose_eval=0,\n",
    "         use_best_model=True,\n",
    "         #plot=True\n",
    "         )\n",
    "\n",
    "model.save_model('catboost_single_model_2CB_baseline.model')"
   ]
  },
  {
   "cell_type": "code",
   "execution_count": null,
   "metadata": {
    "execution": {
     "iopub.execute_input": "2021-05-28T08:55:52.79447Z",
     "iopub.status.busy": "2021-05-28T08:55:52.793951Z",
     "iopub.status.idle": "2021-05-28T08:55:52.802798Z",
     "shell.execute_reply": "2021-05-28T08:55:52.801658Z",
     "shell.execute_reply.started": "2021-05-28T08:55:52.794422Z"
    }
   },
   "outputs": [],
   "source": [
    "# оцениваем точность\n",
    "'''predict = model.predict(X_test)\n",
    "print_report(start, y_test, predict)'''\n",
    "\n",
    "# Время выполнения -  0:02:14.354510\n",
    "# Точность модели по метрике MAPE:24.04%"
   ]
  },
  {
   "cell_type": "markdown",
   "metadata": {},
   "source": [
    "### Log Traget\n",
    "Попробуем взять таргет в логорифм - это позволит уменьшить влияние выбросов на обучение модели (используем для этого np.log и np.exp).    \n",
    "В принциепе мы можем использовать любое приобразование на целевую переменную. Например деление на курс доллара, евро или гречки :) в дату сбора данных, смотрим дату парсинга в тесте в **parsing_unixtime**"
   ]
  },
  {
   "cell_type": "code",
   "execution_count": null,
   "metadata": {
    "execution": {
     "iopub.execute_input": "2021-05-28T08:55:52.805042Z",
     "iopub.status.busy": "2021-05-28T08:55:52.804588Z",
     "iopub.status.idle": "2021-05-28T08:55:52.818546Z",
     "shell.execute_reply": "2021-05-28T08:55:52.817289Z",
     "shell.execute_reply.started": "2021-05-28T08:55:52.805003Z"
    }
   },
   "outputs": [],
   "source": [
    "#np.log(y_train)"
   ]
  },
  {
   "cell_type": "code",
   "execution_count": null,
   "metadata": {
    "execution": {
     "iopub.execute_input": "2021-05-28T08:55:52.820472Z",
     "iopub.status.busy": "2021-05-28T08:55:52.82001Z",
     "iopub.status.idle": "2021-05-28T08:57:19.976106Z",
     "shell.execute_reply": "2021-05-28T08:57:19.9751Z",
     "shell.execute_reply.started": "2021-05-28T08:55:52.820437Z"
    }
   },
   "outputs": [],
   "source": [
    "start = datetime.now()\n",
    "cat_boost = CatBoostRegressor(iterations = 4500,\n",
    "                          random_seed = RANDOM_SEED,\n",
    "                          eval_metric='MAPE',\n",
    "                          custom_metric=['R2', 'MAE'],\n",
    "                          silent=True\n",
    "                         )\n",
    "cat_boost.fit(X_train, np.log(y_train),\n",
    "         eval_set=(X_test, np.log(y_test)),\n",
    "         verbose_eval=0,\n",
    "         use_best_model=True,)\n",
    "\n",
    "model.save_model('catboost_single_model_3_baseline.model')"
   ]
  },
  {
   "cell_type": "code",
   "execution_count": null,
   "metadata": {
    "execution": {
     "iopub.execute_input": "2021-05-28T08:57:19.977888Z",
     "iopub.status.busy": "2021-05-28T08:57:19.977416Z",
     "iopub.status.idle": "2021-05-28T08:57:20.141775Z",
     "shell.execute_reply": "2021-05-28T08:57:20.140388Z",
     "shell.execute_reply.started": "2021-05-28T08:57:19.977857Z"
    }
   },
   "outputs": [],
   "source": [
    "predict_test = np.exp(cat_boost.predict(X_test))\n",
    "#predict_submission = np.exp(model.predict(X_sub))\n",
    "print_report(start, y_test, predict_test)\n",
    "\n",
    "# Время выполнения -  0:02:02.781851\n",
    "# Точность модели по метрике MAPE:17.00%"
   ]
  },
  {
   "cell_type": "markdown",
   "metadata": {},
   "source": [
    "# Model 3 : Random Forest"
   ]
  },
  {
   "cell_type": "code",
   "execution_count": null,
   "metadata": {
    "execution": {
     "iopub.execute_input": "2021-05-28T08:57:20.144035Z",
     "iopub.status.busy": "2021-05-28T08:57:20.14356Z",
     "iopub.status.idle": "2021-05-28T08:57:20.151696Z",
     "shell.execute_reply": "2021-05-28T08:57:20.150657Z",
     "shell.execute_reply.started": "2021-05-28T08:57:20.143979Z"
    }
   },
   "outputs": [],
   "source": [
    "#start = datetime.now()\n",
    "# Поиск наилучших параметров. Закомментирован для экономии времени\n",
    "'''random_grid = {'n_estimators': [int(x) for x in np.linspace(start = 100, stop = 400, num = 4)],\n",
    "               'max_features': ['auto', 'sqrt'],\n",
    "               'max_depth': [int(x) for x in np.linspace(5, 15, num = 6)] + [None],\n",
    "               'min_samples_split': [2, 5, 10],\n",
    "               'min_samples_leaf': [1, 2, 4],\n",
    "               'bootstrap': [True, False]}\n",
    "\n",
    "rfr = RandomForestRegressor(bootstrap=False, max_features='sqrt',\n",
    "                      min_samples_split=10, n_estimators=300, random_state=42)\n",
    "                      rf_random = RandomizedSearchCV(estimator = rfr, param_distributions = random_grid,\n",
    "                      n_iter = 100, cv = 3, verbose=10, random_state=RANDOM_SEED, n_jobs = -1)\n",
    "rf_random.fit(X_train, np.log(y_train))\n",
    "rf_random.best_params_'''"
   ]
  },
  {
   "cell_type": "code",
   "execution_count": null,
   "metadata": {
    "execution": {
     "iopub.execute_input": "2021-05-28T08:57:20.153674Z",
     "iopub.status.busy": "2021-05-28T08:57:20.153361Z",
     "iopub.status.idle": "2021-05-28T08:57:20.1753Z",
     "shell.execute_reply": "2021-05-28T08:57:20.173625Z",
     "shell.execute_reply.started": "2021-05-28T08:57:20.153646Z"
    }
   },
   "outputs": [],
   "source": [
    "#rf_random.best_params_"
   ]
  },
  {
   "cell_type": "code",
   "execution_count": null,
   "metadata": {
    "execution": {
     "iopub.execute_input": "2021-05-28T08:57:20.177018Z",
     "iopub.status.busy": "2021-05-28T08:57:20.176663Z",
     "iopub.status.idle": "2021-05-28T08:57:20.190566Z",
     "shell.execute_reply": "2021-05-28T08:57:20.189478Z",
     "shell.execute_reply.started": "2021-05-28T08:57:20.176988Z"
    }
   },
   "outputs": [],
   "source": [
    "#best_rfr = rf_random.best_estimator_"
   ]
  },
  {
   "cell_type": "code",
   "execution_count": null,
   "metadata": {
    "execution": {
     "iopub.execute_input": "2021-05-28T08:57:20.192726Z",
     "iopub.status.busy": "2021-05-28T08:57:20.192266Z",
     "iopub.status.idle": "2021-05-28T08:57:20.207631Z",
     "shell.execute_reply": "2021-05-28T08:57:20.206432Z",
     "shell.execute_reply.started": "2021-05-28T08:57:20.192678Z"
    }
   },
   "outputs": [],
   "source": [
    "'''best_rfr = RandomForestRegressor(random_state=RANDOM_SEED\n",
    "                      , n_estimators=200\n",
    "                      , min_samples_split=2\n",
    "                      , min_samples_leaf=2\n",
    "                      , max_features='auto'\n",
    "                      , max_depth=None\n",
    "                      , bootstrap=False\n",
    "                      , n_jobs=-1)\n",
    "\n",
    "best_rfr.fit(X_train, np.log(y_train))\n",
    "\n",
    "\n",
    "predict_rfr = np.exp(best_rfr.predict(X_test))\n",
    "print_report(start, y_test, predict_rfr)'''\n",
    "\n",
    "#Время выполнения -  0:17:37.642517\n",
    "#Точность модели по метрике MAPE:25.96%"
   ]
  },
  {
   "cell_type": "code",
   "execution_count": null,
   "metadata": {
    "execution": {
     "iopub.execute_input": "2021-05-28T08:57:20.210062Z",
     "iopub.status.busy": "2021-05-28T08:57:20.209586Z",
     "iopub.status.idle": "2021-05-28T08:57:20.220856Z",
     "shell.execute_reply": "2021-05-28T08:57:20.219721Z",
     "shell.execute_reply.started": "2021-05-28T08:57:20.210016Z"
    }
   },
   "outputs": [],
   "source": [
    "#model = best_rfr"
   ]
  },
  {
   "cell_type": "code",
   "execution_count": null,
   "metadata": {
    "execution": {
     "iopub.execute_input": "2021-05-28T08:57:20.222955Z",
     "iopub.status.busy": "2021-05-28T08:57:20.22247Z",
     "iopub.status.idle": "2021-05-28T08:57:20.235205Z",
     "shell.execute_reply": "2021-05-28T08:57:20.233985Z",
     "shell.execute_reply.started": "2021-05-28T08:57:20.222909Z"
    }
   },
   "outputs": [],
   "source": [
    "#predict_test = np.exp(model.predict(X_test))\n",
    "#predict_submission = np.exp(model.predict(X_sub))"
   ]
  },
  {
   "cell_type": "code",
   "execution_count": null,
   "metadata": {
    "execution": {
     "iopub.execute_input": "2021-05-28T08:57:20.237196Z",
     "iopub.status.busy": "2021-05-28T08:57:20.236806Z",
     "iopub.status.idle": "2021-05-28T08:57:20.252756Z",
     "shell.execute_reply": "2021-05-28T08:57:20.251458Z",
     "shell.execute_reply.started": "2021-05-28T08:57:20.237164Z"
    }
   },
   "outputs": [],
   "source": [
    "type(sample_submission['price'][8])"
   ]
  },
  {
   "cell_type": "markdown",
   "metadata": {},
   "source": [
    "# Model 4: Gradient Boosting"
   ]
  },
  {
   "cell_type": "code",
   "execution_count": null,
   "metadata": {
    "execution": {
     "iopub.execute_input": "2021-05-28T08:57:20.255284Z",
     "iopub.status.busy": "2021-05-28T08:57:20.254738Z",
     "iopub.status.idle": "2021-05-28T08:57:20.267705Z",
     "shell.execute_reply": "2021-05-28T08:57:20.266784Z",
     "shell.execute_reply.started": "2021-05-28T08:57:20.255235Z"
    }
   },
   "outputs": [],
   "source": [
    "start = datetime.now()\n",
    "\n",
    "'''random_grid = {'n_estimators': [int(x) for x in np.linspace(start = 100, stop = 400, num = 8)],\n",
    "               'max_features': ['auto', 'sqrt', 'log2'],\n",
    "               'max_depth': [int(x) for x in np.linspace(5, 15, num = 6)] + [None],\n",
    "               'min_samples_split': [2, 5, 10],\n",
    "               'min_samples_leaf': [1, 2, 4]}'''"
   ]
  },
  {
   "cell_type": "code",
   "execution_count": null,
   "metadata": {
    "execution": {
     "iopub.execute_input": "2021-05-28T08:57:20.269543Z",
     "iopub.status.busy": "2021-05-28T08:57:20.269231Z",
     "iopub.status.idle": "2021-05-28T08:57:20.287208Z",
     "shell.execute_reply": "2021-05-28T08:57:20.286042Z",
     "shell.execute_reply.started": "2021-05-28T08:57:20.269514Z"
    }
   },
   "outputs": [],
   "source": [
    "# Поиск наилучших параметров. Закомментирован для экономии времени\n",
    "'''gbr = GradientBoostingRegressor()\n",
    "gbr_random = RandomizedSearchCV(estimator = gbr, param_distributions = random_grid, n_iter = 100,\n",
    "                                cv = 3, verbose=10, random_state=RANDOM_SEED, n_jobs = -1)\n",
    "gbr_random.fit(X_train, np.log(y_train))\n",
    "gbr_random.best_params_'''"
   ]
  },
  {
   "cell_type": "code",
   "execution_count": null,
   "metadata": {
    "execution": {
     "iopub.execute_input": "2021-05-28T08:57:20.288854Z",
     "iopub.status.busy": "2021-05-28T08:57:20.288527Z",
     "iopub.status.idle": "2021-05-28T08:57:20.304902Z",
     "shell.execute_reply": "2021-05-28T08:57:20.303571Z",
     "shell.execute_reply.started": "2021-05-28T08:57:20.288813Z"
    }
   },
   "outputs": [],
   "source": [
    "'''best_gbr = GradientBoostingRegressor(random_state=RANDOM_SEED\n",
    "                      , n_estimators=314\n",
    "                      , min_samples_split=2\n",
    "                      , min_samples_leaf=2\n",
    "                      , max_features='auto'\n",
    "                      , max_depth=5)'''"
   ]
  },
  {
   "cell_type": "code",
   "execution_count": null,
   "metadata": {
    "execution": {
     "iopub.execute_input": "2021-05-28T08:57:20.307121Z",
     "iopub.status.busy": "2021-05-28T08:57:20.306681Z",
     "iopub.status.idle": "2021-05-28T08:57:20.319725Z",
     "shell.execute_reply": "2021-05-28T08:57:20.318568Z",
     "shell.execute_reply.started": "2021-05-28T08:57:20.307077Z"
    }
   },
   "outputs": [],
   "source": [
    "'''best_gbr.fit(X_train, np.log(y_train))\n",
    "\n",
    "predict_gbr = np.exp(best_gbr.predict(X_test))\n",
    "print_report(start, y_test, predict_gbr)\n",
    "\n",
    "# Время выполнения -  0:12:52.015573\n",
    "# Точность модели по метрике MAPE:19.08%'''"
   ]
  },
  {
   "cell_type": "markdown",
   "metadata": {},
   "source": [
    "# Model 5: XGB"
   ]
  },
  {
   "cell_type": "code",
   "execution_count": null,
   "metadata": {
    "execution": {
     "iopub.execute_input": "2021-05-28T08:57:20.322293Z",
     "iopub.status.busy": "2021-05-28T08:57:20.321723Z",
     "iopub.status.idle": "2021-05-28T08:57:20.33461Z",
     "shell.execute_reply": "2021-05-28T08:57:20.333512Z",
     "shell.execute_reply.started": "2021-05-28T08:57:20.322245Z"
    }
   },
   "outputs": [],
   "source": [
    "'''start = datetime.now()\n",
    "\n",
    "xgb_reg = xgb.XGBRegressor(objective='reg:squarederror', colsample_bytree=0.5,\n",
    "                          learning_rate=0.05, max_depth=12, alpha=1, n_jobs=-1,\n",
    "                          n_estimators=1000)\n",
    "xgb_reg.fit(X_train, np.log(y_train))\n",
    "xgb_red_pred = np.exp(xgb_reg.predict(X_test))\n",
    "print_report(start, y_test, xgb_red_pred)\n",
    "\n",
    "#Время выполнения -  1:00:55.337852\n",
    "#Точность модели по метрике MAPE:16.24%'''"
   ]
  },
  {
   "cell_type": "markdown",
   "metadata": {},
   "source": [
    "# Выводы\n",
    "Всего были опробованы следующие модели:\n",
    "\n",
    "- Linear Regression\n",
    "- Random Forest Regressor\n",
    "- Decision Tree Regressor\n",
    "- AdaBoost\n",
    "- XGBoost\n",
    "- CatBoost\n",
    "- GradientBoosting\n",
    "\n",
    "Лучшие результаты получены с CatBoost, XGBoost, несколько хуже с GradientBoosting"
   ]
  },
  {
   "cell_type": "markdown",
   "metadata": {},
   "source": [
    "# **Ансамбли**"
   ]
  },
  {
   "cell_type": "markdown",
   "metadata": {},
   "source": [
    "# Model 6: Bagging"
   ]
  },
  {
   "cell_type": "code",
   "execution_count": null,
   "metadata": {
    "execution": {
     "iopub.execute_input": "2021-05-28T08:57:20.336661Z",
     "iopub.status.busy": "2021-05-28T08:57:20.336316Z",
     "iopub.status.idle": "2021-05-28T08:57:20.350269Z",
     "shell.execute_reply": "2021-05-28T08:57:20.348951Z",
     "shell.execute_reply.started": "2021-05-28T08:57:20.336632Z"
    }
   },
   "outputs": [],
   "source": [
    "# Bagging с Random Forest регрессором\n",
    "'''start = datetime.now()\n",
    "\n",
    "bagg_rfr = BaggingRegressor(best_rfr, n_estimators=3, n_jobs=-1, random_state=RANDOM_SEED)\n",
    "bagg_rfr.fit(X_train, np.log(y_train))\n",
    "predict_bagg_rfr = np.exp(bagg_rfr.predict(X_test))\n",
    "print_report(start, y_test, predict_bagg_rfr)'''\n",
    "\n",
    "# Время выполнения -  0:35:26.661721\n",
    "# Точность модели по метрике MAPE:21.69%"
   ]
  },
  {
   "cell_type": "code",
   "execution_count": null,
   "metadata": {
    "execution": {
     "iopub.execute_input": "2021-05-28T08:57:20.352632Z",
     "iopub.status.busy": "2021-05-28T08:57:20.352143Z",
     "iopub.status.idle": "2021-05-28T08:57:20.369219Z",
     "shell.execute_reply": "2021-05-28T08:57:20.368161Z",
     "shell.execute_reply.started": "2021-05-28T08:57:20.352597Z"
    }
   },
   "outputs": [],
   "source": [
    "# Bagging с Gradient Boosting Regressor\n",
    "'''start = datetime.now()\n",
    "\n",
    "bagg_gbr = BaggingRegressor(best_gbr, n_estimators=3, n_jobs=-1, random_state=RANDOM_SEED)\n",
    "bagg_gbr.fit(X_train, np.log(y_train))\n",
    "predict_bagg_gbr = np.exp(bagg_gbr.predict(X_test))\n",
    "print_report(start, y_test, predict_bagg_gbr)'''\n",
    "\n",
    "# Время выполнения -  0:21:17.588537\n",
    "# Точность модели по метрике MAPE:19.59%\n",
    "# Время выполнения -  0:10:35.655910\n",
    "# Точность модели по метрике MAPE:18.97%"
   ]
  },
  {
   "cell_type": "code",
   "execution_count": null,
   "metadata": {
    "execution": {
     "iopub.execute_input": "2021-05-28T08:57:20.371452Z",
     "iopub.status.busy": "2021-05-28T08:57:20.370686Z",
     "iopub.status.idle": "2021-05-28T08:57:20.382101Z",
     "shell.execute_reply": "2021-05-28T08:57:20.381135Z",
     "shell.execute_reply.started": "2021-05-28T08:57:20.371419Z"
    }
   },
   "outputs": [],
   "source": [
    "# Bagging с XGB регрессором\n",
    "'''start = datetime.now()\n",
    "\n",
    "bagg_xgb = BaggingRegressor(xgb_reg, n_estimators=3, n_jobs=-1, random_state=RANDOM_SEED)\n",
    "bagg_xgb.fit(X_train, np.log(y_train))\n",
    "predict_bagg_xgb = np.exp(bagg_xgb.predict(X_test))\n",
    "print_report(start, y_test, predict_bagg_xgb)'''"
   ]
  },
  {
   "cell_type": "code",
   "execution_count": null,
   "metadata": {
    "execution": {
     "iopub.execute_input": "2021-05-28T08:57:20.384453Z",
     "iopub.status.busy": "2021-05-28T08:57:20.384115Z",
     "iopub.status.idle": "2021-05-28T08:57:20.396303Z",
     "shell.execute_reply": "2021-05-28T08:57:20.395144Z",
     "shell.execute_reply.started": "2021-05-28T08:57:20.384424Z"
    }
   },
   "outputs": [],
   "source": [
    "len(X_test)"
   ]
  },
  {
   "cell_type": "markdown",
   "metadata": {},
   "source": [
    "# Model 7: Stacking"
   ]
  },
  {
   "cell_type": "code",
   "execution_count": null,
   "metadata": {
    "execution": {
     "iopub.execute_input": "2021-05-28T08:57:20.398Z",
     "iopub.status.busy": "2021-05-28T08:57:20.397684Z",
     "iopub.status.idle": "2021-05-28T08:57:20.410654Z",
     "shell.execute_reply": "2021-05-28T08:57:20.409464Z",
     "shell.execute_reply.started": "2021-05-28T08:57:20.397969Z"
    }
   },
   "outputs": [],
   "source": [
    "'''start = datetime.now()\n",
    "estimators = [\n",
    "    ('cat_boost', CatBoostRegressor(random_seed=RANDOM_SEED,\n",
    "                                    eval_metric='MAPE',\n",
    "                                    iterations=4500,\n",
    "                                    l2_leaf_reg=4,\n",
    "                                    depth=7,\n",
    "                                    custom_metric=['MAE'],\n",
    "                                    loss_function='RMSE',\n",
    "                                    learning_rate=0.08,\n",
    "                                    verbose=1)\n",
    "    )\n",
    "    ('b_gbr', BaggingRegressor(GradientBoostingRegressor(random_state=RANDOM_SEED\n",
    "                                                                ,n_estimators=314\n",
    "                                                                ,min_samples_split=2\n",
    "                                                                ,min_samples_leaf=2\n",
    "                                                                ,max_features='auto'\n",
    "                                                                ,max_depth=5)\n",
    "                                                                ,n_estimators=3\n",
    "                                                                ,n_jobs=-1\n",
    "                                                                ,random_state=RANDOM_SEED))\n",
    "            ,('xgb', xgb.XGBRegressor(objective='reg:squarederror'\n",
    "                                      ,colsample_bytree=0.5\n",
    "                                      ,learning_rate=0.03\n",
    "                                      ,max_depth=12\n",
    "                                      ,alpha=1\n",
    "                                      ,n_estimators=1000))\n",
    "]\n",
    "\n",
    "stack_ensemble = StackingRegressor(\n",
    "    estimators=estimators,\n",
    "    verbose=10,\n",
    "    passthrough=True,\n",
    "    n_jobs=-1,\n",
    "    final_estimator=CatBoostRegressor(random_seed=RANDOM_SEED,\n",
    "                                    eval_metric='MAPE',\n",
    "                                    iterations=4500,\n",
    "                                    l2_leaf_reg=4,\n",
    "                                    depth=7,\n",
    "                                    custom_metric=['MAE'],\n",
    "                                    loss_function='RMSE',\n",
    "                                    learning_rate=0.08,\n",
    "                                    verbose=1)\n",
    ")\n",
    "\n",
    "stack_ensemble.fit(X_train, np.log(y_train))\n",
    "y_pred = np.exp(stack_ensemble.predict(X_test))\n",
    "\n",
    "print_report(start, y_test, y_pred)'''\n",
    "\n",
    "# Время выполнения -  6:39:02.674098\n",
    "# Точность модели по метрике MAPE:16.86%"
   ]
  },
  {
   "cell_type": "code",
   "execution_count": null,
   "metadata": {
    "execution": {
     "iopub.execute_input": "2021-05-28T08:57:20.414587Z",
     "iopub.status.busy": "2021-05-28T08:57:20.414288Z",
     "iopub.status.idle": "2021-05-28T08:57:20.42671Z",
     "shell.execute_reply": "2021-05-28T08:57:20.425597Z",
     "shell.execute_reply.started": "2021-05-28T08:57:20.414559Z"
    }
   },
   "outputs": [],
   "source": [
    "'''start = datetime.now()\n",
    "\n",
    "estimators=[('b_gbr', BaggingRegressor(GradientBoostingRegressor(random_state=RANDOM_SEED\n",
    "                                                                ,n_estimators=314\n",
    "                                                                ,min_samples_split=2\n",
    "                                                                ,min_samples_leaf=2\n",
    "                                                                ,max_features='auto'\n",
    "                                                                ,max_depth=5)\n",
    "                                                                ,n_estimators=3\n",
    "                                                                ,n_jobs=-1\n",
    "                                                                ,random_state=RANDOM_SEED))\n",
    "            ,('xgb', xgb.XGBRegressor(objective='reg:squarederror'\n",
    "                                      ,colsample_bytree=0.5\n",
    "                                      ,learning_rate=0.03\n",
    "                                      ,max_depth=11\n",
    "                                      ,alpha=1\n",
    "                                      ,n_estimators=1200))]\n",
    "\n",
    "st_ensemble = StackingRegressor(estimators=estimators\n",
    "                                ,final_estimator = CatBoostRegressor(iterations = 4500\n",
    "                                                                     ,random_seed = RANDOM_SEED\n",
    "                                                                     ,eval_metric='MAPE'\n",
    "                                                                     ,custom_metric=['MAE']\n",
    "                                                                     ,silent=True\n",
    "                                                                     ,learning_rate=0.11\n",
    "                                                                     ,depth=11\n",
    "                                                                     ,l2_leaf_reg=7\n",
    "                                                                     ,random_strength=0.2))\n",
    "\n",
    "    \n",
    "st_ensemble.fit(X_train, np.log(y_train))\n",
    "\n",
    "predict_submission = np.exp(st_ensemble.predict(X_test))\n",
    "print_report(start, y_test, predict_submission)'''\n",
    "\n",
    "# Время выполнения -  6:20:06.560627\n",
    "# Точность модели по метрике MAPE:17.11%\n",
    "\n",
    "# Время выполнения -  6:21:37.670115\n",
    "# Точность модели по метрике MAPE:17.10%"
   ]
  },
  {
   "cell_type": "code",
   "execution_count": null,
   "metadata": {
    "execution": {
     "iopub.execute_input": "2021-05-28T08:57:20.428541Z",
     "iopub.status.busy": "2021-05-28T08:57:20.42825Z",
     "iopub.status.idle": "2021-05-28T10:09:10.558168Z",
     "shell.execute_reply": "2021-05-28T10:09:10.556963Z",
     "shell.execute_reply.started": "2021-05-28T08:57:20.428514Z"
    }
   },
   "outputs": [],
   "source": [
    "start = datetime.now()\n",
    "estimators = [\n",
    "    ('cat_boost', CatBoostRegressor(random_seed=RANDOM_SEED,\n",
    "                                    eval_metric='MAPE',\n",
    "                                    iterations=4500,\n",
    "                                    l2_leaf_reg=4,\n",
    "                                    depth=7,\n",
    "                                    custom_metric=['MAE'],\n",
    "                                    loss_function='RMSE',\n",
    "                                    learning_rate=0.08,\n",
    "                                    verbose=1)\n",
    "    )\n",
    "\n",
    "]\n",
    "\n",
    "stack_ensemble = StackingRegressor(\n",
    "    estimators=estimators,\n",
    "    verbose=10,\n",
    "    passthrough=True,\n",
    "    n_jobs=-1,\n",
    "    final_estimator= xgb.XGBRegressor(objective='reg:squarederror',\n",
    "                                     colsample_bytree=0.5,\n",
    "                                     learning_rate=0.03,\n",
    "                                     max_depth=11,\n",
    "                                     alpha=1,\n",
    "                                     n_jobs=-1,\n",
    "                                     n_estimators=1100,\n",
    "                                     seed=RANDOM_SEED)\n",
    ")\n",
    "\n",
    "stack_ensemble.fit(X_train, np.log(y_train))\n",
    "y_pred = np.exp(stack_ensemble.predict(X_test))\n",
    "\n",
    "print_report(start, y_test, y_pred)\n",
    "\n",
    "# Время выполнения -  1:17:36.156442\n",
    "# Точность модели по метрике MAPE:16.61%\n",
    "\n",
    "# Время выполнения -  1:11:50.108188\n",
    "# Точность модели по метрике MAPE:15.99%"
   ]
  },
  {
   "cell_type": "markdown",
   "metadata": {
    "papermill": {
     "duration": 0.085876,
     "end_time": "2020-10-26T12:48:12.734207",
     "exception": false,
     "start_time": "2020-10-26T12:48:12.648331",
     "status": "completed"
    },
    "tags": []
   },
   "source": [
    "# Submission"
   ]
  },
  {
   "cell_type": "code",
   "execution_count": null,
   "metadata": {
    "execution": {
     "iopub.execute_input": "2021-05-28T10:09:10.56045Z",
     "iopub.status.busy": "2021-05-28T10:09:10.560116Z",
     "iopub.status.idle": "2021-05-28T10:09:11.350832Z",
     "shell.execute_reply": "2021-05-28T10:09:11.349568Z",
     "shell.execute_reply.started": "2021-05-28T10:09:10.560417Z"
    }
   },
   "outputs": [],
   "source": [
    "X_sub.head(3)"
   ]
  },
  {
   "cell_type": "code",
   "execution_count": null,
   "metadata": {
    "execution": {
     "iopub.execute_input": "2021-05-28T10:09:11.353063Z",
     "iopub.status.busy": "2021-05-28T10:09:11.352582Z",
     "iopub.status.idle": "2021-05-28T10:09:24.419127Z",
     "shell.execute_reply": "2021-05-28T10:09:24.417908Z",
     "shell.execute_reply.started": "2021-05-28T10:09:11.35302Z"
    }
   },
   "outputs": [],
   "source": [
    "#X_sub = scaler.transform(X_sub)\n",
    "predict_submission = np.exp(stack_ensemble.predict(X_sub))*0.8795125"
   ]
  },
  {
   "cell_type": "code",
   "execution_count": null,
   "metadata": {
    "execution": {
     "iopub.execute_input": "2021-05-28T10:09:24.421129Z",
     "iopub.status.busy": "2021-05-28T10:09:24.420782Z",
     "iopub.status.idle": "2021-05-28T10:09:25.004954Z",
     "shell.execute_reply": "2021-05-28T10:09:25.003784Z",
     "shell.execute_reply.started": "2021-05-28T10:09:24.421096Z"
    },
    "papermill": {
     "duration": 0.628302,
     "end_time": "2020-10-26T12:48:13.763488",
     "exception": false,
     "start_time": "2020-10-26T12:48:13.135186",
     "status": "completed"
    },
    "tags": []
   },
   "outputs": [],
   "source": [
    "sample_submission['price'] = predict_submission\n",
    "sample_submission.to_csv('sample_submission.csv', index=False)\n",
    "sample_submission.head(10)"
   ]
  },
  {
   "cell_type": "markdown",
   "metadata": {},
   "source": [
    "# Итоги и содержание работы\n",
    "- Проведен парсинг свежих данных с auto.ru\n",
    "- Произведен разведывательный анализ данных\n",
    "- Были созданы новые признаки\n",
    "- Была попытка учесть разницу в ценах на момент создания тестовой выборки.\n",
    "- Были подготовлены данные для использования в моделях машинного обучения\n",
    "- Проведены тестовые обучения на различных моделях\n",
    "- Подобраны оптимальные гиперпараметры для моделей\n",
    "- Был произведен экспериментальный подбор моделей для ансамблей Бэггинга и Стэкинга\n",
    "- Результаты загружены на Kaggle и GitHub\n"
   ]
  },
  {
   "cell_type": "markdown",
   "metadata": {},
   "source": [
    "# Выводы\n",
    "- наилучшие результаты на наших данных показали модели CatBoost, XGBoost и ансамбли с их использованием. При этом Bagging с однородными моделями не показал значительных улучшений предсказания."
   ]
  },
  {
   "cell_type": "markdown",
   "metadata": {},
   "source": [
    "Подробный чек лист: https://docs.google.com/spreadsheets/d/1I_ErM3U0Cs7Rs1obyZbIEGtVn-H47pHNCi4xdDgUmXY/edit?usp=sharing"
   ]
  }
 ],
 "metadata": {
  "kernelspec": {
   "display_name": "Python 3",
   "language": "python",
   "name": "python3"
  },
  "language_info": {
   "codemirror_mode": {
    "name": "ipython",
    "version": 3
   },
   "file_extension": ".py",
   "mimetype": "text/x-python",
   "name": "python",
   "nbconvert_exporter": "python",
   "pygments_lexer": "ipython3",
   "version": "3.8.8"
  }
 },
 "nbformat": 4,
 "nbformat_minor": 4
}
