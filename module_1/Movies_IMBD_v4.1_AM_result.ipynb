{
 "cells": [
  {
   "cell_type": "code",
   "execution_count": 57,
   "metadata": {
    "_cell_guid": "b1076dfc-b9ad-4769-8c92-a6c4dae69d19",
    "_uuid": "8f2839f25d086af736a60e9eeb907d3b93b6e0e5",
    "colab": {},
    "colab_type": "code",
    "id": "U2D2gTdJVp90"
   },
   "outputs": [],
   "source": [
    "import numpy as np\n",
    "import pandas as pd\n",
    "import seaborn as sns\n",
    "import matplotlib.pyplot as plt\n",
    "from collections import Counter\n",
    "from itertools import combinations"
   ]
  },
  {
   "cell_type": "code",
   "execution_count": 58,
   "metadata": {
    "_cell_guid": "79c7e3d0-c299-4dcb-8224-4455121ee9b0",
    "_uuid": "d629ff2d2480ee46fbb7e2d37f6b5fab8052498a",
    "colab": {},
    "colab_type": "code",
    "id": "oyGfxL3eVp9-"
   },
   "outputs": [
    {
     "data": {
      "text/html": [
       "<div>\n",
       "<style scoped>\n",
       "    .dataframe tbody tr th:only-of-type {\n",
       "        vertical-align: middle;\n",
       "    }\n",
       "\n",
       "    .dataframe tbody tr th {\n",
       "        vertical-align: top;\n",
       "    }\n",
       "\n",
       "    .dataframe thead th {\n",
       "        text-align: right;\n",
       "    }\n",
       "</style>\n",
       "<table border=\"1\" class=\"dataframe\">\n",
       "  <thead>\n",
       "    <tr style=\"text-align: right;\">\n",
       "      <th></th>\n",
       "      <th>imdb_id</th>\n",
       "      <th>budget</th>\n",
       "      <th>revenue</th>\n",
       "      <th>original_title</th>\n",
       "      <th>cast</th>\n",
       "      <th>director</th>\n",
       "      <th>tagline</th>\n",
       "      <th>overview</th>\n",
       "      <th>runtime</th>\n",
       "      <th>genres</th>\n",
       "      <th>production_companies</th>\n",
       "      <th>release_date</th>\n",
       "      <th>vote_average</th>\n",
       "      <th>release_year</th>\n",
       "    </tr>\n",
       "  </thead>\n",
       "  <tbody>\n",
       "    <tr>\n",
       "      <th>1418</th>\n",
       "      <td>tt0375210</td>\n",
       "      <td>10000000</td>\n",
       "      <td>91196419</td>\n",
       "      <td>White Noise</td>\n",
       "      <td>Michael Keaton|Chandra West|Deborah Kara Unger...</td>\n",
       "      <td>Geoffrey Sax</td>\n",
       "      <td>The line separating the living from the dead h...</td>\n",
       "      <td>An architect's desire to speak with his wife f...</td>\n",
       "      <td>101</td>\n",
       "      <td>Drama|Horror|Thriller</td>\n",
       "      <td>Universal Pictures|Brightlight Pictures|Endgam...</td>\n",
       "      <td>1/7/2005</td>\n",
       "      <td>5.5</td>\n",
       "      <td>2005</td>\n",
       "    </tr>\n",
       "    <tr>\n",
       "      <th>742</th>\n",
       "      <td>tt1133985</td>\n",
       "      <td>200000000</td>\n",
       "      <td>219851172</td>\n",
       "      <td>Green Lantern</td>\n",
       "      <td>Ryan Reynolds|Blake Lively|Peter Sarsgaard|Tim...</td>\n",
       "      <td>Martin Campbell</td>\n",
       "      <td>In our darkest hour, there will be light.</td>\n",
       "      <td>For centuries, a small but powerful force of w...</td>\n",
       "      <td>114</td>\n",
       "      <td>Adventure|Action|Thriller|Science Fiction</td>\n",
       "      <td>De Line Pictures|Warner Bros.|DC Entertainment</td>\n",
       "      <td>6/16/2011</td>\n",
       "      <td>5.1</td>\n",
       "      <td>2011</td>\n",
       "    </tr>\n",
       "    <tr>\n",
       "      <th>1888</th>\n",
       "      <td>tt0163676</td>\n",
       "      <td>15000000</td>\n",
       "      <td>5217498</td>\n",
       "      <td>The In Crowd</td>\n",
       "      <td>Susan Ward|Lori Heuring|Matthew Settle|Nathan ...</td>\n",
       "      <td>Mary Lambert</td>\n",
       "      <td>What would you do to get in?</td>\n",
       "      <td>A mentally disturbed young woman takes a job a...</td>\n",
       "      <td>105</td>\n",
       "      <td>Thriller</td>\n",
       "      <td>Warner Bros. Pictures</td>\n",
       "      <td>7/19/2000</td>\n",
       "      <td>5.2</td>\n",
       "      <td>2000</td>\n",
       "    </tr>\n",
       "    <tr>\n",
       "      <th>1634</th>\n",
       "      <td>tt0364751</td>\n",
       "      <td>19000000</td>\n",
       "      <td>69631118</td>\n",
       "      <td>Without a Paddle</td>\n",
       "      <td>Seth Green|Matthew Lillard|Dax Shepard|Antony ...</td>\n",
       "      <td>Steven Brill</td>\n",
       "      <td>The call of the wild, the thrill of adventure....</td>\n",
       "      <td>Three friends, whose lives have been drifting ...</td>\n",
       "      <td>95</td>\n",
       "      <td>Action|Adventure|Comedy|Thriller</td>\n",
       "      <td>Paramount Pictures|De Line Pictures</td>\n",
       "      <td>8/20/2004</td>\n",
       "      <td>5.2</td>\n",
       "      <td>2004</td>\n",
       "    </tr>\n",
       "    <tr>\n",
       "      <th>615</th>\n",
       "      <td>tt0373051</td>\n",
       "      <td>45000000</td>\n",
       "      <td>101702060</td>\n",
       "      <td>Journey to the Center of the Earth</td>\n",
       "      <td>Brendan Fraser|Josh Hutcherson|Anita Briem|Set...</td>\n",
       "      <td>Eric Brevig</td>\n",
       "      <td>Same Planet. Different World.</td>\n",
       "      <td>On a quest to find out what happened to his mi...</td>\n",
       "      <td>93</td>\n",
       "      <td>Action|Science Fiction|Adventure|Comedy|Family</td>\n",
       "      <td>New Line Cinema|Walden Media</td>\n",
       "      <td>7/10/2008</td>\n",
       "      <td>5.7</td>\n",
       "      <td>2008</td>\n",
       "    </tr>\n",
       "  </tbody>\n",
       "</table>\n",
       "</div>"
      ],
      "text/plain": [
       "        imdb_id     budget    revenue                      original_title  \\\n",
       "1418  tt0375210   10000000   91196419                         White Noise   \n",
       "742   tt1133985  200000000  219851172                       Green Lantern   \n",
       "1888  tt0163676   15000000    5217498                        The In Crowd   \n",
       "1634  tt0364751   19000000   69631118                    Without a Paddle   \n",
       "615   tt0373051   45000000  101702060  Journey to the Center of the Earth   \n",
       "\n",
       "                                                   cast         director  \\\n",
       "1418  Michael Keaton|Chandra West|Deborah Kara Unger...     Geoffrey Sax   \n",
       "742   Ryan Reynolds|Blake Lively|Peter Sarsgaard|Tim...  Martin Campbell   \n",
       "1888  Susan Ward|Lori Heuring|Matthew Settle|Nathan ...     Mary Lambert   \n",
       "1634  Seth Green|Matthew Lillard|Dax Shepard|Antony ...     Steven Brill   \n",
       "615   Brendan Fraser|Josh Hutcherson|Anita Briem|Set...      Eric Brevig   \n",
       "\n",
       "                                                tagline  \\\n",
       "1418  The line separating the living from the dead h...   \n",
       "742           In our darkest hour, there will be light.   \n",
       "1888                       What would you do to get in?   \n",
       "1634  The call of the wild, the thrill of adventure....   \n",
       "615                       Same Planet. Different World.   \n",
       "\n",
       "                                               overview  runtime  \\\n",
       "1418  An architect's desire to speak with his wife f...      101   \n",
       "742   For centuries, a small but powerful force of w...      114   \n",
       "1888  A mentally disturbed young woman takes a job a...      105   \n",
       "1634  Three friends, whose lives have been drifting ...       95   \n",
       "615   On a quest to find out what happened to his mi...       93   \n",
       "\n",
       "                                              genres  \\\n",
       "1418                           Drama|Horror|Thriller   \n",
       "742        Adventure|Action|Thriller|Science Fiction   \n",
       "1888                                        Thriller   \n",
       "1634                Action|Adventure|Comedy|Thriller   \n",
       "615   Action|Science Fiction|Adventure|Comedy|Family   \n",
       "\n",
       "                                   production_companies release_date  \\\n",
       "1418  Universal Pictures|Brightlight Pictures|Endgam...     1/7/2005   \n",
       "742      De Line Pictures|Warner Bros.|DC Entertainment    6/16/2011   \n",
       "1888                              Warner Bros. Pictures    7/19/2000   \n",
       "1634                Paramount Pictures|De Line Pictures    8/20/2004   \n",
       "615                        New Line Cinema|Walden Media    7/10/2008   \n",
       "\n",
       "      vote_average  release_year  \n",
       "1418           5.5          2005  \n",
       "742            5.1          2011  \n",
       "1888           5.2          2000  \n",
       "1634           5.2          2004  \n",
       "615            5.7          2008  "
      ]
     },
     "execution_count": 58,
     "metadata": {},
     "output_type": "execute_result"
    }
   ],
   "source": [
    "data = pd.read_csv('movie_bd_v5.csv')\n",
    "data.sample(5)"
   ]
  },
  {
   "cell_type": "code",
   "execution_count": 59,
   "metadata": {
    "colab": {},
    "colab_type": "code",
    "id": "CoYUnagMVp-C"
   },
   "outputs": [
    {
     "data": {
      "text/html": [
       "<div>\n",
       "<style scoped>\n",
       "    .dataframe tbody tr th:only-of-type {\n",
       "        vertical-align: middle;\n",
       "    }\n",
       "\n",
       "    .dataframe tbody tr th {\n",
       "        vertical-align: top;\n",
       "    }\n",
       "\n",
       "    .dataframe thead th {\n",
       "        text-align: right;\n",
       "    }\n",
       "</style>\n",
       "<table border=\"1\" class=\"dataframe\">\n",
       "  <thead>\n",
       "    <tr style=\"text-align: right;\">\n",
       "      <th></th>\n",
       "      <th>budget</th>\n",
       "      <th>revenue</th>\n",
       "      <th>runtime</th>\n",
       "      <th>vote_average</th>\n",
       "      <th>release_year</th>\n",
       "    </tr>\n",
       "  </thead>\n",
       "  <tbody>\n",
       "    <tr>\n",
       "      <th>count</th>\n",
       "      <td>1.889000e+03</td>\n",
       "      <td>1.889000e+03</td>\n",
       "      <td>1889.000000</td>\n",
       "      <td>1889.000000</td>\n",
       "      <td>1889.000000</td>\n",
       "    </tr>\n",
       "    <tr>\n",
       "      <th>mean</th>\n",
       "      <td>5.431083e+07</td>\n",
       "      <td>1.553653e+08</td>\n",
       "      <td>109.658549</td>\n",
       "      <td>6.140762</td>\n",
       "      <td>2007.860773</td>\n",
       "    </tr>\n",
       "    <tr>\n",
       "      <th>std</th>\n",
       "      <td>4.858721e+07</td>\n",
       "      <td>2.146698e+08</td>\n",
       "      <td>18.017041</td>\n",
       "      <td>0.764763</td>\n",
       "      <td>4.468841</td>\n",
       "    </tr>\n",
       "    <tr>\n",
       "      <th>min</th>\n",
       "      <td>5.000000e+06</td>\n",
       "      <td>2.033165e+06</td>\n",
       "      <td>63.000000</td>\n",
       "      <td>3.300000</td>\n",
       "      <td>2000.000000</td>\n",
       "    </tr>\n",
       "    <tr>\n",
       "      <th>25%</th>\n",
       "      <td>2.000000e+07</td>\n",
       "      <td>3.456058e+07</td>\n",
       "      <td>97.000000</td>\n",
       "      <td>5.600000</td>\n",
       "      <td>2004.000000</td>\n",
       "    </tr>\n",
       "    <tr>\n",
       "      <th>50%</th>\n",
       "      <td>3.800000e+07</td>\n",
       "      <td>8.361541e+07</td>\n",
       "      <td>107.000000</td>\n",
       "      <td>6.100000</td>\n",
       "      <td>2008.000000</td>\n",
       "    </tr>\n",
       "    <tr>\n",
       "      <th>75%</th>\n",
       "      <td>7.200000e+07</td>\n",
       "      <td>1.782626e+08</td>\n",
       "      <td>120.000000</td>\n",
       "      <td>6.600000</td>\n",
       "      <td>2012.000000</td>\n",
       "    </tr>\n",
       "    <tr>\n",
       "      <th>max</th>\n",
       "      <td>3.800000e+08</td>\n",
       "      <td>2.781506e+09</td>\n",
       "      <td>214.000000</td>\n",
       "      <td>8.100000</td>\n",
       "      <td>2015.000000</td>\n",
       "    </tr>\n",
       "  </tbody>\n",
       "</table>\n",
       "</div>"
      ],
      "text/plain": [
       "             budget       revenue      runtime  vote_average  release_year\n",
       "count  1.889000e+03  1.889000e+03  1889.000000   1889.000000   1889.000000\n",
       "mean   5.431083e+07  1.553653e+08   109.658549      6.140762   2007.860773\n",
       "std    4.858721e+07  2.146698e+08    18.017041      0.764763      4.468841\n",
       "min    5.000000e+06  2.033165e+06    63.000000      3.300000   2000.000000\n",
       "25%    2.000000e+07  3.456058e+07    97.000000      5.600000   2004.000000\n",
       "50%    3.800000e+07  8.361541e+07   107.000000      6.100000   2008.000000\n",
       "75%    7.200000e+07  1.782626e+08   120.000000      6.600000   2012.000000\n",
       "max    3.800000e+08  2.781506e+09   214.000000      8.100000   2015.000000"
      ]
     },
     "execution_count": 59,
     "metadata": {},
     "output_type": "execute_result"
    }
   ],
   "source": [
    "data.describe()"
   ]
  },
  {
   "cell_type": "markdown",
   "metadata": {
    "colab_type": "text",
    "id": "DTIt7ezGVp-G"
   },
   "source": [
    "# Предобработка"
   ]
  },
  {
   "cell_type": "code",
   "execution_count": 60,
   "metadata": {
    "colab": {},
    "colab_type": "code",
    "id": "jNb40DwKVp-H"
   },
   "outputs": [],
   "source": [
    "answers = {} # создадим словарь для ответов\n",
    "\n",
    "# тут другие ваши предобработки колонок например:\n",
    "\n",
    "#the time given in the dataset is in string format.\n",
    "#So we need to change this in datetime format\n",
    "# ..."
   ]
  },
  {
   "cell_type": "markdown",
   "metadata": {
    "colab_type": "text",
    "id": "YxZaH-nPVp-L"
   },
   "source": [
    "# 1. У какого фильма из списка самый большой бюджет?"
   ]
  },
  {
   "cell_type": "markdown",
   "metadata": {
    "colab_type": "text",
    "id": "Nd-G5gX6Vp-M"
   },
   "source": [
    "Использовать варианты ответов в коде решения запрещено.    \n",
    "Вы думаете и в жизни у вас будут варианты ответов?)"
   ]
  },
  {
   "cell_type": "code",
   "execution_count": 61,
   "metadata": {
    "colab": {},
    "colab_type": "code",
    "id": "uVnXAY5RVp-O"
   },
   "outputs": [],
   "source": [
    "# в словарь вставляем номер вопроса и ваш ответ на него\n",
    "# Пример: \n",
    "answers['1'] = '2. Spider-Man 3 (tt0413300)'\n",
    "# запишите свой вариант ответа\n",
    "answers['1'] = '...'\n",
    "# если ответили верно, можете добавить комментарий со значком \"+\""
   ]
  },
  {
   "cell_type": "code",
   "execution_count": 62,
   "metadata": {
    "colab": {},
    "colab_type": "code",
    "id": "dZwb3m28Vp-S"
   },
   "outputs": [],
   "source": [
    "# тут пишем ваш код для решения данного вопроса:\n",
    "\n",
    "# находим строку с максимальным бюджетом, Записываем название в словарь answers под номером 1.\n",
    "answers['1'] = str(data[data.budget == data.budget.max()]['original_title'])"
   ]
  },
  {
   "cell_type": "markdown",
   "metadata": {
    "colab_type": "text",
    "id": "K7L3nbRXVp-X"
   },
   "source": [
    "ВАРИАНТ 2"
   ]
  },
  {
   "cell_type": "code",
   "execution_count": 63,
   "metadata": {
    "colab": {},
    "colab_type": "code",
    "id": "OGaoQI7rVp-X"
   },
   "outputs": [],
   "source": [
    "# можно добавлять разные варианты решения"
   ]
  },
  {
   "cell_type": "code",
   "execution_count": 64,
   "metadata": {},
   "outputs": [],
   "source": [
    "# перезаписываем название в словарь answers под номером 1, в формате примера:\n",
    "# answers['1'] = '2. Spider-Man 3 (tt0413300)' - номер ответа + строка: название и imdb_id в скобках.\n",
    "\n",
    "answers['1'] = str(data.original_title[data.budget.idxmax()]\n",
    "                + ' (' + data.imdb_id[data.budget.idxmax()] +')')"
   ]
  },
  {
   "cell_type": "markdown",
   "metadata": {
    "colab_type": "text",
    "id": "FNRbbI3vVp-c"
   },
   "source": [
    "# 2. Какой из фильмов самый длительный (в минутах)?"
   ]
  },
  {
   "cell_type": "code",
   "execution_count": 65,
   "metadata": {
    "colab": {},
    "colab_type": "code",
    "id": "vHAoEXNTVp-d"
   },
   "outputs": [],
   "source": [
    "# определяем строку с максимальным значением runtime, беркм название imdb_id,\n",
    "# и записываем в формате примера.\n",
    "answers['2'] = (str(data.original_title[data.runtime.idxmax()]\n",
    "                    + ' (' + data.imdb_id[data.runtime.idxmax()] +')'))"
   ]
  },
  {
   "cell_type": "markdown",
   "metadata": {
    "colab_type": "text",
    "id": "bapLlpW8Vp-k"
   },
   "source": [
    "# 3. Какой из фильмов самый короткий (в минутах)?\n",
    "\n",
    "\n",
    "\n"
   ]
  },
  {
   "cell_type": "code",
   "execution_count": 67,
   "metadata": {
    "colab": {},
    "colab_type": "code",
    "id": "YBxaSHuAVp-l"
   },
   "outputs": [],
   "source": [
    "# аналогично заданию 2.\n",
    "answers['3'] = (str(data.original_title[data.runtime.idxmin()]\n",
    "                    + ' (' + data.imdb_id[data.runtime.idxmin()] +')'))"
   ]
  },
  {
   "cell_type": "markdown",
   "metadata": {
    "colab_type": "text",
    "id": "TfQbxbfNVp-p"
   },
   "source": [
    "# 4. Какова средняя длительность фильмов?\n"
   ]
  },
  {
   "cell_type": "code",
   "execution_count": 69,
   "metadata": {
    "colab": {},
    "colab_type": "code",
    "id": "5K6dKZYVVp-q"
   },
   "outputs": [],
   "source": [
    "answers['4'] = round(data.runtime.mean())"
   ]
  },
  {
   "cell_type": "markdown",
   "metadata": {
    "colab_type": "text",
    "id": "r5TvbnT_Vp-u"
   },
   "source": [
    "# 5. Каково медианное значение длительности фильмов? "
   ]
  },
  {
   "cell_type": "code",
   "execution_count": 70,
   "metadata": {
    "colab": {},
    "colab_type": "code",
    "id": "iBROplKnVp-v"
   },
   "outputs": [],
   "source": [
    "answers['5'] = round(data.runtime.median())"
   ]
  },
  {
   "cell_type": "markdown",
   "metadata": {
    "colab_type": "text",
    "id": "39P-deDSVp-y"
   },
   "source": [
    "# 6. Какой самый прибыльный фильм?\n",
    "#### Внимание! Здесь и далее под «прибылью» или «убытками» понимается разность между сборами и бюджетом фильма. (прибыль = сборы - бюджет) в нашем датасете это будет (profit = revenue - budget) "
   ]
  },
  {
   "cell_type": "code",
   "execution_count": 71,
   "metadata": {
    "colab": {},
    "colab_type": "code",
    "id": "UYZh4T9WVp-y"
   },
   "outputs": [],
   "source": [
    "# лучше код получения столбца profit вынести в Предобработку что в начале\n",
    "\n",
    "# Как рекомендовано, создаем новый вычисляемый столбец profit\n",
    "data['profit'] = data.revenue - data.budget\n",
    "\n",
    "# записываем ответ по максисальному значению столбца profit\n",
    "answers['6'] = (str(data.original_title[data.profit.idxmax()]\n",
    "                + ' (' + data.imdb_id[data.profit.idxmax()] +')'))"
   ]
  },
  {
   "cell_type": "markdown",
   "metadata": {
    "colab_type": "text",
    "id": "M99JmIX4Vp-2"
   },
   "source": [
    "# 7. Какой фильм самый убыточный? "
   ]
  },
  {
   "cell_type": "code",
   "execution_count": 72,
   "metadata": {
    "colab": {},
    "colab_type": "code",
    "id": "w-D2m4XPVp-3"
   },
   "outputs": [],
   "source": [
    "# создаем новый вычисляемый столбец profit\n",
    "data['profit'] = data.revenue - data.budget\n",
    "\n",
    "# записываем ответ по минимальному значению столбца profit\n",
    "answers['7'] = (str(data.original_title[data.profit.idxmin()]\n",
    "                + ' (' + data.imdb_id[data.profit.idxmin()] +')'))"
   ]
  },
  {
   "cell_type": "markdown",
   "metadata": {
    "colab_type": "text",
    "id": "wEOM5ERVVp-6"
   },
   "source": [
    "# 8. У скольких фильмов из датасета объем сборов оказался выше бюджета?"
   ]
  },
  {
   "cell_type": "code",
   "execution_count": 73,
   "metadata": {
    "colab": {},
    "colab_type": "code",
    "id": "y00_7HD6Vp-7"
   },
   "outputs": [],
   "source": [
    "# создаем новый вычисляемый столбец profit\n",
    "data['profit'] = data.revenue - data.budget\n",
    "\n",
    "# определяем количество прибыльных фильмов \n",
    "answers['8'] = sum(data.profit > 0)"
   ]
  },
  {
   "cell_type": "markdown",
   "metadata": {
    "colab_type": "text",
    "id": "xhpspA9KVp_A"
   },
   "source": [
    "# 9. Какой фильм оказался самым кассовым в 2008 году?"
   ]
  },
  {
   "cell_type": "code",
   "execution_count": 74,
   "metadata": {
    "colab": {},
    "colab_type": "code",
    "id": "MoUyQr9RVp_B"
   },
   "outputs": [],
   "source": [
    "# создаем вспомагательный фрейм с фильмами 2008 года\n",
    "data9 = data[data.release_year == 2008]\n",
    "\n",
    "# записываем ответ по максисальному значению revenue\n",
    "answers['9'] = (str(data.original_title[data9.revenue.idxmax()]\n",
    "                + ' (' + data.imdb_id[data9.revenue.idxmax()] +')'))"
   ]
  },
  {
   "cell_type": "code",
   "execution_count": 75,
   "metadata": {},
   "outputs": [],
   "source": [
    "# + понятно, что можно уместить в одну строку (лаконичнее), но по мне так проще и нагляднее"
   ]
  },
  {
   "cell_type": "markdown",
   "metadata": {
    "colab_type": "text",
    "id": "Zi4hDKidVp_F"
   },
   "source": [
    "# 10. Самый убыточный фильм за период с 2012 по 2014 г. (включительно)?\n"
   ]
  },
  {
   "cell_type": "code",
   "execution_count": 77,
   "metadata": {
    "colab": {},
    "colab_type": "code",
    "id": "XqyRmufJVp_F"
   },
   "outputs": [],
   "source": [
    "# создаем вспомагательный фрейм с фильмами 2012  - 2014 года\n",
    "data10 = data[(data.release_year >= 2012) & (data.release_year <= 2014)]\n",
    "\n",
    "# записываем ответ по минимальному значению столбца profit\n",
    "answers['10'] = (str(data10.original_title[data10.profit.idxmin()]\n",
    "                      + ' (' + data10.imdb_id[data10.profit.idxmin()] +')'))"
   ]
  },
  {
   "cell_type": "markdown",
   "metadata": {
    "colab_type": "text",
    "id": "EA7Sa9dkVp_I"
   },
   "source": [
    "# 11. Какого жанра фильмов больше всего?"
   ]
  },
  {
   "cell_type": "code",
   "execution_count": 78,
   "metadata": {
    "colab": {},
    "colab_type": "code",
    "id": "zsJAwJ8QVp_J"
   },
   "outputs": [],
   "source": [
    "# эту задачу тоже можно решать разными подходами, попробуй реализовать разные варианты\n",
    "# если будешь добавлять функцию - выноси ее в предобработку что в начале\n",
    "data = pd.read_csv('movie_bd_v5.csv')\n",
    "\n",
    "# разделяем жанры \n",
    "data['genres'] = data['genres'].apply(lambda x:x.split('|'))\n",
    "\n",
    "# считаем какой чаще встречается и записываем в ответ\n",
    "answers['11'] = Counter(data.explode('genres')['genres']).most_common(1)[0][0]"
   ]
  },
  {
   "cell_type": "markdown",
   "metadata": {
    "colab_type": "text",
    "id": "Ax6g2C8SVp_M"
   },
   "source": [
    "ВАРИАНТ 2"
   ]
  },
  {
   "cell_type": "code",
   "execution_count": 79,
   "metadata": {
    "colab": {},
    "colab_type": "code",
    "id": "otO3SbrSVp_N"
   },
   "outputs": [],
   "source": [
    "data = pd.read_csv('movie_bd_v5.csv')\n",
    "# смысл примерно такой же, что и в варианте 1, но несколько лаконичнее.\n",
    "answers['11'] = pd.Series(data['genres'].str.cat(sep='|').split('|')).value_counts().index[0:1][0]"
   ]
  },
  {
   "cell_type": "markdown",
   "metadata": {
    "colab_type": "text",
    "id": "T9_bPWpkVp_Q"
   },
   "source": [
    "# 12. Фильмы какого жанра чаще всего становятся прибыльными? "
   ]
  },
  {
   "cell_type": "code",
   "execution_count": 80,
   "metadata": {
    "colab": {},
    "colab_type": "code",
    "id": "Tmt8MaK1Vp_R"
   },
   "outputs": [],
   "source": [
    "data = pd.read_csv('movie_bd_v5.csv')\n",
    "data['profit'] = data.revenue - data.budget\n",
    "# создаем вспомогательный фрейм для прибыльных фильмов\n",
    "data12 = data[data.profit > 0]\n",
    "\n",
    "# разделяем жанры, считаем какой чаще встречается и записываем в ответ\n",
    "answers['12'] = Counter(data12.genres.str.cat(sep = '|').split('|')).most_common(1)[0][0]"
   ]
  },
  {
   "cell_type": "markdown",
   "metadata": {
    "colab_type": "text",
    "id": "0F23bgsDVp_U"
   },
   "source": [
    "# 13. У какого режиссера самые большие суммарные кассовые сборы?"
   ]
  },
  {
   "cell_type": "code",
   "execution_count": 81,
   "metadata": {
    "colab": {},
    "colab_type": "code",
    "id": "K6Z3J8ygVp_X"
   },
   "outputs": [],
   "source": [
    "data = pd.read_csv('movie_bd_v5.csv')\n",
    "\n",
    "# разделяем режиссеров\n",
    "data['director'] = data['director'].apply(lambda x:x.split('|'))\n",
    "\n",
    "# \"взрываем\" по столбцу director, оставляя на строчку по одному ркжиссеру\n",
    "data = data.explode('director')\n",
    "\n",
    "# группируем по режиссеру, суммируем revenue, сортируем по убыванию, берем верхнего режиссера\n",
    "answers['13'] = data.groupby(['director'])['revenue'].sum().sort_values(ascending=False).index[0]"
   ]
  },
  {
   "cell_type": "markdown",
   "metadata": {
    "colab_type": "text",
    "id": "PsYC9FgRVp_a"
   },
   "source": [
    "# 14. Какой режисер снял больше всего фильмов в стиле Action?"
   ]
  },
  {
   "cell_type": "code",
   "execution_count": 82,
   "metadata": {
    "colab": {},
    "colab_type": "code",
    "id": "wd2M-wHeVp_b"
   },
   "outputs": [],
   "source": [
    "data = pd.read_csv('movie_bd_v5.csv')\n",
    "\n",
    "# создаем вспомогательный фрейм для фильмов в стиле Action\n",
    "data14 = data[data.genres.str.contains('Action', na = False)]\n",
    "\n",
    "# разделяем директоров, считаем какой чаще встречается и записываем в ответ\n",
    "answers['14'] = Counter(data14['director'].str.cat(sep = '|').split('|')).most_common(1)[0][0]"
   ]
  },
  {
   "cell_type": "markdown",
   "metadata": {
    "colab_type": "text",
    "id": "PQ0KciD7Vp_f"
   },
   "source": [
    "# 15. Фильмы с каким актером принесли самые высокие кассовые сборы в 2012 году? "
   ]
  },
  {
   "cell_type": "code",
   "execution_count": 83,
   "metadata": {
    "colab": {},
    "colab_type": "code",
    "id": "aga62oeKVp_g"
   },
   "outputs": [],
   "source": [
    "data = pd.read_csv('movie_bd_v5.csv')\n",
    "\n",
    "# создаем список актеров\n",
    "unique_cast = np.unique(data['cast'].str.cat(sep = '|').split('|'))\n",
    "\n",
    "# создаем серию с именами актерев в качестве индекса\n",
    "sum_revenue = pd.Series(index = unique_cast, dtype = 'float64')\n",
    "\n",
    "# суммируем кассовые сборы для фильмов 2012 года по актерам\n",
    "for i in sum_revenue.index:\n",
    "    sum_revenue[i] = data['revenue'][data['release_year']==2012][data['cast'].map(lambda x: True if i in x else False)].sum()\n",
    "\n",
    "# записываем в ответ актера (индекс) с максимальным значением кассовых сборов\n",
    "answers['15'] = sum_revenue[sum_revenue == sum_revenue.max()].index[0]"
   ]
  },
  {
   "cell_type": "markdown",
   "metadata": {
    "colab_type": "text",
    "id": "mWHyyL7QVp_j"
   },
   "source": [
    "# 16. Какой актер снялся в большем количестве высокобюджетных фильмов?"
   ]
  },
  {
   "cell_type": "code",
   "execution_count": 84,
   "metadata": {
    "colab": {},
    "colab_type": "code",
    "id": "qQtmHKTFVp_k"
   },
   "outputs": [],
   "source": [
    "data = pd.read_csv('movie_bd_v5.csv')\n",
    "\n",
    "# разделяем актеров\n",
    "data['cast'] = data['cast'].apply(lambda x:x.split('|'))\n",
    "\n",
    "# создаем хранилище высокобюджетных фильмов\n",
    "high_budgeted = data[data['budget'] > data.budget.mean()]\n",
    "\n",
    "# записываем в ответ какой актер в них чаще встречается\n",
    "answers['16'] = Counter(high_budgeted.explode('cast')['cast']).most_common(1)[0][0]"
   ]
  },
  {
   "cell_type": "markdown",
   "metadata": {
    "colab_type": "text",
    "id": "NIh6AaW5Vp_n"
   },
   "source": [
    "# 17. В фильмах какого жанра больше всего снимался Nicolas Cage? "
   ]
  },
  {
   "cell_type": "code",
   "execution_count": 85,
   "metadata": {
    "colab": {},
    "colab_type": "code",
    "id": "H74SJDIBVp_n"
   },
   "outputs": [],
   "source": [
    "data = pd.read_csv('movie_bd_v5.csv')\n",
    "\n",
    "# разделяем жанры\n",
    "data['genres'] = data['genres'].apply(lambda x:x.split('|'))\n",
    "\n",
    "# создаем вспомогательный фрейм фильмов, где снимался Nicolas Cage\n",
    "data17 = data[data.cast.str.contains('Nicolas Cage', na = False)]\n",
    "\n",
    "# записываем в ответ какой жанр чаще встречается\n",
    "answers['17'] = Counter(data17.explode('genres')['genres']).most_common(1)[0][0]"
   ]
  },
  {
   "cell_type": "markdown",
   "metadata": {
    "colab_type": "text",
    "id": "RqOmPRfWVp_q"
   },
   "source": [
    "# 18. Самый убыточный фильм от Paramount Pictures"
   ]
  },
  {
   "cell_type": "code",
   "execution_count": 86,
   "metadata": {
    "colab": {},
    "colab_type": "code",
    "id": "9E_B0Y96Vp_r"
   },
   "outputs": [],
   "source": [
    "data = pd.read_csv('movie_bd_v5.csv')\n",
    "\n",
    "# создаем новый вычисляемый столбец profit\n",
    "data['profit'] = data.revenue - data.budget\n",
    "\n",
    "# создаем вспомогательный фрейм фильмов, с участием Paramount Pictures\n",
    "data18 = data[data.production_companies.str.contains('Paramount Pictures', na = False)]\n",
    "\n",
    "# записываем в ответ название фильма от Paramount Pictures с минимальной прибыльюbv\n",
    "answers['18'] = data18[data18.profit == data18.profit.min()]['original_title'].iloc[0]"
   ]
  },
  {
   "cell_type": "markdown",
   "metadata": {
    "colab_type": "text",
    "id": "vS8Ur6ddVp_u"
   },
   "source": [
    "# 19. Какой год стал самым успешным по суммарным кассовым сборам?"
   ]
  },
  {
   "cell_type": "code",
   "execution_count": 87,
   "metadata": {
    "colab": {},
    "colab_type": "code",
    "id": "Dnbt4GdIVp_v"
   },
   "outputs": [],
   "source": [
    "data = pd.read_csv('movie_bd_v5.csv')\n",
    "\n",
    "# группируем по году,суммируем revenue, берем максимальное\n",
    "answers['19'] = data.groupby(['release_year'])['revenue'].sum().idxmax()"
   ]
  },
  {
   "cell_type": "markdown",
   "metadata": {
    "colab_type": "text",
    "id": "JAzJh4QAVp_z"
   },
   "source": [
    "# 20. Какой самый прибыльный год для студии Warner Bros?"
   ]
  },
  {
   "cell_type": "code",
   "execution_count": 88,
   "metadata": {
    "colab": {},
    "colab_type": "code",
    "id": "wgVu02DEVp_0"
   },
   "outputs": [],
   "source": [
    "data = pd.read_csv('movie_bd_v5.csv')\n",
    "\n",
    "# создаем новый вычисляемый столбец profit\n",
    "data['profit'] = data.revenue - data.budget\n",
    "\n",
    "# создаем вспомогательный фрейм фильмов, с участием Warner Bros\n",
    "data20 = data[data.production_companies.str.contains('Warner Bros', na = False)]\n",
    "\n",
    "# группируем по году,суммируем прибыль, берем максимальную, год записываем в ответ\n",
    "answers['20'] = data20.groupby(['release_year'])['profit'].sum().idxmax()"
   ]
  },
  {
   "cell_type": "markdown",
   "metadata": {
    "colab_type": "text",
    "id": "8Im1S2HRVp_4"
   },
   "source": [
    "# 21. В каком месяце за все годы суммарно вышло больше всего фильмов?"
   ]
  },
  {
   "cell_type": "code",
   "execution_count": 89,
   "metadata": {
    "colab": {},
    "colab_type": "code",
    "id": "lev6TH7gVp_4"
   },
   "outputs": [],
   "source": [
    "data = pd.read_csv('movie_bd_v5.csv')\n",
    "\n",
    "month = {'1':'Январь', '2':'Февраль', '3':'Март', '4':'Апрель',\n",
    "         '5':'Май', '6':'Июнь', '7':'Июль', '8':'Август',\n",
    "         '9':'Сентябрь', '10':'Октябрь', '11':'Ноябрь', '12':'Декабрь'}\n",
    "\n",
    "# разделяем дату выхода фильма по месяцам, дням, годам\n",
    "data['release_date']=data['release_date'].apply(lambda x: x.split('/'))\n",
    "\n",
    "# берем первый элемент (месяц) и записываем в новый столбец - month\n",
    "data['month']=data['release_date'].apply(lambda x: x[0])\n",
    "\n",
    "# суммируем фильмы по месяцам, берем максимальное значение и записываем этот месяц в ответ\n",
    "answers['21'] = month[data['month'].value_counts().idxmax()]"
   ]
  },
  {
   "cell_type": "markdown",
   "metadata": {
    "colab_type": "text",
    "id": "uAJsZ_NeVp_7"
   },
   "source": [
    "# 22. Сколько суммарно вышло фильмов летом? (за июнь, июль, август)"
   ]
  },
  {
   "cell_type": "code",
   "execution_count": 90,
   "metadata": {
    "colab": {},
    "colab_type": "code",
    "id": "Aa-hEREoVp_8"
   },
   "outputs": [],
   "source": [
    "data = pd.read_csv('movie_bd_v5.csv')\n",
    "\n",
    "# список летних месяцев\n",
    "summer = ['6', '7', '8']\n",
    "\n",
    "# разделяем дату выхода фильма по месяцам, дням, годам\n",
    "data['release_date']=data['release_date'].apply(lambda x: x.split('/'))\n",
    "\n",
    "# берем первый элемент (месяц) и записываем в новый столбец - month\n",
    "data['month']=data['release_date'].apply(lambda x: x[0])\n",
    "\n",
    "# суммируем фильмы вышедшие в летние месяцы\n",
    "summer_sum = 0\n",
    "for s_month in summer:\n",
    "    summer_sum += data['month'].value_counts()[s_month]\n",
    "\n",
    "answers['22'] = summer_sum"
   ]
  },
  {
   "cell_type": "markdown",
   "metadata": {
    "colab_type": "text",
    "id": "G94ppOY1VqAA"
   },
   "source": [
    "# 23. Для какого режиссера зима – самое продуктивное время года? "
   ]
  },
  {
   "cell_type": "code",
   "execution_count": 91,
   "metadata": {
    "colab": {},
    "colab_type": "code",
    "id": "RhNTsamuVqAB"
   },
   "outputs": [],
   "source": [
    "data = pd.read_csv('movie_bd_v5.csv')\n",
    "\n",
    "# по аналогии с предыдущими заданиями: разделяем режиссеров, разделяем дату, берем месяц\n",
    "data['director'] = data['director'].apply(lambda x:x.split('|'))\n",
    "data['release_date']=data['release_date'].apply(lambda x: x.split('/'))\n",
    "data['month']=data['release_date'].apply(lambda x: x[0])\n",
    "\n",
    "winter = ['12', '1', '2']\n",
    "\n",
    "# создаем вспомагательный фрейм для фильмов вышедших зимой\n",
    "data23 = data[data['month'].isin(winter)]\n",
    "\n",
    "# определяем самого часто встречающегося режиссера\n",
    "answers['23'] = data23['director'].value_counts().idxmax(1)[0]"
   ]
  },
  {
   "cell_type": "markdown",
   "metadata": {
    "colab_type": "text",
    "id": "RBo0JVjVVqAF"
   },
   "source": [
    "# 24. Какая студия дает самые длинные названия своим фильмам по количеству символов?"
   ]
  },
  {
   "cell_type": "code",
   "execution_count": 92,
   "metadata": {
    "colab": {},
    "colab_type": "code",
    "id": "QRGS8L0iVqAG"
   },
   "outputs": [],
   "source": [
    "data = pd.read_csv('movie_bd_v5.csv')\n",
    "\n",
    "# создаем поле для рассчета длины названия\n",
    "data['len_title'] = data.original_title.apply(lambda x: len(x))\n",
    "\n",
    "# добавляем новую колонку \"взорванную\" по компаниям\n",
    "data24 = data.assign(company = data['production_companies'].str.split('|')).explode('company')\n",
    "\n",
    "# находим компанию, у которой средняя длина названия фильмов максимальна\n",
    "answers['24'] = data24.groupby(['company']).mean().idxmax()['len_title']"
   ]
  },
  {
   "cell_type": "markdown",
   "metadata": {
    "colab_type": "text",
    "id": "9G0hbvR7VqAK"
   },
   "source": [
    "# 25. Описание фильмов какой студии в среднем самые длинные по количеству слов?"
   ]
  },
  {
   "cell_type": "code",
   "execution_count": 93,
   "metadata": {
    "colab": {},
    "colab_type": "code",
    "id": "Ge2GsLNxVqAK"
   },
   "outputs": [],
   "source": [
    "data = pd.read_csv('movie_bd_v5.csv')\n",
    "\n",
    "# создаем поле для рассчета длины описания\n",
    "data['len_overview'] = data.overview.apply(lambda x: len(x))\n",
    "\n",
    "# добавляем новую колонку \"взорванную\" по компаниям\n",
    "data25 = data.assign(company = data['production_companies'].str.split('|')).explode('company')\n",
    "\n",
    "# находим компанию, у которой средняя длина описания к фильмам максимальна по количеству слов\n",
    "answers['25'] = data25.groupby(['company']).mean().idxmax()['len_overview']"
   ]
  },
  {
   "cell_type": "markdown",
   "metadata": {
    "colab_type": "text",
    "id": "FJ1AFt90VqAP"
   },
   "source": [
    "# 26. Какие фильмы входят в 1 процент лучших по рейтингу? \n",
    "по vote_average"
   ]
  },
  {
   "cell_type": "code",
   "execution_count": 94,
   "metadata": {},
   "outputs": [],
   "source": [
    "data = pd.read_csv('movie_bd_v5.csv')\n",
    "\n",
    "# рассчитываем 1 процент\n",
    "number = int(round(data['vote_average'].count()/100))\n",
    "\n",
    "# сортируем по vote_average по убыванию, берем 1% и пишем в список\n",
    "answers['26'] = data.sort_values(by = 'vote_average', ascending=False).head(number).original_title.tolist()\n",
    "\n",
    "# Комментарий: По моему из буквы задания следует найти, все-таки, процент нормализованный по рейтингу.\n",
    "# Напрашивается решение через квантили или процентили.\n",
    "# Но в вариантах ответов такого нет и из ответов модераторов следует, что решение должно быть, вероятно, такое."
   ]
  },
  {
   "cell_type": "markdown",
   "metadata": {
    "colab_type": "text",
    "id": "MdXsUXbCVqAV"
   },
   "source": [
    "# 27. Какие актеры чаще всего снимаются в одном фильме вместе?\n"
   ]
  },
  {
   "cell_type": "markdown",
   "metadata": {
    "colab_type": "text",
    "id": "4ymnxEVoVqAW"
   },
   "source": [
    "ВАРИАНТ 2"
   ]
  },
  {
   "cell_type": "code",
   "execution_count": 98,
   "metadata": {},
   "outputs": [],
   "source": [
    "data = pd.read_csv('movie_bd_v5.csv')\n",
    "data['cast'] = data['cast'].str.split('|')\n",
    "\n",
    "# создаем колонку 'pairs', определяем комбинации по парам и записываем\n",
    "data['pairs'] = data['cast'].apply(lambda x: list(combinations(x, 2)))\n",
    "\n",
    "# \"взрываем\" колонку 'pairs', чтобы в ней содержалось лишь одно значение пары, остальные голонки дублируются.\n",
    "data = data.explode('pairs')\n",
    "\n",
    "# находим самую часто встречающуюся пару, птшем в ответ\n",
    "answers ['27'] = Counter(data['pairs']).most_common(1)[0][0]"
   ]
  },
  {
   "cell_type": "markdown",
   "metadata": {
    "colab_type": "text",
    "id": "U0nONFnGVqAX"
   },
   "source": [
    "# Submission"
   ]
  },
  {
   "cell_type": "code",
   "execution_count": 99,
   "metadata": {
    "colab": {},
    "colab_type": "code",
    "id": "IfcaRO9-VqAX",
    "outputId": "0f132912-32bb-4196-c98c-abfbc4ad5a5f"
   },
   "outputs": [
    {
     "data": {
      "text/plain": [
       "{'1': 'Pirates of the Caribbean: On Stranger Tides (tt1298650)',\n",
       " '2': 'Gods and Generals (tt0279111)',\n",
       " '3': 'Winnie the Pooh (tt1449283)',\n",
       " '4': 110,\n",
       " '5': 107,\n",
       " '6': 'Avatar (tt0499549)',\n",
       " '7': 'The Lone Ranger (tt1210819)',\n",
       " '8': 1478,\n",
       " '9': 'The Dark Knight (tt0468569)',\n",
       " '10': 'The Lone Ranger (tt1210819)',\n",
       " '11': 'Drama',\n",
       " '12': 'Drama',\n",
       " '13': 'Peter Jackson',\n",
       " '14': 'Robert Rodriguez',\n",
       " '15': 'Chris Hemsworth',\n",
       " '16': 'Matt Damon',\n",
       " '17': 'Action',\n",
       " '18': 'K-19: The Widowmaker',\n",
       " '19': 2015,\n",
       " '20': 2014,\n",
       " '21': 'Сентябрь',\n",
       " '22': 450,\n",
       " '23': 'Peter Jackson',\n",
       " '24': 'Four By Two Productions',\n",
       " '25': 'Midnight Picture Show',\n",
       " '26': ['The Dark Knight',\n",
       "  'Interstellar',\n",
       "  'The Imitation Game',\n",
       "  'Inside Out',\n",
       "  'Room',\n",
       "  'The Wolf of Wall Street',\n",
       "  'Gone Girl',\n",
       "  '12 Years a Slave',\n",
       "  'Guardians of the Galaxy',\n",
       "  'The Lord of the Rings: The Return of the King',\n",
       "  'Memento',\n",
       "  'Inception',\n",
       "  'The Pianist',\n",
       "  'The Grand Budapest Hotel',\n",
       "  'Her',\n",
       "  'Spotlight',\n",
       "  'Big Hero 6',\n",
       "  'The Fault in Our Stars',\n",
       "  'The Lord of the Rings: The Two Towers'],\n",
       " '27': ('Daniel Radcliffe', 'Rupert Grint')}"
      ]
     },
     "execution_count": 99,
     "metadata": {},
     "output_type": "execute_result"
    }
   ],
   "source": [
    "# в конце можно посмотреть свои ответы к каждому вопросу\n",
    "answers"
   ]
  },
  {
   "cell_type": "code",
   "execution_count": 100,
   "metadata": {
    "colab": {},
    "colab_type": "code",
    "id": "SiRmHPl8VqAd"
   },
   "outputs": [
    {
     "data": {
      "text/plain": [
       "27"
      ]
     },
     "execution_count": 100,
     "metadata": {},
     "output_type": "execute_result"
    }
   ],
   "source": [
    "# и убедиться что ни чего не пропустил)\n",
    "len(answers)"
   ]
  },
  {
   "cell_type": "code",
   "execution_count": 0,
   "metadata": {
    "colab": {},
    "colab_type": "code",
    "id": "Vwx3NrkSVqAl"
   },
   "outputs": [],
   "source": []
  }
 ],
 "metadata": {
  "colab": {
   "name": "Copy of [SF-DST] Movies IMBD v4.1 TEMPLATE.ipynb",
   "provenance": []
  },
  "kernelspec": {
   "display_name": "Python 3",
   "language": "python",
   "name": "python3"
  },
  "language_info": {
   "codemirror_mode": {
    "name": "ipython",
    "version": 3
   },
   "file_extension": ".py",
   "mimetype": "text/x-python",
   "name": "python",
   "nbconvert_exporter": "python",
   "pygments_lexer": "ipython3",
   "version": "3.8.3"
  }
 },
 "nbformat": 4,
 "nbformat_minor": 1
}
